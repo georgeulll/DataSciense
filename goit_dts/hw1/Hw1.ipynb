{
 "cells": [
  {
   "cell_type": "code",
   "execution_count": 5,
   "id": "36e61c56",
   "metadata": {},
   "outputs": [],
   "source": [
    "import numpy as np\n",
    "rng = np.random.default_rng()"
   ]
  },
  {
   "cell_type": "code",
   "execution_count": 2,
   "id": "f49ca4de",
   "metadata": {
    "scrolled": true
   },
   "outputs": [
    {
     "name": "stdout",
     "output_type": "stream",
     "text": [
      "[ 1  2  3  4  5  6  7  8  9 10]\n"
     ]
    }
   ],
   "source": [
    "a = np.arange(1, 11, 1)\n",
    "print(a)"
   ]
  },
  {
   "cell_type": "code",
   "execution_count": 3,
   "id": "e2dcfb2d",
   "metadata": {},
   "outputs": [
    {
     "name": "stdout",
     "output_type": "stream",
     "text": [
      "[[0. 0. 0.]\n",
      " [0. 0. 0.]\n",
      " [0. 0. 0.]]\n"
     ]
    }
   ],
   "source": [
    "b = np.zeros((3, 3))\n",
    "print(b)"
   ]
  },
  {
   "cell_type": "code",
   "execution_count": 4,
   "id": "da20993b",
   "metadata": {
    "scrolled": false
   },
   "outputs": [
    {
     "name": "stdout",
     "output_type": "stream",
     "text": [
      "[[ 7  6  9  6  8]\n",
      " [10  5  9  4  2]\n",
      " [ 3  6  9 10  2]\n",
      " [ 8  9  7  9  1]\n",
      " [ 7  6 10  9  7]]\n"
     ]
    }
   ],
   "source": [
    "c = rng.integers(low=1, high=10, endpoint=True, size=(5, 5))\n",
    "print(c)"
   ]
  },
  {
   "cell_type": "code",
   "execution_count": 5,
   "id": "befbdb13",
   "metadata": {},
   "outputs": [
    {
     "name": "stdout",
     "output_type": "stream",
     "text": [
      "[[0.81812486 0.6779126  0.30750874 0.13539748]\n",
      " [0.86439589 0.17901306 0.23451701 0.17786441]\n",
      " [0.93212696 0.3378096  0.75214223 0.89128444]\n",
      " [0.21637508 0.06542817 0.93272422 0.6875785 ]]\n"
     ]
    }
   ],
   "source": [
    "d = rng.random((4, 4))\n",
    "print(d)"
   ]
  },
  {
   "cell_type": "code",
   "execution_count": 6,
   "id": "1f54263e",
   "metadata": {},
   "outputs": [
    {
     "name": "stdout",
     "output_type": "stream",
     "text": [
      "[ 7 10  4  1  9] [10  8  2  1  4]\n",
      "Add: [17 18  6  2 13]\n",
      "Sub: [-3  2  2  0  5]\n",
      "Mult: [70 80  8  1 36]\n"
     ]
    }
   ],
   "source": [
    "e_1 = rng.integers(low=1, high=10, endpoint=True, size=(5))\n",
    "e_2 = rng.integers(low=1, high=10, endpoint=True, size=(5))\n",
    "print(e_1, e_2)\n",
    "add_e = e_1 + e_2\n",
    "print(\"Add:\", add_e)\n",
    "sub_e = e_1 - e_2\n",
    "print(\"Sub:\", sub_e)\n",
    "mult_e = e_1 * e_2\n",
    "print(\"Mult:\", mult_e)"
   ]
  },
  {
   "cell_type": "code",
   "execution_count": 7,
   "id": "53380f61",
   "metadata": {},
   "outputs": [
    {
     "name": "stdout",
     "output_type": "stream",
     "text": [
      "10\n"
     ]
    }
   ],
   "source": [
    "f_1 = np.array([1, 2, 3])\n",
    "f_2 = np.array([3, 2, 1])\n",
    "print(np.dot(f_1, f_2))"
   ]
  },
  {
   "cell_type": "code",
   "execution_count": 8,
   "id": "32200979",
   "metadata": {},
   "outputs": [
    {
     "name": "stdout",
     "output_type": "stream",
     "text": [
      "[[ 9 10]\n",
      " [ 7  6]]\n",
      "[[3 8 7]\n",
      " [9 3 2]]\n",
      "[[117 102  83]\n",
      " [ 75  74  61]]\n"
     ]
    }
   ],
   "source": [
    "g_1 = rng.integers(low=1, high=10, endpoint=True, size=(2, 2))\n",
    "g_2 = rng.integers(low=1, high=10, endpoint=True, size=(2, 3))\n",
    "print(g_1)\n",
    "print(g_2)\n",
    "print(np.dot(g_1, g_2))"
   ]
  },
  {
   "cell_type": "code",
   "execution_count": 12,
   "id": "10f0f443",
   "metadata": {
    "scrolled": true
   },
   "outputs": [
    {
     "name": "stdout",
     "output_type": "stream",
     "text": [
      "[[2 4 1]\n",
      " [1 1 4]\n",
      " [9 8 8]]\n",
      "[[-0.38095238 -0.38095238  0.23809524]\n",
      " [ 0.44444444  0.11111111 -0.11111111]\n",
      " [-0.01587302  0.31746032 -0.03174603]]\n",
      "[[ 1.  0.  0.]\n",
      " [-0.  1.  0.]\n",
      " [-0.  0.  1.]]\n"
     ]
    }
   ],
   "source": [
    "h = rng.integers(low=1, high=10, endpoint=True, size=(3, 3))\n",
    "h_inv = np.linalg.inv(h)\n",
    "print(h)\n",
    "print(h_inv)\n",
    "print(np.dot(h, h_inv).round(2))"
   ]
  },
  {
   "cell_type": "code",
   "execution_count": 10,
   "id": "3210b8ef",
   "metadata": {},
   "outputs": [
    {
     "name": "stdout",
     "output_type": "stream",
     "text": [
      "[[0.16272376 0.29196216 0.23829614 0.50913997]\n",
      " [0.28064709 0.89784533 0.06007844 0.76606512]\n",
      " [0.33582726 0.3312347  0.90213262 0.50483691]\n",
      " [0.05848079 0.16313962 0.22387616 0.60633809]]\n",
      "[[0.16272376 0.28064709 0.33582726 0.05848079]\n",
      " [0.29196216 0.89784533 0.3312347  0.16313962]\n",
      " [0.23829614 0.06007844 0.90213262 0.22387616]\n",
      " [0.50913997 0.76606512 0.50483691 0.60633809]]\n"
     ]
    }
   ],
   "source": [
    "i = rng.random((4, 4))\n",
    "i_t = i.T\n",
    "print(i)\n",
    "print(i_t)"
   ]
  },
  {
   "cell_type": "code",
   "execution_count": 11,
   "id": "8b6a35a3",
   "metadata": {},
   "outputs": [
    {
     "name": "stdout",
     "output_type": "stream",
     "text": [
      "[[ 5  2  2  2]\n",
      " [ 7 10  3 10]\n",
      " [ 7  6  7  5]]\n",
      "[4 7 2 7]\n",
      "[ 52 174 119]\n"
     ]
    }
   ],
   "source": [
    "j_1 = rng.integers(low=1, high=10, endpoint=True, size=(3, 4))\n",
    "j_2 = rng.integers(low=1, high=10, endpoint=True, size=(4))\n",
    "print(j_1)\n",
    "print(j_2)\n",
    "print(np.dot(j_1, j_2))"
   ]
  },
  {
   "cell_type": "code",
   "execution_count": 12,
   "id": "05f4a4ad",
   "metadata": {},
   "outputs": [
    {
     "name": "stdout",
     "output_type": "stream",
     "text": [
      "[[0.14337827 0.91415616 0.57768203]\n",
      " [0.36020144 0.60937124 0.56505575]]\n",
      "[0.18326841 0.44455911 0.91509987]\n",
      "[0.96130991 0.85399752]\n"
     ]
    }
   ],
   "source": [
    "k_1 = rng.random((2, 3))\n",
    "k_2 = rng.random((3))\n",
    "print(k_1)\n",
    "print(k_2)\n",
    "print(np.dot(k_1, k_2))"
   ]
  },
  {
   "cell_type": "code",
   "execution_count": 13,
   "id": "e1913f4e",
   "metadata": {},
   "outputs": [
    {
     "name": "stdout",
     "output_type": "stream",
     "text": [
      "[[8 1]\n",
      " [2 9]]\n",
      "[[9 5]\n",
      " [2 1]]\n",
      "[[72  5]\n",
      " [ 4  9]]\n"
     ]
    }
   ],
   "source": [
    "l_1 = rng.integers(low=1, high=10, endpoint=True, size=(2, 2))\n",
    "l_2 = rng.integers(low=1, high=10, endpoint=True, size=(2, 2))\n",
    "print(l_1)\n",
    "print(l_2)\n",
    "print(l_1 * l_2)"
   ]
  },
  {
   "cell_type": "code",
   "execution_count": 14,
   "id": "0f57f84d",
   "metadata": {},
   "outputs": [
    {
     "name": "stdout",
     "output_type": "stream",
     "text": [
      "[[6 3]\n",
      " [8 2]]\n",
      "[[9 2]\n",
      " [8 8]]\n",
      "[[78 36]\n",
      " [88 32]]\n"
     ]
    }
   ],
   "source": [
    "m_1 = rng.integers(low=1, high=10, endpoint=True, size=(2, 2))\n",
    "m_2 = rng.integers(low=1, high=10, endpoint=True, size=(2, 2))\n",
    "print(m_1)\n",
    "print(m_2)\n",
    "print(np.dot(m_1, m_2))"
   ]
  },
  {
   "cell_type": "code",
   "execution_count": 15,
   "id": "7182d47f",
   "metadata": {},
   "outputs": [
    {
     "name": "stdout",
     "output_type": "stream",
     "text": [
      "[[66 62 41 90 64]\n",
      " [12 82 59 95 40]\n",
      " [ 6 24 56 94 24]\n",
      " [46 91 11 45 19]\n",
      " [44 96 25 32 60]]\n",
      "1284\n"
     ]
    }
   ],
   "source": [
    "n = rng.integers(low=1, high=100, endpoint=True, size=(5, 5))\n",
    "print(n)\n",
    "print(n.sum())"
   ]
  },
  {
   "cell_type": "code",
   "execution_count": 17,
   "id": "9dfc6e69",
   "metadata": {},
   "outputs": [
    {
     "name": "stdout",
     "output_type": "stream",
     "text": [
      "[[5 3]\n",
      " [7 9]]\n",
      "[[9 9]\n",
      " [5 2]]\n",
      "[[-4 -6]\n",
      " [ 2  7]]\n"
     ]
    }
   ],
   "source": [
    "o_1 = rng.integers(low=1, high=10, endpoint=True, size=(2, 2))\n",
    "o_2 = n = rng.integers(low=1, high=10, endpoint=True, size=(2, 2))\n",
    "print(o_1)\n",
    "print(o_2)\n",
    "print(o_1 - o_2)"
   ]
  },
  {
   "cell_type": "code",
   "execution_count": 29,
   "id": "3dfbddec",
   "metadata": {
    "scrolled": true
   },
   "outputs": [
    {
     "name": "stdout",
     "output_type": "stream",
     "text": [
      "[[0.213298   0.88876501 0.38800877]\n",
      " [0.31980837 0.99825703 0.66847815]\n",
      " [0.65414432 0.77867267 0.33940336]]\n",
      "[[1.49007178]\n",
      " [1.98654354]\n",
      " [1.77222035]]\n"
     ]
    }
   ],
   "source": [
    "p = rng.random((3,3))\n",
    "print(p)\n",
    "res = np.array([sum(p[i]) for i in range(p.shape[0])]).reshape(p.shape[1], 1)\n",
    "print(res)"
   ]
  },
  {
   "cell_type": "code",
   "execution_count": 37,
   "id": "7629e663",
   "metadata": {},
   "outputs": [
    {
     "name": "stdout",
     "output_type": "stream",
     "text": [
      "[[ 7  2  7  1]\n",
      " [10  1  2  6]\n",
      " [ 4  1  3  3]]\n",
      "[[ 49   4  49   1]\n",
      " [100   1   4  36]\n",
      " [ 16   1   9   9]]\n"
     ]
    }
   ],
   "source": [
    "t = rng.integers(low=1, high=10, endpoint=True, size=(3, 4))\n",
    "print(t)\n",
    "res_t = t.copy()\n",
    "for i in range(res_t.shape[0]):\n",
    "    for j in range(res_t.shape[1]):\n",
    "        res_t[i][j] = pow(t[i][j], 2)\n",
    "print(res_t)        "
   ]
  },
  {
   "cell_type": "code",
   "execution_count": 43,
   "id": "dbb0743c",
   "metadata": {},
   "outputs": [
    {
     "name": "stdout",
     "output_type": "stream",
     "text": [
      "[29 49 19 34]\n",
      "[5.385 7.    4.359 5.831]\n"
     ]
    }
   ],
   "source": [
    "s = rng.integers(low=1, high=50, endpoint=True, size=(4))\n",
    "print(s)\n",
    "res_s = s.copy()\n",
    "res_s = np.array([pow(res_s[i], 0.5) for i in range(res_s.shape[0])])\n",
    "print(res_s.round(3))"
   ]
  },
  {
   "cell_type": "code",
   "execution_count": null,
   "id": "914eb3c7",
   "metadata": {},
   "outputs": [],
   "source": []
  }
 ],
 "metadata": {
  "kernelspec": {
   "display_name": "Python 3 (ipykernel)",
   "language": "python",
   "name": "python3"
  },
  "language_info": {
   "codemirror_mode": {
    "name": "ipython",
    "version": 3
   },
   "file_extension": ".py",
   "mimetype": "text/x-python",
   "name": "python",
   "nbconvert_exporter": "python",
   "pygments_lexer": "ipython3",
   "version": "3.10.8"
  }
 },
 "nbformat": 4,
 "nbformat_minor": 5
}
