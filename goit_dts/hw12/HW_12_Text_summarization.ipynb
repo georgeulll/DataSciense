{
  "nbformat": 4,
  "nbformat_minor": 0,
  "metadata": {
    "colab": {
      "provenance": [],
      "authorship_tag": "ABX9TyO90+Ve+AQ5gx/z5ndA2mrz",
      "include_colab_link": true
    },
    "kernelspec": {
      "name": "python3",
      "display_name": "Python 3"
    },
    "language_info": {
      "name": "python"
    }
  },
  "cells": [
    {
      "cell_type": "markdown",
      "metadata": {
        "id": "view-in-github",
        "colab_type": "text"
      },
      "source": [
        "<a href=\"https://colab.research.google.com/github/PIRomanCod/DataSciense_HW/blob/main/HW_12_Text_summarization.ipynb\" target=\"_parent\"><img src=\"https://colab.research.google.com/assets/colab-badge.svg\" alt=\"Open In Colab\"/></a>"
      ]
    },
    {
      "cell_type": "markdown",
      "source": [
        "# Зробіть summary нижчевказаного тексту використовуючи бібліотеки для NLP: nltk та SpaCy"
      ],
      "metadata": {
        "id": "-g7GiGa4HVIb"
      }
    },
    {
      "cell_type": "markdown",
      "source": [
        "## Імпорти та налаштування"
      ],
      "metadata": {
        "id": "n4VIUhJ03To2"
      }
    },
    {
      "cell_type": "code",
      "source": [
        "import string\n",
        "\n",
        "import spacy\n",
        "\n",
        "import nltk\n",
        "from nltk.corpus import stopwords\n",
        "from nltk.tokenize import word_tokenize, sent_tokenize\n",
        "\n",
        "from heapq import nlargest"
      ],
      "metadata": {
        "id": "76tMsygLH9UT"
      },
      "execution_count": 1,
      "outputs": []
    },
    {
      "cell_type": "code",
      "source": [
        "nltk.download('punkt')"
      ],
      "metadata": {
        "colab": {
          "base_uri": "https://localhost:8080/"
        },
        "id": "KPhhrTRZJACv",
        "outputId": "9498e3da-18c4-4930-aab8-85bb4f3dfbf5"
      },
      "execution_count": 2,
      "outputs": [
        {
          "output_type": "stream",
          "name": "stderr",
          "text": [
            "[nltk_data] Downloading package punkt to /root/nltk_data...\n",
            "[nltk_data]   Unzipping tokenizers/punkt.zip.\n"
          ]
        },
        {
          "output_type": "execute_result",
          "data": {
            "text/plain": [
              "True"
            ]
          },
          "metadata": {},
          "execution_count": 2
        }
      ]
    },
    {
      "cell_type": "code",
      "source": [
        "nltk.download('stopwords')"
      ],
      "metadata": {
        "colab": {
          "base_uri": "https://localhost:8080/"
        },
        "id": "QKjeVP0kJFb0",
        "outputId": "c8e95b23-a5e0-411d-d788-4c68bc004f4a"
      },
      "execution_count": 3,
      "outputs": [
        {
          "output_type": "stream",
          "name": "stderr",
          "text": [
            "[nltk_data] Downloading package stopwords to /root/nltk_data...\n",
            "[nltk_data]   Unzipping corpora/stopwords.zip.\n"
          ]
        },
        {
          "output_type": "execute_result",
          "data": {
            "text/plain": [
              "True"
            ]
          },
          "metadata": {},
          "execution_count": 3
        }
      ]
    },
    {
      "cell_type": "code",
      "source": [
        "text= \"The Orbiter Discovery, OV-103, is considered eligible for listing in the National Register of Historic Places (NRHP) in the context of the U.S. Space Shuttle Program (1969-2011) under Criterion A in the areas of Space Exploration and Transportation and under Criterion C in the area of Engineering. Because it has achieved significance within the past fifty years, Criteria Consideration G applies. Under Criterion A, Discovery is significant as the oldest of the three extant orbiter vehicles constructed for the Space Shuttle Program (SSP), the longest running American space program to date; she was the third of five orbiters built by NASA. Unlike the Mercury, Gemini, and Apollo programs, the SSP’s emphasis was on cost effectiveness and reusability, and eventually the construction of a space station. Including her maiden voyage (launched August 30, 1984), Discovery flew to space thirty-nine times, more than any of the other four orbiters; she was also the first orbiter to fly twenty missions. She had the honor of being chosen as the Return to Flight vehicle after both the Challenger and Columbia accidents.  Discovery was the first shuttle to fly with the redesigned SRBs, a result of the Challenger accident, and the first shuttle to fly with the Phase II and Block I SSME. Discovery also carried the Hubble Space Telescope to orbit and performed two of the five servicing missions to the observatory. She flew the first and last dedicated Department of Defense (DoD) missions, as well as the first unclassified defense-related mission. In addition, Discovery was vital to the construction of the International Space Station (ISS); she flew thirteen of the thirty-seven total missions flown to the station by a U.S. Space Shuttle. She was the first orbiter to dock to the ISS, and the first to perform an exchange of a resident crew. Under Criterion C, Discovery is significant as a feat of engineering. According to Wayne Hale, a flight director from Johnson Space Center, the Space Shuttle orbiter represents a “huge technological leap from expendable rockets and capsules to a reusable, winged, hypersonic, cargo-carrying spacecraft.” Although her base structure followed a conventional aircraft design, she used advanced materials that both minimized her weight for cargo-carrying purposes and featured low thermal expansion ratios, which provided a stable base for her Thermal Protection System (TPS) materials. The Space Shuttle orbiter also featured the first reusable TPS; all previous spaceflight vehicles had a single-use, ablative heat shield. Other notable engineering achievements of the orbiter included the first reusable orbital propulsion system, and the first two-fault-tolerant Integrated Avionics System. As Hale stated, the Space Shuttle remains “the largest, fastest, winged hypersonic aircraft in history,” having regularly flown at twenty-five times the speed of sound.\""
      ],
      "metadata": {
        "id": "HuCidYG3rMLM"
      },
      "execution_count": 4,
      "outputs": []
    },
    {
      "cell_type": "code",
      "source": [
        "text2 = \"\"\"Высота башни составляет 324 метра (1063 фута), примерно такая же высота, как у 81-этажного здания, и самое высокое сооружение в Париже. Его основание квадратно, размером 125 метров (410 футов) с любой стороны. Во время строительства Эйфелева башня превзошла монумент Вашингтона, став самым высоким искусственным сооружением в мире, и этот титул она удерживала в течение 41 года до завершения строительство здания Крайслер в Нью-Йорке в 1930 году. Это первое сооружение которое достигло высоты 300 метров. Из-за добавления вещательной антенны на вершине башни в 1957 году она сейчас выше здания Крайслер на 5,2 метра (17 футов). За исключением передатчиков, Эйфелева башня является второй самой высокой отдельно стоящей структурой во Франции после виадука Мийо.\"\"\"\n",
        "text3 = \"\"\"\n",
        "15 листопада чисельність населення Землі досягла восьми мільярдів, повідомляє ООН. Зазначають, що нашій планеті знадобилося лише 11 років, щоб вирости з семи до восьми мільярдів. Таке зростання ООН пояснила поступовим збільшенням тривалості життя людини завдяки поліпшенню охорони здоров'я, харчування, особистої гігієни та медицини. Це також результат високого та постійного рівня народжуваності в деяких країнах.\n",
        "\"\"\"\n",
        "text4 = \"\"\"Videos that say approved vaccines are dangerous and cause autism, cancer or infertility are among those that will be taken down, the company said.  The policy includes the termination of accounts of anti-vaccine influencers.  Tech giants have been criticised for not doing more to counter false health information on their sites.  In July, US President Joe Biden said social media platforms were largely responsible for people's scepticism in getting vaccinated by spreading misinformation, and appealed for them to address the issue.  YouTube, which is owned by Google, said 130,000 videos were removed from its platform since last year, when it implemented a ban on content spreading misinformation about Covid vaccines.  In a blog post, the company said it had seen false claims about Covid jabs \"spill over into misinformation about vaccines in general\". The new policy covers long-approved vaccines, such as those against measles or hepatitis B.  \"We're expanding our medical misinformation policies on YouTube with new guidelines on currently administered vaccines that are approved and confirmed to be safe and effective by local health authorities and the WHO,\" the post said, referring to the World Health Organization.\"\"\""
      ],
      "metadata": {
        "id": "dKYumYiKuzLD"
      },
      "execution_count": 5,
      "outputs": []
    },
    {
      "cell_type": "code",
      "source": [
        "punctuation = string.punctuation"
      ],
      "metadata": {
        "id": "OWA02o4zPbnW"
      },
      "execution_count": 6,
      "outputs": []
    },
    {
      "cell_type": "code",
      "source": [
        "punctuation = punctuation + '\\n' + '”'+ '\\n ' + '“'+ '’s'"
      ],
      "metadata": {
        "id": "95-YyW05JjNh"
      },
      "execution_count": 7,
      "outputs": []
    },
    {
      "cell_type": "markdown",
      "source": [
        "## Використання NLTK"
      ],
      "metadata": {
        "id": "iTxW8CsJkfnM"
      }
    },
    {
      "cell_type": "code",
      "source": [
        "tokens = word_tokenize(text)\n",
        "sentences = sent_tokenize(text)\n",
        "stop_words = set(stopwords.words('english'))"
      ],
      "metadata": {
        "id": "yzwP-ghNItqG"
      },
      "execution_count": 8,
      "outputs": []
    },
    {
      "cell_type": "code",
      "source": [
        "#len(tokens)#, tokens"
      ],
      "metadata": {
        "id": "RZIqaV__JJZC"
      },
      "execution_count": 9,
      "outputs": []
    },
    {
      "cell_type": "code",
      "source": [
        "#len(sentences)#, sentences"
      ],
      "metadata": {
        "id": "MRSGTZ87JJf7"
      },
      "execution_count": 10,
      "outputs": []
    },
    {
      "cell_type": "code",
      "source": [
        "#len(stop_words)#, stop_words"
      ],
      "metadata": {
        "id": "AiCnS1jTJJlt"
      },
      "execution_count": 11,
      "outputs": []
    },
    {
      "cell_type": "code",
      "source": [
        "sentence_scores = {}\n",
        "for sentence in sentences:\n",
        "    word_count = len([word for word in sentence.split() if word.lower() not in (stop_words, punctuation)])\n",
        "    sentence_scores[sentence] = word_count\n",
        "\n",
        "select_length=int(len(sentences))\n",
        "summary=nlargest(select_length, sentence_scores, key=sentence_scores.get)\n"
      ],
      "metadata": {
        "id": "jc5MC9orlsKt"
      },
      "execution_count": 12,
      "outputs": []
    },
    {
      "cell_type": "code",
      "source": [
        "sorted(sentence_scores.items(), key=lambda item: item[1], reverse=True)"
      ],
      "metadata": {
        "colab": {
          "base_uri": "https://localhost:8080/"
        },
        "id": "w7vsGZT1z73s",
        "outputId": "618e04f5-21c9-4dde-d2d6-735de31d13f6"
      },
      "execution_count": 13,
      "outputs": [
        {
          "output_type": "execute_result",
          "data": {
            "text/plain": [
              "[('According to Wayne Hale, a flight director from Johnson Space Center, the Space Shuttle orbiter represents a “huge technological leap from expendable rockets and capsules to a reusable, winged, hypersonic, cargo-carrying spacecraft.” Although her base structure followed a conventional aircraft design, she used advanced materials that both minimized her weight for cargo-carrying purposes and featured low thermal expansion ratios, which provided a stable base for her Thermal Protection System (TPS) materials.',\n",
              "  71),\n",
              " ('The Orbiter Discovery, OV-103, is considered eligible for listing in the National Register of Historic Places (NRHP) in the context of the U.S. Space Shuttle Program (1969-2011) under Criterion A in the areas of Space Exploration and Transportation and under Criterion C in the area of Engineering.',\n",
              "  47),\n",
              " ('Under Criterion A, Discovery is significant as the oldest of the three extant orbiter vehicles constructed for the Space Shuttle Program (SSP), the longest running American space program to date; she was the third of five orbiters built by NASA.',\n",
              "  40),\n",
              " ('Including her maiden voyage (launched August 30, 1984), Discovery flew to space thirty-nine times, more than any of the other four orbiters; she was also the first orbiter to fly twenty missions.',\n",
              "  32),\n",
              " ('Discovery was the first shuttle to fly with the redesigned SRBs, a result of the Challenger accident, and the first shuttle to fly with the Phase II and Block I SSME.',\n",
              "  31),\n",
              " ('In addition, Discovery was vital to the construction of the International Space Station (ISS); she flew thirteen of the thirty-seven total missions flown to the station by a U.S. Space Shuttle.',\n",
              "  31),\n",
              " ('As Hale stated, the Space Shuttle remains “the largest, fastest, winged hypersonic aircraft in history,” having regularly flown at twenty-five times the speed of sound.',\n",
              "  25),\n",
              " ('Unlike the Mercury, Gemini, and Apollo programs, the SSP’s emphasis was on cost effectiveness and reusability, and eventually the construction of a space station.',\n",
              "  24),\n",
              " ('She was the first orbiter to dock to the ISS, and the first to perform an exchange of a resident crew.',\n",
              "  21),\n",
              " ('Other notable engineering achievements of the orbiter included the first reusable orbital propulsion system, and the first two-fault-tolerant Integrated Avionics System.',\n",
              "  21),\n",
              " ('She had the honor of being chosen as the Return to Flight vehicle after both the Challenger and Columbia accidents.',\n",
              "  20),\n",
              " ('Discovery also carried the Hubble Space Telescope to orbit and performed two of the five servicing missions to the observatory.',\n",
              "  20),\n",
              " ('She flew the first and last dedicated Department of Defense (DoD) missions, as well as the first unclassified defense-related mission.',\n",
              "  20),\n",
              " ('The Space Shuttle orbiter also featured the first reusable TPS; all previous spaceflight vehicles had a single-use, ablative heat shield.',\n",
              "  20),\n",
              " ('Because it has achieved significance within the past fifty years, Criteria Consideration G applies.',\n",
              "  14),\n",
              " ('Under Criterion C, Discovery is significant as a feat of engineering.', 11)]"
            ]
          },
          "metadata": {},
          "execution_count": 13
        }
      ]
    },
    {
      "cell_type": "code",
      "source": [
        "# Виведемо зріз перших n речень\n",
        "summary[:2]"
      ],
      "metadata": {
        "colab": {
          "base_uri": "https://localhost:8080/"
        },
        "id": "U-l0T2h2rvfi",
        "outputId": "2a7bc6d5-3033-4667-bbd2-b16ea505d0cd"
      },
      "execution_count": 14,
      "outputs": [
        {
          "output_type": "execute_result",
          "data": {
            "text/plain": [
              "['According to Wayne Hale, a flight director from Johnson Space Center, the Space Shuttle orbiter represents a “huge technological leap from expendable rockets and capsules to a reusable, winged, hypersonic, cargo-carrying spacecraft.” Although her base structure followed a conventional aircraft design, she used advanced materials that both minimized her weight for cargo-carrying purposes and featured low thermal expansion ratios, which provided a stable base for her Thermal Protection System (TPS) materials.',\n",
              " 'The Orbiter Discovery, OV-103, is considered eligible for listing in the National Register of Historic Places (NRHP) in the context of the U.S. Space Shuttle Program (1969-2011) under Criterion A in the areas of Space Exploration and Transportation and under Criterion C in the area of Engineering.']"
            ]
          },
          "metadata": {},
          "execution_count": 14
        }
      ]
    },
    {
      "cell_type": "markdown",
      "source": [
        "## Використання SpaCy"
      ],
      "metadata": {
        "id": "2lztbHihH9MW"
      }
    },
    {
      "cell_type": "code",
      "source": [
        "nlp = spacy.load('en_core_web_sm')"
      ],
      "metadata": {
        "id": "mlZ1k1PHICm0"
      },
      "execution_count": 15,
      "outputs": []
    },
    {
      "cell_type": "code",
      "source": [
        "# Токенізація\n",
        "doc = nlp(text)\n",
        "tokens = [token.text for token in doc]\n",
        "#print(tokens)"
      ],
      "metadata": {
        "id": "QUyPq4fQIF9G"
      },
      "execution_count": 16,
      "outputs": []
    },
    {
      "cell_type": "code",
      "source": [
        "len(tokens)"
      ],
      "metadata": {
        "colab": {
          "base_uri": "https://localhost:8080/"
        },
        "id": "AsGh7qAyIWT-",
        "outputId": "f805d850-cd8a-4441-da06-325c28f45d02"
      },
      "execution_count": 17,
      "outputs": [
        {
          "output_type": "execute_result",
          "data": {
            "text/plain": [
              "540"
            ]
          },
          "metadata": {},
          "execution_count": 17
        }
      ]
    },
    {
      "cell_type": "code",
      "source": [
        "word_frequencies = {}\n",
        "for word in doc:\n",
        "  if word.text.lower() not in stop_words:\n",
        "    if word.text.lower() not in punctuation:\n",
        "      if word.text not in word_frequencies.keys():\n",
        "        word_frequencies[word.text] = 1\n",
        "      else:\n",
        "        word_frequencies[word.text] += 1"
      ],
      "metadata": {
        "id": "yNqWcjV-J6tv"
      },
      "execution_count": 18,
      "outputs": []
    },
    {
      "cell_type": "code",
      "source": [
        "sorted(word_frequencies.items(), key=lambda item: item[1], reverse=True)"
      ],
      "metadata": {
        "colab": {
          "base_uri": "https://localhost:8080/"
        },
        "id": "loYgnHINM7xD",
        "outputId": "835ffea6-308e-4c7e-cc7e-2a74fa48e6fe"
      },
      "execution_count": 19,
      "outputs": [
        {
          "output_type": "execute_result",
          "data": {
            "text/plain": [
              "[('Space', 10),\n",
              " ('first', 10),\n",
              " ('Discovery', 7),\n",
              " ('Shuttle', 6),\n",
              " ('orbiter', 6),\n",
              " ('Criterion', 4),\n",
              " ('missions', 4),\n",
              " ('space', 3),\n",
              " ('five', 3),\n",
              " ('flew', 3),\n",
              " ('also', 3),\n",
              " ('fly', 3),\n",
              " ('reusable', 3),\n",
              " ('U.S.', 2),\n",
              " ('Program', 2),\n",
              " ('C', 2),\n",
              " ('significant', 2),\n",
              " ('vehicles', 2),\n",
              " ('SSP', 2),\n",
              " ('orbiters', 2),\n",
              " ('construction', 2),\n",
              " ('station', 2),\n",
              " ('thirty', 2),\n",
              " ('times', 2),\n",
              " ('twenty', 2),\n",
              " ('Challenger', 2),\n",
              " ('shuttle', 2),\n",
              " ('two', 2),\n",
              " ('ISS', 2),\n",
              " ('flown', 2),\n",
              " ('engineering', 2),\n",
              " ('Hale', 2),\n",
              " ('winged', 2),\n",
              " ('hypersonic', 2),\n",
              " ('cargo', 2),\n",
              " ('carrying', 2),\n",
              " ('base', 2),\n",
              " ('aircraft', 2),\n",
              " ('materials', 2),\n",
              " ('featured', 2),\n",
              " ('System', 2),\n",
              " ('TPS', 2),\n",
              " ('Orbiter', 1),\n",
              " ('OV-103', 1),\n",
              " ('considered', 1),\n",
              " ('eligible', 1),\n",
              " ('listing', 1),\n",
              " ('National', 1),\n",
              " ('Register', 1),\n",
              " ('Historic', 1),\n",
              " ('Places', 1),\n",
              " ('NRHP', 1),\n",
              " ('context', 1),\n",
              " ('1969', 1),\n",
              " ('2011', 1),\n",
              " ('areas', 1),\n",
              " ('Exploration', 1),\n",
              " ('Transportation', 1),\n",
              " ('area', 1),\n",
              " ('Engineering', 1),\n",
              " ('achieved', 1),\n",
              " ('significance', 1),\n",
              " ('within', 1),\n",
              " ('past', 1),\n",
              " ('fifty', 1),\n",
              " ('years', 1),\n",
              " ('Criteria', 1),\n",
              " ('Consideration', 1),\n",
              " ('G', 1),\n",
              " ('applies', 1),\n",
              " ('oldest', 1),\n",
              " ('three', 1),\n",
              " ('extant', 1),\n",
              " ('constructed', 1),\n",
              " ('longest', 1),\n",
              " ('running', 1),\n",
              " ('American', 1),\n",
              " ('program', 1),\n",
              " ('date', 1),\n",
              " ('third', 1),\n",
              " ('built', 1),\n",
              " ('NASA', 1),\n",
              " ('Unlike', 1),\n",
              " ('Mercury', 1),\n",
              " ('Gemini', 1),\n",
              " ('Apollo', 1),\n",
              " ('programs', 1),\n",
              " ('emphasis', 1),\n",
              " ('cost', 1),\n",
              " ('effectiveness', 1),\n",
              " ('reusability', 1),\n",
              " ('eventually', 1),\n",
              " ('Including', 1),\n",
              " ('maiden', 1),\n",
              " ('voyage', 1),\n",
              " ('launched', 1),\n",
              " ('August', 1),\n",
              " ('30', 1),\n",
              " ('1984', 1),\n",
              " ('nine', 1),\n",
              " ('four', 1),\n",
              " ('honor', 1),\n",
              " ('chosen', 1),\n",
              " ('Return', 1),\n",
              " ('Flight', 1),\n",
              " ('vehicle', 1),\n",
              " ('Columbia', 1),\n",
              " ('accidents', 1),\n",
              " ('redesigned', 1),\n",
              " ('SRBs', 1),\n",
              " ('result', 1),\n",
              " ('accident', 1),\n",
              " ('Phase', 1),\n",
              " ('II', 1),\n",
              " ('Block', 1),\n",
              " ('SSME', 1),\n",
              " ('carried', 1),\n",
              " ('Hubble', 1),\n",
              " ('Telescope', 1),\n",
              " ('orbit', 1),\n",
              " ('performed', 1),\n",
              " ('servicing', 1),\n",
              " ('observatory', 1),\n",
              " ('last', 1),\n",
              " ('dedicated', 1),\n",
              " ('Department', 1),\n",
              " ('Defense', 1),\n",
              " ('DoD', 1),\n",
              " ('well', 1),\n",
              " ('unclassified', 1),\n",
              " ('defense', 1),\n",
              " ('related', 1),\n",
              " ('mission', 1),\n",
              " ('addition', 1),\n",
              " ('vital', 1),\n",
              " ('International', 1),\n",
              " ('Station', 1),\n",
              " ('thirteen', 1),\n",
              " ('seven', 1),\n",
              " ('total', 1),\n",
              " ('dock', 1),\n",
              " ('perform', 1),\n",
              " ('exchange', 1),\n",
              " ('resident', 1),\n",
              " ('crew', 1),\n",
              " ('feat', 1),\n",
              " ('According', 1),\n",
              " ('Wayne', 1),\n",
              " ('flight', 1),\n",
              " ('director', 1),\n",
              " ('Johnson', 1),\n",
              " ('Center', 1),\n",
              " ('represents', 1),\n",
              " ('huge', 1),\n",
              " ('technological', 1),\n",
              " ('leap', 1),\n",
              " ('expendable', 1),\n",
              " ('rockets', 1),\n",
              " ('capsules', 1),\n",
              " ('spacecraft', 1),\n",
              " ('Although', 1),\n",
              " ('structure', 1),\n",
              " ('followed', 1),\n",
              " ('conventional', 1),\n",
              " ('design', 1),\n",
              " ('used', 1),\n",
              " ('advanced', 1),\n",
              " ('minimized', 1),\n",
              " ('weight', 1),\n",
              " ('purposes', 1),\n",
              " ('low', 1),\n",
              " ('thermal', 1),\n",
              " ('expansion', 1),\n",
              " ('ratios', 1),\n",
              " ('provided', 1),\n",
              " ('stable', 1),\n",
              " ('Thermal', 1),\n",
              " ('Protection', 1),\n",
              " ('previous', 1),\n",
              " ('spaceflight', 1),\n",
              " ('single', 1),\n",
              " ('use', 1),\n",
              " ('ablative', 1),\n",
              " ('heat', 1),\n",
              " ('shield', 1),\n",
              " ('notable', 1),\n",
              " ('achievements', 1),\n",
              " ('included', 1),\n",
              " ('orbital', 1),\n",
              " ('propulsion', 1),\n",
              " ('system', 1),\n",
              " ('fault', 1),\n",
              " ('tolerant', 1),\n",
              " ('Integrated', 1),\n",
              " ('Avionics', 1),\n",
              " ('stated', 1),\n",
              " ('remains', 1),\n",
              " ('largest', 1),\n",
              " ('fastest', 1),\n",
              " ('history', 1),\n",
              " ('regularly', 1),\n",
              " ('speed', 1),\n",
              " ('sound', 1)]"
            ]
          },
          "metadata": {},
          "execution_count": 19
        }
      ]
    },
    {
      "cell_type": "code",
      "source": [
        "max_frequency=max(word_frequencies.values())\n",
        "max_frequency"
      ],
      "metadata": {
        "id": "fteaiWqmRegf",
        "colab": {
          "base_uri": "https://localhost:8080/"
        },
        "outputId": "b45e84b0-692d-40c8-a87a-10cb53a9c85a"
      },
      "execution_count": 20,
      "outputs": [
        {
          "output_type": "execute_result",
          "data": {
            "text/plain": [
              "10"
            ]
          },
          "metadata": {},
          "execution_count": 20
        }
      ]
    },
    {
      "cell_type": "code",
      "source": [
        "for word in word_frequencies.keys():\n",
        "    word_frequencies[word]=word_frequencies[word]\n",
        "    sentence_tokens= [sent for sent in doc.sents]\n",
        "    sentence_scores = {}\n",
        "    for sent in sentence_tokens:\n",
        "        for word in sent:\n",
        "            if word.text.lower() in word_frequencies.keys():\n",
        "                if sent not in sentence_scores.keys():\n",
        "                    sentence_scores[sent]=word_frequencies[word.text.lower()]\n",
        "                else:\n",
        "                    sentence_scores[sent]+=word_frequencies[word.text.lower()]\n"
      ],
      "metadata": {
        "id": "2FlAZDhoRoDH"
      },
      "execution_count": 21,
      "outputs": []
    },
    {
      "cell_type": "code",
      "source": [
        "sorted(sentence_scores.items(), key=lambda item: item[1], reverse=True)"
      ],
      "metadata": {
        "colab": {
          "base_uri": "https://localhost:8080/"
        },
        "id": "zM0n3Ig401_9",
        "outputId": "e52efd25-b1bc-420b-f500-921f9ec9957d"
      },
      "execution_count": 22,
      "outputs": [
        {
          "output_type": "execute_result",
          "data": {
            "text/plain": [
              "[(Including her maiden voyage (launched August 30, 1984), Discovery flew to space thirty-nine times, more than any of the other four orbiters; she was also the first orbiter to fly twenty missions.,\n",
              "  47),\n",
              " (Other notable engineering achievements of the orbiter included the first reusable orbital propulsion system, and the first two-fault-tolerant Integrated Avionics System.,\n",
              "  42),\n",
              " (The Space Shuttle orbiter also featured the first reusable TPS; all previous spaceflight vehicles had a single-use, ablative heat shield.,\n",
              "  38),\n",
              " (She flew the first and last dedicated Department of Defense (DoD) missions, as well as the first unclassified defense-related mission.,\n",
              "  35),\n",
              " (According to Wayne Hale, a flight director from Johnson Space Center, the Space Shuttle orbiter represents a “huge technological leap from expendable rockets and capsules to a reusable, winged, hypersonic, cargo-carrying spacecraft.”,\n",
              "  35),\n",
              " (Under Criterion A, Discovery is significant as the oldest of the three extant orbiter vehicles constructed for the Space Shuttle Program (SSP), the longest running American space program to date; she was the third of five orbiters built by NASA.,\n",
              "  34),\n",
              " (Discovery was the first shuttle to fly with the redesigned SRBs, a result of the Challenger accident, and the first shuttle to fly with the Phase II and Block I SSME.,\n",
              "  33),\n",
              " (Although her base structure followed a conventional aircraft design, she used advanced materials that both minimized her weight for cargo-carrying purposes and featured low thermal expansion ratios, which provided a stable base for her Thermal Protection System (TPS) materials.,\n",
              "  33),\n",
              " (She was the first orbiter to dock to the ISS, and the first to perform an exchange of a resident crew.,\n",
              "  31),\n",
              " (In addition, Discovery was vital to the construction of the International Space Station (ISS); she flew thirteen of the thirty-seven total missions flown to the station by a U.S. Space Shuttle.,\n",
              "  30),\n",
              " (As Hale stated, the Space Shuttle remains “the largest, fastest, winged hypersonic aircraft in history,” having regularly flown at twenty-five times the speed of sound.,\n",
              "  28),\n",
              " (The Orbiter Discovery, OV-103, is considered eligible for listing in the National Register of Historic Places (NRHP) in the context of the U.S. Space Shuttle Program (1969-2011) under Criterion A in the areas of Space Exploration and Transportation and under Criterion C in the area of Engineering.,\n",
              "  25),\n",
              " (Discovery also carried the Hubble Space Telescope to orbit and performed two of the five servicing missions to the observatory.,\n",
              "  20),\n",
              " (Unlike the Mercury, Gemini, and Apollo programs, the SSP’s emphasis was on cost effectiveness and reusability, and eventually the construction of a space station.,\n",
              "  13),\n",
              " (Because it has achieved significance within the past fifty years, Criteria Consideration G applies.,\n",
              "  7),\n",
              " (She had the honor of being chosen as the Return to Flight vehicle after both the Challenger and Columbia accidents.  ,\n",
              "  5),\n",
              " (Under Criterion C, Discovery is significant as a feat of engineering., 5)]"
            ]
          },
          "metadata": {},
          "execution_count": 22
        }
      ]
    },
    {
      "cell_type": "code",
      "source": [
        "select_length = int(len(sentence_tokens))\n",
        "summary = nlargest(select_length, sentence_scores, key = sentence_scores.get)\n",
        "summary[:2]"
      ],
      "metadata": {
        "colab": {
          "base_uri": "https://localhost:8080/"
        },
        "id": "SSMlxPgQPbgc",
        "outputId": "07958b80-8720-443a-a684-586b8b089ee9"
      },
      "execution_count": 23,
      "outputs": [
        {
          "output_type": "execute_result",
          "data": {
            "text/plain": [
              "[Including her maiden voyage (launched August 30, 1984), Discovery flew to space thirty-nine times, more than any of the other four orbiters; she was also the first orbiter to fly twenty missions.,\n",
              " Other notable engineering achievements of the orbiter included the first reusable orbital propulsion system, and the first two-fault-tolerant Integrated Avionics System.]"
            ]
          },
          "metadata": {},
          "execution_count": 23
        }
      ]
    },
    {
      "cell_type": "markdown",
      "source": [
        "##  Висновок: обидві бібліотеки добре сумаризують англійскі речення (при перевірці ще й гарно стравилася як з українською , так із російською), але на мою думку саме з заданим текстом краще справилася SpaCy, тому що її підсумок має більше сенсу, ніж підсумок NLTK"
      ],
      "metadata": {
        "id": "aYIw6Q3f1SJq"
      }
    },
    {
      "cell_type": "markdown",
      "source": [
        "## Спробуємо використати один з трансформерів"
      ],
      "metadata": {
        "id": "BpKz23_zPvIY"
      }
    },
    {
      "cell_type": "markdown",
      "source": [
        "### From Facebook - Bart"
      ],
      "metadata": {
        "id": "ZNt1ZUP-YXAN"
      }
    },
    {
      "cell_type": "code",
      "source": [
        "!pip install transformers"
      ],
      "metadata": {
        "colab": {
          "base_uri": "https://localhost:8080/"
        },
        "id": "V_rKxrAuP04Z",
        "outputId": "82d04020-7acc-4b23-d710-08bd45f59658"
      },
      "execution_count": 24,
      "outputs": [
        {
          "output_type": "stream",
          "name": "stdout",
          "text": [
            "Requirement already satisfied: transformers in /usr/local/lib/python3.10/dist-packages (4.32.1)\n",
            "Requirement already satisfied: filelock in /usr/local/lib/python3.10/dist-packages (from transformers) (3.12.2)\n",
            "Requirement already satisfied: huggingface-hub<1.0,>=0.15.1 in /usr/local/lib/python3.10/dist-packages (from transformers) (0.16.4)\n",
            "Requirement already satisfied: numpy>=1.17 in /usr/local/lib/python3.10/dist-packages (from transformers) (1.23.5)\n",
            "Requirement already satisfied: packaging>=20.0 in /usr/local/lib/python3.10/dist-packages (from transformers) (23.1)\n",
            "Requirement already satisfied: pyyaml>=5.1 in /usr/local/lib/python3.10/dist-packages (from transformers) (6.0.1)\n",
            "Requirement already satisfied: regex!=2019.12.17 in /usr/local/lib/python3.10/dist-packages (from transformers) (2023.6.3)\n",
            "Requirement already satisfied: requests in /usr/local/lib/python3.10/dist-packages (from transformers) (2.31.0)\n",
            "Requirement already satisfied: tokenizers!=0.11.3,<0.14,>=0.11.1 in /usr/local/lib/python3.10/dist-packages (from transformers) (0.13.3)\n",
            "Requirement already satisfied: safetensors>=0.3.1 in /usr/local/lib/python3.10/dist-packages (from transformers) (0.3.3)\n",
            "Requirement already satisfied: tqdm>=4.27 in /usr/local/lib/python3.10/dist-packages (from transformers) (4.66.1)\n",
            "Requirement already satisfied: fsspec in /usr/local/lib/python3.10/dist-packages (from huggingface-hub<1.0,>=0.15.1->transformers) (2023.6.0)\n",
            "Requirement already satisfied: typing-extensions>=3.7.4.3 in /usr/local/lib/python3.10/dist-packages (from huggingface-hub<1.0,>=0.15.1->transformers) (4.7.1)\n",
            "Requirement already satisfied: charset-normalizer<4,>=2 in /usr/local/lib/python3.10/dist-packages (from requests->transformers) (3.2.0)\n",
            "Requirement already satisfied: idna<4,>=2.5 in /usr/local/lib/python3.10/dist-packages (from requests->transformers) (3.4)\n",
            "Requirement already satisfied: urllib3<3,>=1.21.1 in /usr/local/lib/python3.10/dist-packages (from requests->transformers) (2.0.4)\n",
            "Requirement already satisfied: certifi>=2017.4.17 in /usr/local/lib/python3.10/dist-packages (from requests->transformers) (2023.7.22)\n"
          ]
        }
      ]
    },
    {
      "cell_type": "code",
      "source": [
        "from transformers import pipeline\n",
        "\n",
        "summarizer = pipeline(\"summarization\", model=\"facebook/bart-large-cnn\")\n"
      ],
      "metadata": {
        "id": "PG7xzQgBQLLa"
      },
      "execution_count": 25,
      "outputs": []
    },
    {
      "cell_type": "code",
      "source": [
        "summarizer(text, max_length=50, min_length=30, do_sample=False)"
      ],
      "metadata": {
        "colab": {
          "base_uri": "https://localhost:8080/"
        },
        "id": "SglMbjghQLRX",
        "outputId": "20ebc9f1-5891-4629-e921-4ef26a5aafb5"
      },
      "execution_count": 26,
      "outputs": [
        {
          "output_type": "execute_result",
          "data": {
            "text/plain": [
              "[{'summary_text': 'The Orbiter Discovery, OV-103, is considered eligible for listing in the National Register of Historic Places. Discovery is significant as the oldest of the three extant orbiter vehicles constructed for the Space Shuttle Program (SSP), the'}]"
            ]
          },
          "metadata": {},
          "execution_count": 26
        }
      ]
    },
    {
      "cell_type": "markdown",
      "source": [
        "Модель також гарно справилась з англійською, але інші мови не спромоглася. Бистродія значно менша ніж попередні алгоритми."
      ],
      "metadata": {
        "id": "XfcWjrGSx1xq"
      }
    },
    {
      "cell_type": "markdown",
      "source": [
        "## Multi-language models"
      ],
      "metadata": {
        "id": "HuvRP0uvWC7_"
      }
    },
    {
      "cell_type": "markdown",
      "source": [
        "### Перша мільтімовна модель"
      ],
      "metadata": {
        "id": "MiBD3lJSyXW6"
      }
    },
    {
      "cell_type": "code",
      "source": [
        "!pip install sentencepiece"
      ],
      "metadata": {
        "colab": {
          "base_uri": "https://localhost:8080/"
        },
        "id": "kaQ88kvUqeRS",
        "outputId": "bdc7c096-7b96-44e4-cd8b-cb331e8d3173"
      },
      "execution_count": 27,
      "outputs": [
        {
          "output_type": "stream",
          "name": "stdout",
          "text": [
            "Requirement already satisfied: sentencepiece in /usr/local/lib/python3.10/dist-packages (0.1.99)\n"
          ]
        }
      ]
    },
    {
      "cell_type": "code",
      "source": [
        "import re\n",
        "from transformers import AutoTokenizer, AutoModelForSeq2SeqLM\n",
        "\n",
        "WHITESPACE_HANDLER = lambda k: re.sub('\\s+', ' ', re.sub('\\n+', ' ', k.strip()))\n",
        "\n",
        "\n",
        "model_name = \"csebuetnlp/mT5_multilingual_XLSum\"\n",
        "tokenizer = AutoTokenizer.from_pretrained(model_name)\n",
        "model = AutoModelForSeq2SeqLM.from_pretrained(model_name)"
      ],
      "metadata": {
        "colab": {
          "base_uri": "https://localhost:8080/"
        },
        "id": "JDTB3tgGr0wo",
        "outputId": "ee855436-2806-42d7-81d9-e4d244766e2d"
      },
      "execution_count": 28,
      "outputs": [
        {
          "output_type": "stream",
          "name": "stderr",
          "text": [
            "You are using the default legacy behaviour of the <class 'transformers.models.t5.tokenization_t5.T5Tokenizer'>. If you see this, DO NOT PANIC! This is expected, and simply means that the `legacy` (previous) behavior will be used so nothing changes for you. If you want to use the new behaviour, set `legacy=True`. This should only be set if you understand what it means, and thouroughly read the reason why this was added as explained in https://github.com/huggingface/transformers/pull/24565\n",
            "/usr/local/lib/python3.10/dist-packages/transformers/convert_slow_tokenizer.py:470: UserWarning: The sentencepiece tokenizer that you are converting to a fast tokenizer uses the byte fallback option which is not implemented in the fast tokenizers. In practice this means that the fast version of the tokenizer can produce unknown tokens whereas the sentencepiece version would have converted these unknown tokens into a sequence of byte tokens matching the original piece of text.\n",
            "  warnings.warn(\n"
          ]
        }
      ]
    },
    {
      "cell_type": "code",
      "source": [
        "article_text = text"
      ],
      "metadata": {
        "id": "6SYHaNn1sKep"
      },
      "execution_count": 29,
      "outputs": []
    },
    {
      "cell_type": "code",
      "source": [
        "input_ids = tokenizer(\n",
        "    [WHITESPACE_HANDLER(article_text)],\n",
        "    return_tensors=\"pt\",\n",
        "    padding=\"max_length\",\n",
        "    truncation=True,\n",
        "    max_length=512\n",
        ")[\"input_ids\"]\n",
        "\n",
        "output_ids = model.generate(\n",
        "    input_ids=input_ids,\n",
        "    max_length=84,\n",
        "    no_repeat_ngram_size=2,\n",
        "    num_beams=4\n",
        ")[0]\n",
        "\n",
        "summary = tokenizer.decode(\n",
        "    output_ids,\n",
        "    skip_special_tokens=True,\n",
        "    clean_up_tokenization_spaces=False\n",
        ")\n",
        "\n",
        "print(summary)"
      ],
      "metadata": {
        "colab": {
          "base_uri": "https://localhost:8080/"
        },
        "id": "F-ayrCXAr03a",
        "outputId": "e8d4243a-ace8-4707-b6a1-582d5c42a363"
      },
      "execution_count": 33,
      "outputs": [
        {
          "output_type": "stream",
          "name": "stdout",
          "text": [
            "A US space shuttle has been named as the oldest of the three extant orbiters built by NASA.\n"
          ]
        }
      ]
    },
    {
      "cell_type": "markdown",
      "source": [
        "### Друга мільтімовна модель\n"
      ],
      "metadata": {
        "id": "nz9gzgvzydtn"
      }
    },
    {
      "cell_type": "code",
      "source": [
        "import torch\n",
        "from transformers import T5ForConditionalGeneration, T5Tokenizer\n",
        "\n",
        "MODEL_NAME = 'cointegrated/rut5-base-absum'\n",
        "model = T5ForConditionalGeneration.from_pretrained(MODEL_NAME)\n",
        "tokenizer = T5Tokenizer.from_pretrained(MODEL_NAME)\n",
        "model.cpu();\n",
        "model.eval();\n",
        "\n",
        "def summarize(\n",
        "    text, n_words=None, compression=None,\n",
        "    max_length=1000, num_beams=3, do_sample=False, repetition_penalty=10.0,\n",
        "    **kwargs\n",
        "):\n",
        "    \"\"\"\n",
        "    Summarize the text\n",
        "    The following parameters are mutually exclusive:\n",
        "    - n_words (int) is an approximate number of words to generate.\n",
        "    - compression (float) is an approximate length ratio of summary and original text.\n",
        "    \"\"\"\n",
        "    if n_words:\n",
        "        text = '[{}] '.format(n_words) + text\n",
        "    elif compression:\n",
        "        text = '[{0:.1g}] '.format(compression) + text\n",
        "    x = tokenizer(text, return_tensors='pt', padding=True).to(model.device)\n",
        "    with torch.inference_mode():\n",
        "        out = model.generate(\n",
        "            **x,\n",
        "            max_length=max_length, num_beams=num_beams,\n",
        "            do_sample=do_sample, repetition_penalty=repetition_penalty,\n",
        "            **kwargs\n",
        "        )\n",
        "    return tokenizer.decode(out[0], skip_special_tokens=True)\n"
      ],
      "metadata": {
        "id": "9I-GCXePeAz7"
      },
      "execution_count": 34,
      "outputs": []
    },
    {
      "cell_type": "code",
      "source": [
        "print(summarize(text))\n",
        "\n",
        "print(summarize(text, n_words=50))\n"
      ],
      "metadata": {
        "colab": {
          "base_uri": "https://localhost:8080/"
        },
        "id": "i3xdp0JueRzY",
        "outputId": "5863d89d-418e-441b-d4c5-93b4e36f6e23"
      },
      "execution_count": 35,
      "outputs": [
        {
          "output_type": "stream",
          "name": "stdout",
          "text": [
            "Discovery, OV-103, was the first orbiter to fly with the Phase II and Block I SSME. The Space Shuttle orbiter is considered eligible for listing in the National Register of Historic Places (NRHP).\n",
            "The Space Shuttle orbiter Discovery is the oldest of the three extant orbiters constructed for the U.S Space Shuttle Program (SSP).\n"
          ]
        }
      ]
    },
    {
      "cell_type": "markdown",
      "source": [
        "### Дві останні моделі також добре справилися з реченнями на будь-якій з наданих моделям мов, але знову швидкодія поступається алгоритмам"
      ],
      "metadata": {
        "id": "AgXJHCqq1xIg"
      }
    },
    {
      "cell_type": "markdown",
      "source": [
        "## Після всього - існує багато моделей для вирішення задач сумарізації текстів, які  мають високу швидкість та результативність. Деякі справляються не тільки з англійською, а також і з українською, хоч навіть не треновані на ній. Їх реалізації також базуються на різних фреймворках (TensorFlow, PyTorch), тому вибір конкретної моделі має бути прив'язаний до реалізації конкретного проекту"
      ],
      "metadata": {
        "id": "RIjkXmfAz8Lg"
      }
    }
  ]
}