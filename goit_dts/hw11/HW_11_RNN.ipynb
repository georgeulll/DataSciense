{
  "nbformat": 4,
  "nbformat_minor": 0,
  "metadata": {
    "colab": {
      "provenance": [],
      "gpuType": "T4",
      "mount_file_id": "1wM2DAd48RvdqU6uASVWvl9MbR1Hwr-qm",
      "authorship_tag": "ABX9TyOp9vTI5eAFfIiPgyuA7Eqo",
      "include_colab_link": true
    },
    "kernelspec": {
      "name": "python3",
      "display_name": "Python 3"
    },
    "language_info": {
      "name": "python"
    },
    "accelerator": "GPU",
    "widgets": {
      "application/vnd.jupyter.widget-state+json": {
        "f38d7833add248f7852049ef2bc009b8": {
          "model_module": "@jupyter-widgets/controls",
          "model_name": "VBoxModel",
          "model_module_version": "1.5.0",
          "state": {
            "_dom_classes": [],
            "_model_module": "@jupyter-widgets/controls",
            "_model_module_version": "1.5.0",
            "_model_name": "VBoxModel",
            "_view_count": null,
            "_view_module": "@jupyter-widgets/controls",
            "_view_module_version": "1.5.0",
            "_view_name": "VBoxView",
            "box_style": "",
            "children": [
              "IPY_MODEL_081ee1997a1449438da3d36f886666fd",
              "IPY_MODEL_c3e6eebfc1614495bdd728eb9eb659cf"
            ],
            "layout": "IPY_MODEL_7cd39f1608be4a2b85ed3994a0a23f59"
          }
        },
        "081ee1997a1449438da3d36f886666fd": {
          "model_module": "@jupyter-widgets/controls",
          "model_name": "LabelModel",
          "model_module_version": "1.5.0",
          "state": {
            "_dom_classes": [],
            "_model_module": "@jupyter-widgets/controls",
            "_model_module_version": "1.5.0",
            "_model_name": "LabelModel",
            "_view_count": null,
            "_view_module": "@jupyter-widgets/controls",
            "_view_module_version": "1.5.0",
            "_view_name": "LabelView",
            "description": "",
            "description_tooltip": null,
            "layout": "IPY_MODEL_9b1d718b9079401d853604640499b7f9",
            "placeholder": "​",
            "style": "IPY_MODEL_4f1fe050a6f64ab4a4b6fccd2d62803d",
            "value": "0.001 MB of 0.014 MB uploaded (0.000 MB deduped)\r"
          }
        },
        "c3e6eebfc1614495bdd728eb9eb659cf": {
          "model_module": "@jupyter-widgets/controls",
          "model_name": "FloatProgressModel",
          "model_module_version": "1.5.0",
          "state": {
            "_dom_classes": [],
            "_model_module": "@jupyter-widgets/controls",
            "_model_module_version": "1.5.0",
            "_model_name": "FloatProgressModel",
            "_view_count": null,
            "_view_module": "@jupyter-widgets/controls",
            "_view_module_version": "1.5.0",
            "_view_name": "ProgressView",
            "bar_style": "",
            "description": "",
            "description_tooltip": null,
            "layout": "IPY_MODEL_b5d1b57e67734391949da6782974153f",
            "max": 1,
            "min": 0,
            "orientation": "horizontal",
            "style": "IPY_MODEL_ef8dbcad1e034a4e938395098ef2ab04",
            "value": 0.07922272047832586
          }
        },
        "7cd39f1608be4a2b85ed3994a0a23f59": {
          "model_module": "@jupyter-widgets/base",
          "model_name": "LayoutModel",
          "model_module_version": "1.2.0",
          "state": {
            "_model_module": "@jupyter-widgets/base",
            "_model_module_version": "1.2.0",
            "_model_name": "LayoutModel",
            "_view_count": null,
            "_view_module": "@jupyter-widgets/base",
            "_view_module_version": "1.2.0",
            "_view_name": "LayoutView",
            "align_content": null,
            "align_items": null,
            "align_self": null,
            "border": null,
            "bottom": null,
            "display": null,
            "flex": null,
            "flex_flow": null,
            "grid_area": null,
            "grid_auto_columns": null,
            "grid_auto_flow": null,
            "grid_auto_rows": null,
            "grid_column": null,
            "grid_gap": null,
            "grid_row": null,
            "grid_template_areas": null,
            "grid_template_columns": null,
            "grid_template_rows": null,
            "height": null,
            "justify_content": null,
            "justify_items": null,
            "left": null,
            "margin": null,
            "max_height": null,
            "max_width": null,
            "min_height": null,
            "min_width": null,
            "object_fit": null,
            "object_position": null,
            "order": null,
            "overflow": null,
            "overflow_x": null,
            "overflow_y": null,
            "padding": null,
            "right": null,
            "top": null,
            "visibility": null,
            "width": null
          }
        },
        "9b1d718b9079401d853604640499b7f9": {
          "model_module": "@jupyter-widgets/base",
          "model_name": "LayoutModel",
          "model_module_version": "1.2.0",
          "state": {
            "_model_module": "@jupyter-widgets/base",
            "_model_module_version": "1.2.0",
            "_model_name": "LayoutModel",
            "_view_count": null,
            "_view_module": "@jupyter-widgets/base",
            "_view_module_version": "1.2.0",
            "_view_name": "LayoutView",
            "align_content": null,
            "align_items": null,
            "align_self": null,
            "border": null,
            "bottom": null,
            "display": null,
            "flex": null,
            "flex_flow": null,
            "grid_area": null,
            "grid_auto_columns": null,
            "grid_auto_flow": null,
            "grid_auto_rows": null,
            "grid_column": null,
            "grid_gap": null,
            "grid_row": null,
            "grid_template_areas": null,
            "grid_template_columns": null,
            "grid_template_rows": null,
            "height": null,
            "justify_content": null,
            "justify_items": null,
            "left": null,
            "margin": null,
            "max_height": null,
            "max_width": null,
            "min_height": null,
            "min_width": null,
            "object_fit": null,
            "object_position": null,
            "order": null,
            "overflow": null,
            "overflow_x": null,
            "overflow_y": null,
            "padding": null,
            "right": null,
            "top": null,
            "visibility": null,
            "width": null
          }
        },
        "4f1fe050a6f64ab4a4b6fccd2d62803d": {
          "model_module": "@jupyter-widgets/controls",
          "model_name": "DescriptionStyleModel",
          "model_module_version": "1.5.0",
          "state": {
            "_model_module": "@jupyter-widgets/controls",
            "_model_module_version": "1.5.0",
            "_model_name": "DescriptionStyleModel",
            "_view_count": null,
            "_view_module": "@jupyter-widgets/base",
            "_view_module_version": "1.2.0",
            "_view_name": "StyleView",
            "description_width": ""
          }
        },
        "b5d1b57e67734391949da6782974153f": {
          "model_module": "@jupyter-widgets/base",
          "model_name": "LayoutModel",
          "model_module_version": "1.2.0",
          "state": {
            "_model_module": "@jupyter-widgets/base",
            "_model_module_version": "1.2.0",
            "_model_name": "LayoutModel",
            "_view_count": null,
            "_view_module": "@jupyter-widgets/base",
            "_view_module_version": "1.2.0",
            "_view_name": "LayoutView",
            "align_content": null,
            "align_items": null,
            "align_self": null,
            "border": null,
            "bottom": null,
            "display": null,
            "flex": null,
            "flex_flow": null,
            "grid_area": null,
            "grid_auto_columns": null,
            "grid_auto_flow": null,
            "grid_auto_rows": null,
            "grid_column": null,
            "grid_gap": null,
            "grid_row": null,
            "grid_template_areas": null,
            "grid_template_columns": null,
            "grid_template_rows": null,
            "height": null,
            "justify_content": null,
            "justify_items": null,
            "left": null,
            "margin": null,
            "max_height": null,
            "max_width": null,
            "min_height": null,
            "min_width": null,
            "object_fit": null,
            "object_position": null,
            "order": null,
            "overflow": null,
            "overflow_x": null,
            "overflow_y": null,
            "padding": null,
            "right": null,
            "top": null,
            "visibility": null,
            "width": null
          }
        },
        "ef8dbcad1e034a4e938395098ef2ab04": {
          "model_module": "@jupyter-widgets/controls",
          "model_name": "ProgressStyleModel",
          "model_module_version": "1.5.0",
          "state": {
            "_model_module": "@jupyter-widgets/controls",
            "_model_module_version": "1.5.0",
            "_model_name": "ProgressStyleModel",
            "_view_count": null,
            "_view_module": "@jupyter-widgets/base",
            "_view_module_version": "1.2.0",
            "_view_name": "StyleView",
            "bar_color": null,
            "description_width": ""
          }
        },
        "aafbb08c85614f899de89748f4ce3bf7": {
          "model_module": "@jupyter-widgets/controls",
          "model_name": "VBoxModel",
          "model_module_version": "1.5.0",
          "state": {
            "_dom_classes": [],
            "_model_module": "@jupyter-widgets/controls",
            "_model_module_version": "1.5.0",
            "_model_name": "VBoxModel",
            "_view_count": null,
            "_view_module": "@jupyter-widgets/controls",
            "_view_module_version": "1.5.0",
            "_view_name": "VBoxView",
            "box_style": "",
            "children": [
              "IPY_MODEL_8edf3de47754444593b7f6d53adf202f",
              "IPY_MODEL_f3bac5ae13364139ba123f7d49237a1d"
            ],
            "layout": "IPY_MODEL_cbf64b77440849989806a7ab3f128f72"
          }
        },
        "8edf3de47754444593b7f6d53adf202f": {
          "model_module": "@jupyter-widgets/controls",
          "model_name": "LabelModel",
          "model_module_version": "1.5.0",
          "state": {
            "_dom_classes": [],
            "_model_module": "@jupyter-widgets/controls",
            "_model_module_version": "1.5.0",
            "_model_name": "LabelModel",
            "_view_count": null,
            "_view_module": "@jupyter-widgets/controls",
            "_view_module_version": "1.5.0",
            "_view_name": "LabelView",
            "description": "",
            "description_tooltip": null,
            "layout": "IPY_MODEL_940153b36b5c4562b40666badc8bf0c7",
            "placeholder": "​",
            "style": "IPY_MODEL_7991fcc882534f53bb6e3149f496f995",
            "value": "0.003 MB of 0.012 MB uploaded (0.000 MB deduped)\r"
          }
        },
        "f3bac5ae13364139ba123f7d49237a1d": {
          "model_module": "@jupyter-widgets/controls",
          "model_name": "FloatProgressModel",
          "model_module_version": "1.5.0",
          "state": {
            "_dom_classes": [],
            "_model_module": "@jupyter-widgets/controls",
            "_model_module_version": "1.5.0",
            "_model_name": "FloatProgressModel",
            "_view_count": null,
            "_view_module": "@jupyter-widgets/controls",
            "_view_module_version": "1.5.0",
            "_view_name": "ProgressView",
            "bar_style": "",
            "description": "",
            "description_tooltip": null,
            "layout": "IPY_MODEL_c49e2a8c2bdd48fd89924991b9389f48",
            "max": 1,
            "min": 0,
            "orientation": "horizontal",
            "style": "IPY_MODEL_37eedc298617477dac2b91d5a38fe388",
            "value": 0.2668762409000662
          }
        },
        "cbf64b77440849989806a7ab3f128f72": {
          "model_module": "@jupyter-widgets/base",
          "model_name": "LayoutModel",
          "model_module_version": "1.2.0",
          "state": {
            "_model_module": "@jupyter-widgets/base",
            "_model_module_version": "1.2.0",
            "_model_name": "LayoutModel",
            "_view_count": null,
            "_view_module": "@jupyter-widgets/base",
            "_view_module_version": "1.2.0",
            "_view_name": "LayoutView",
            "align_content": null,
            "align_items": null,
            "align_self": null,
            "border": null,
            "bottom": null,
            "display": null,
            "flex": null,
            "flex_flow": null,
            "grid_area": null,
            "grid_auto_columns": null,
            "grid_auto_flow": null,
            "grid_auto_rows": null,
            "grid_column": null,
            "grid_gap": null,
            "grid_row": null,
            "grid_template_areas": null,
            "grid_template_columns": null,
            "grid_template_rows": null,
            "height": null,
            "justify_content": null,
            "justify_items": null,
            "left": null,
            "margin": null,
            "max_height": null,
            "max_width": null,
            "min_height": null,
            "min_width": null,
            "object_fit": null,
            "object_position": null,
            "order": null,
            "overflow": null,
            "overflow_x": null,
            "overflow_y": null,
            "padding": null,
            "right": null,
            "top": null,
            "visibility": null,
            "width": null
          }
        },
        "940153b36b5c4562b40666badc8bf0c7": {
          "model_module": "@jupyter-widgets/base",
          "model_name": "LayoutModel",
          "model_module_version": "1.2.0",
          "state": {
            "_model_module": "@jupyter-widgets/base",
            "_model_module_version": "1.2.0",
            "_model_name": "LayoutModel",
            "_view_count": null,
            "_view_module": "@jupyter-widgets/base",
            "_view_module_version": "1.2.0",
            "_view_name": "LayoutView",
            "align_content": null,
            "align_items": null,
            "align_self": null,
            "border": null,
            "bottom": null,
            "display": null,
            "flex": null,
            "flex_flow": null,
            "grid_area": null,
            "grid_auto_columns": null,
            "grid_auto_flow": null,
            "grid_auto_rows": null,
            "grid_column": null,
            "grid_gap": null,
            "grid_row": null,
            "grid_template_areas": null,
            "grid_template_columns": null,
            "grid_template_rows": null,
            "height": null,
            "justify_content": null,
            "justify_items": null,
            "left": null,
            "margin": null,
            "max_height": null,
            "max_width": null,
            "min_height": null,
            "min_width": null,
            "object_fit": null,
            "object_position": null,
            "order": null,
            "overflow": null,
            "overflow_x": null,
            "overflow_y": null,
            "padding": null,
            "right": null,
            "top": null,
            "visibility": null,
            "width": null
          }
        },
        "7991fcc882534f53bb6e3149f496f995": {
          "model_module": "@jupyter-widgets/controls",
          "model_name": "DescriptionStyleModel",
          "model_module_version": "1.5.0",
          "state": {
            "_model_module": "@jupyter-widgets/controls",
            "_model_module_version": "1.5.0",
            "_model_name": "DescriptionStyleModel",
            "_view_count": null,
            "_view_module": "@jupyter-widgets/base",
            "_view_module_version": "1.2.0",
            "_view_name": "StyleView",
            "description_width": ""
          }
        },
        "c49e2a8c2bdd48fd89924991b9389f48": {
          "model_module": "@jupyter-widgets/base",
          "model_name": "LayoutModel",
          "model_module_version": "1.2.0",
          "state": {
            "_model_module": "@jupyter-widgets/base",
            "_model_module_version": "1.2.0",
            "_model_name": "LayoutModel",
            "_view_count": null,
            "_view_module": "@jupyter-widgets/base",
            "_view_module_version": "1.2.0",
            "_view_name": "LayoutView",
            "align_content": null,
            "align_items": null,
            "align_self": null,
            "border": null,
            "bottom": null,
            "display": null,
            "flex": null,
            "flex_flow": null,
            "grid_area": null,
            "grid_auto_columns": null,
            "grid_auto_flow": null,
            "grid_auto_rows": null,
            "grid_column": null,
            "grid_gap": null,
            "grid_row": null,
            "grid_template_areas": null,
            "grid_template_columns": null,
            "grid_template_rows": null,
            "height": null,
            "justify_content": null,
            "justify_items": null,
            "left": null,
            "margin": null,
            "max_height": null,
            "max_width": null,
            "min_height": null,
            "min_width": null,
            "object_fit": null,
            "object_position": null,
            "order": null,
            "overflow": null,
            "overflow_x": null,
            "overflow_y": null,
            "padding": null,
            "right": null,
            "top": null,
            "visibility": null,
            "width": null
          }
        },
        "37eedc298617477dac2b91d5a38fe388": {
          "model_module": "@jupyter-widgets/controls",
          "model_name": "ProgressStyleModel",
          "model_module_version": "1.5.0",
          "state": {
            "_model_module": "@jupyter-widgets/controls",
            "_model_module_version": "1.5.0",
            "_model_name": "ProgressStyleModel",
            "_view_count": null,
            "_view_module": "@jupyter-widgets/base",
            "_view_module_version": "1.2.0",
            "_view_name": "StyleView",
            "bar_color": null,
            "description_width": ""
          }
        }
      }
    }
  },
  "cells": [
    {
      "cell_type": "markdown",
      "metadata": {
        "id": "view-in-github",
        "colab_type": "text"
      },
      "source": [
        "<a href=\"https://colab.research.google.com/github/PIRomanCod/DataSciense_HW/blob/main/HW_11_RNN.ipynb\" target=\"_parent\"><img src=\"https://colab.research.google.com/assets/colab-badge.svg\" alt=\"Open In Colab\"/></a>"
      ]
    },
    {
      "cell_type": "markdown",
      "source": [
        "# В якості домашнього завдання вам пропонується створити рекурентну нейронну мережу за допомогою механізмів Keras, яка буде класифікувати рецензії із датасету imdb.\n",
        "\n",
        "На відміну від прикладу в модулі 9 ми використаємо рекурентну нейронну мережу. Поекспериментуйте з будовою мережі - RNN, LSTM, двостороння та глибока.\n",
        "\n",
        "Порівняйте результати та зробіть висновки."
      ],
      "metadata": {
        "id": "MjgQ2OgDWT2_"
      }
    },
    {
      "cell_type": "markdown",
      "source": [
        "## Імпорти"
      ],
      "metadata": {
        "id": "GFZ0W4BVWant"
      }
    },
    {
      "cell_type": "code",
      "execution_count": 1,
      "metadata": {
        "colab": {
          "base_uri": "https://localhost:8080/"
        },
        "id": "V7rTd8rdWMam",
        "outputId": "64676558-3838-4f3c-85e3-9c4b862f87c1"
      },
      "outputs": [
        {
          "output_type": "stream",
          "name": "stdout",
          "text": [
            "Collecting wandb\n",
            "  Downloading wandb-0.15.8-py3-none-any.whl (2.1 MB)\n",
            "\u001b[2K     \u001b[90m━━━━━━━━━━━━━━━━━━━━━━━━━━━━━━━━━━━━━━━━\u001b[0m \u001b[32m2.1/2.1 MB\u001b[0m \u001b[31m15.3 MB/s\u001b[0m eta \u001b[36m0:00:00\u001b[0m\n",
            "\u001b[?25hRequirement already satisfied: Click!=8.0.0,>=7.1 in /usr/local/lib/python3.10/dist-packages (from wandb) (8.1.7)\n",
            "Collecting GitPython!=3.1.29,>=1.0.0 (from wandb)\n",
            "  Downloading GitPython-3.1.32-py3-none-any.whl (188 kB)\n",
            "\u001b[2K     \u001b[90m━━━━━━━━━━━━━━━━━━━━━━━━━━━━━━━━━━━━━━\u001b[0m \u001b[32m188.5/188.5 kB\u001b[0m \u001b[31m17.9 MB/s\u001b[0m eta \u001b[36m0:00:00\u001b[0m\n",
            "\u001b[?25hRequirement already satisfied: requests<3,>=2.0.0 in /usr/local/lib/python3.10/dist-packages (from wandb) (2.31.0)\n",
            "Requirement already satisfied: psutil>=5.0.0 in /usr/local/lib/python3.10/dist-packages (from wandb) (5.9.5)\n",
            "Collecting sentry-sdk>=1.0.0 (from wandb)\n",
            "  Downloading sentry_sdk-1.29.2-py2.py3-none-any.whl (215 kB)\n",
            "\u001b[2K     \u001b[90m━━━━━━━━━━━━━━━━━━━━━━━━━━━━━━━━━━━━━━\u001b[0m \u001b[32m215.6/215.6 kB\u001b[0m \u001b[31m18.9 MB/s\u001b[0m eta \u001b[36m0:00:00\u001b[0m\n",
            "\u001b[?25hCollecting docker-pycreds>=0.4.0 (from wandb)\n",
            "  Downloading docker_pycreds-0.4.0-py2.py3-none-any.whl (9.0 kB)\n",
            "Requirement already satisfied: PyYAML in /usr/local/lib/python3.10/dist-packages (from wandb) (6.0.1)\n",
            "Collecting pathtools (from wandb)\n",
            "  Downloading pathtools-0.1.2.tar.gz (11 kB)\n",
            "  Preparing metadata (setup.py) ... \u001b[?25l\u001b[?25hdone\n",
            "Collecting setproctitle (from wandb)\n",
            "  Downloading setproctitle-1.3.2-cp310-cp310-manylinux_2_5_x86_64.manylinux1_x86_64.manylinux_2_17_x86_64.manylinux2014_x86_64.whl (30 kB)\n",
            "Requirement already satisfied: setuptools in /usr/local/lib/python3.10/dist-packages (from wandb) (67.7.2)\n",
            "Requirement already satisfied: appdirs>=1.4.3 in /usr/local/lib/python3.10/dist-packages (from wandb) (1.4.4)\n",
            "Requirement already satisfied: protobuf!=4.21.0,<5,>=3.19.0 in /usr/local/lib/python3.10/dist-packages (from wandb) (3.20.3)\n",
            "Requirement already satisfied: six>=1.4.0 in /usr/local/lib/python3.10/dist-packages (from docker-pycreds>=0.4.0->wandb) (1.16.0)\n",
            "Collecting gitdb<5,>=4.0.1 (from GitPython!=3.1.29,>=1.0.0->wandb)\n",
            "  Downloading gitdb-4.0.10-py3-none-any.whl (62 kB)\n",
            "\u001b[2K     \u001b[90m━━━━━━━━━━━━━━━━━━━━━━━━━━━━━━━━━━━━━━━━\u001b[0m \u001b[32m62.7/62.7 kB\u001b[0m \u001b[31m9.3 MB/s\u001b[0m eta \u001b[36m0:00:00\u001b[0m\n",
            "\u001b[?25hRequirement already satisfied: charset-normalizer<4,>=2 in /usr/local/lib/python3.10/dist-packages (from requests<3,>=2.0.0->wandb) (3.2.0)\n",
            "Requirement already satisfied: idna<4,>=2.5 in /usr/local/lib/python3.10/dist-packages (from requests<3,>=2.0.0->wandb) (3.4)\n",
            "Requirement already satisfied: urllib3<3,>=1.21.1 in /usr/local/lib/python3.10/dist-packages (from requests<3,>=2.0.0->wandb) (2.0.4)\n",
            "Requirement already satisfied: certifi>=2017.4.17 in /usr/local/lib/python3.10/dist-packages (from requests<3,>=2.0.0->wandb) (2023.7.22)\n",
            "Collecting smmap<6,>=3.0.1 (from gitdb<5,>=4.0.1->GitPython!=3.1.29,>=1.0.0->wandb)\n",
            "  Downloading smmap-5.0.0-py3-none-any.whl (24 kB)\n",
            "Building wheels for collected packages: pathtools\n",
            "  Building wheel for pathtools (setup.py) ... \u001b[?25l\u001b[?25hdone\n",
            "  Created wheel for pathtools: filename=pathtools-0.1.2-py3-none-any.whl size=8791 sha256=5998df68a05f5dcd4b2f5142857566093b419fd7f512072dd81c84e5a391d47a\n",
            "  Stored in directory: /root/.cache/pip/wheels/e7/f3/22/152153d6eb222ee7a56ff8617d80ee5207207a8c00a7aab794\n",
            "Successfully built pathtools\n",
            "Installing collected packages: pathtools, smmap, setproctitle, sentry-sdk, docker-pycreds, gitdb, GitPython, wandb\n",
            "Successfully installed GitPython-3.1.32 docker-pycreds-0.4.0 gitdb-4.0.10 pathtools-0.1.2 sentry-sdk-1.29.2 setproctitle-1.3.2 smmap-5.0.0 wandb-0.15.8\n"
          ]
        }
      ],
      "source": [
        "!pip install wandb"
      ]
    },
    {
      "cell_type": "code",
      "source": [
        "import os\n",
        "import random\n",
        "\n",
        "import numpy as np\n",
        "import pandas as pd\n",
        "import matplotlib.pyplot as plt\n",
        "import seaborn as sns\n",
        "import tensorflow as tf\n",
        "from keras.models import Sequential, Model\n",
        "from keras.layers import Dense, Dropout, Embedding, SimpleRNN, GRU, LSTM, Bidirectional\n",
        "from keras.datasets import imdb\n",
        "from keras.utils import pad_sequences\n",
        "from keras.callbacks import EarlyStopping, ModelCheckpoint\n",
        "from keras.optimizers import Adam, SGD\n",
        "from keras.metrics import Accuracy\n",
        "from keras.models import load_model\n",
        "\n",
        "from sklearn.metrics import confusion_matrix\n",
        "\n",
        "import wandb\n",
        "from wandb.keras import WandbMetricsLogger\n"
      ],
      "metadata": {
        "id": "kIGITsiwWgl3"
      },
      "execution_count": 2,
      "outputs": []
    },
    {
      "cell_type": "markdown",
      "source": [
        "## Встановлення констант та налаштування"
      ],
      "metadata": {
        "id": "pzjHt9r2X0rZ"
      }
    },
    {
      "cell_type": "code",
      "source": [
        "max_features = 10000  # кількість слів, що розглядаються як особливості\n",
        "maxlen = 500  # обмеження кількості слів в тексті\n",
        "batch_size = 128\n",
        "n_epochs = 15\n",
        "lr = 0.001"
      ],
      "metadata": {
        "id": "-gDx-fT9XRJc"
      },
      "execution_count": 3,
      "outputs": []
    },
    {
      "cell_type": "code",
      "source": [
        "best_of_models = {}"
      ],
      "metadata": {
        "id": "zo25eeKYw5bA"
      },
      "execution_count": 4,
      "outputs": []
    },
    {
      "cell_type": "code",
      "source": [
        "wandb.init(project=\"HW_11_Simple_RNN\", config={\"lr\": lr, \"n_epochs\": n_epochs, \"batch_size\": batch_size})"
      ],
      "metadata": {
        "colab": {
          "base_uri": "https://localhost:8080/",
          "height": 212
        },
        "id": "B67P9BARXi8B",
        "outputId": "c92ffc96-555f-496d-df79-9b51e60675c8"
      },
      "execution_count": 5,
      "outputs": [
        {
          "output_type": "display_data",
          "data": {
            "text/plain": [
              "<IPython.core.display.Javascript object>"
            ],
            "application/javascript": [
              "\n",
              "        window._wandbApiKey = new Promise((resolve, reject) => {\n",
              "            function loadScript(url) {\n",
              "            return new Promise(function(resolve, reject) {\n",
              "                let newScript = document.createElement(\"script\");\n",
              "                newScript.onerror = reject;\n",
              "                newScript.onload = resolve;\n",
              "                document.body.appendChild(newScript);\n",
              "                newScript.src = url;\n",
              "            });\n",
              "            }\n",
              "            loadScript(\"https://cdn.jsdelivr.net/npm/postmate/build/postmate.min.js\").then(() => {\n",
              "            const iframe = document.createElement('iframe')\n",
              "            iframe.style.cssText = \"width:0;height:0;border:none\"\n",
              "            document.body.appendChild(iframe)\n",
              "            const handshake = new Postmate({\n",
              "                container: iframe,\n",
              "                url: 'https://wandb.ai/authorize'\n",
              "            });\n",
              "            const timeout = setTimeout(() => reject(\"Couldn't auto authenticate\"), 5000)\n",
              "            handshake.then(function(child) {\n",
              "                child.on('authorize', data => {\n",
              "                    clearTimeout(timeout)\n",
              "                    resolve(data)\n",
              "                });\n",
              "            });\n",
              "            })\n",
              "        });\n",
              "    "
            ]
          },
          "metadata": {}
        },
        {
          "output_type": "stream",
          "name": "stderr",
          "text": [
            "\u001b[34m\u001b[1mwandb\u001b[0m: Logging into wandb.ai. (Learn how to deploy a W&B server locally: https://wandb.me/wandb-server)\n",
            "\u001b[34m\u001b[1mwandb\u001b[0m: You can find your API key in your browser here: https://wandb.ai/authorize\n",
            "wandb: Paste an API key from your profile and hit enter, or press ctrl+c to quit:"
          ]
        },
        {
          "name": "stdout",
          "output_type": "stream",
          "text": [
            " ··········\n"
          ]
        },
        {
          "output_type": "stream",
          "name": "stderr",
          "text": [
            "\u001b[34m\u001b[1mwandb\u001b[0m: Appending key for api.wandb.ai to your netrc file: /root/.netrc\n"
          ]
        },
        {
          "output_type": "display_data",
          "data": {
            "text/plain": [
              "<IPython.core.display.HTML object>"
            ],
            "text/html": [
              "Tracking run with wandb version 0.15.8"
            ]
          },
          "metadata": {}
        },
        {
          "output_type": "display_data",
          "data": {
            "text/plain": [
              "<IPython.core.display.HTML object>"
            ],
            "text/html": [
              "Run data is saved locally in <code>/content/wandb/run-20230825_181847-tpu1dfpd</code>"
            ]
          },
          "metadata": {}
        },
        {
          "output_type": "display_data",
          "data": {
            "text/plain": [
              "<IPython.core.display.HTML object>"
            ],
            "text/html": [
              "Syncing run <strong><a href='https://wandb.ai/4751413/HW_11_Simple_RNN/runs/tpu1dfpd' target=\"_blank\">dulcet-hill-3</a></strong> to <a href='https://wandb.ai/4751413/HW_11_Simple_RNN' target=\"_blank\">Weights & Biases</a> (<a href='https://wandb.me/run' target=\"_blank\">docs</a>)<br/>"
            ]
          },
          "metadata": {}
        },
        {
          "output_type": "display_data",
          "data": {
            "text/plain": [
              "<IPython.core.display.HTML object>"
            ],
            "text/html": [
              " View project at <a href='https://wandb.ai/4751413/HW_11_Simple_RNN' target=\"_blank\">https://wandb.ai/4751413/HW_11_Simple_RNN</a>"
            ]
          },
          "metadata": {}
        },
        {
          "output_type": "display_data",
          "data": {
            "text/plain": [
              "<IPython.core.display.HTML object>"
            ],
            "text/html": [
              " View run at <a href='https://wandb.ai/4751413/HW_11_Simple_RNN/runs/tpu1dfpd' target=\"_blank\">https://wandb.ai/4751413/HW_11_Simple_RNN/runs/tpu1dfpd</a>"
            ]
          },
          "metadata": {}
        },
        {
          "output_type": "execute_result",
          "data": {
            "text/html": [
              "<button onClick=\"this.nextSibling.style.display='block';this.style.display='none';\">Display W&B run</button><iframe src='https://wandb.ai/4751413/HW_11_Simple_RNN/runs/tpu1dfpd?jupyter=true' style='border:none;width:100%;height:420px;display:none;'></iframe>"
            ],
            "text/plain": [
              "<wandb.sdk.wandb_run.Run at 0x7b9d055babc0>"
            ]
          },
          "metadata": {},
          "execution_count": 5
        }
      ]
    },
    {
      "cell_type": "code",
      "source": [
        "path = \"/content/drive/MyDrive/Colab_Notebooks/HW_11_data\""
      ],
      "metadata": {
        "id": "hsWIdUSMYygz"
      },
      "execution_count": 6,
      "outputs": []
    },
    {
      "cell_type": "code",
      "source": [
        "def set_seed(seed_value):\n",
        "    random.seed(seed_value)\n",
        "    np.random.seed(seed_value)\n",
        "    tf.random.set_seed(seed_value)\n",
        "    os.environ[\"PYTHONHASHSEED\"] = str(seed_value)\n",
        "    os.environ[\"TF_DETERMINISTIC_OPS\"] = \"true\"\n",
        "\n",
        "\n",
        "set_seed(42)"
      ],
      "metadata": {
        "id": "TXXl4tf_XzfC"
      },
      "execution_count": 7,
      "outputs": []
    },
    {
      "cell_type": "code",
      "source": [
        "(train_data, train_labels), (test_data, test_labels) = imdb.load_data(num_words=max_features)"
      ],
      "metadata": {
        "colab": {
          "base_uri": "https://localhost:8080/"
        },
        "id": "jMNavEjyXeCd",
        "outputId": "1fd0730a-80ad-44c9-b883-eff6253ddbad"
      },
      "execution_count": 8,
      "outputs": [
        {
          "output_type": "stream",
          "name": "stdout",
          "text": [
            "Downloading data from https://storage.googleapis.com/tensorflow/tf-keras-datasets/imdb.npz\n",
            "17464789/17464789 [==============================] - 1s 0us/step\n"
          ]
        }
      ]
    },
    {
      "cell_type": "code",
      "source": [
        "# Подивимося розміри наборів даних\n",
        "train_data.shape, train_labels.shape, test_data.shape, test_labels.shape"
      ],
      "metadata": {
        "colab": {
          "base_uri": "https://localhost:8080/"
        },
        "id": "vb0Ho1QSa3Cl",
        "outputId": "a0514b3d-5a0e-4cb2-d70c-f6943d920650"
      },
      "execution_count": 9,
      "outputs": [
        {
          "output_type": "execute_result",
          "data": {
            "text/plain": [
              "((25000,), (25000,), (25000,), (25000,))"
            ]
          },
          "metadata": {},
          "execution_count": 9
        }
      ]
    },
    {
      "cell_type": "code",
      "source": [
        "# Передпроцесинг послідовних даних:\n",
        "# Застосування заздалегідь обраної максимальної довжини до послідовних даних тренувального та тестового наборів\n",
        "\n",
        "input_train = pad_sequences(train_data, maxlen=maxlen)\n",
        "input_test = pad_sequences(test_data, maxlen=maxlen)"
      ],
      "metadata": {
        "id": "Z2E6ltAzXgjH"
      },
      "execution_count": 10,
      "outputs": []
    },
    {
      "cell_type": "code",
      "source": [
        "# Ще раз подивимося на розміри ф'ючерів, що будуть подаватися до моделі\n",
        "input_train.shape, input_test.shape"
      ],
      "metadata": {
        "colab": {
          "base_uri": "https://localhost:8080/"
        },
        "id": "mbKzmC8rar_R",
        "outputId": "476bfa25-d0e7-4a7a-f3ea-3e290aa354e4"
      },
      "execution_count": 11,
      "outputs": [
        {
          "output_type": "execute_result",
          "data": {
            "text/plain": [
              "((25000, 500), (25000, 500))"
            ]
          },
          "metadata": {},
          "execution_count": 11
        }
      ]
    },
    {
      "cell_type": "markdown",
      "source": [
        "## Словник для трансформацій до людскої мови"
      ],
      "metadata": {
        "id": "m-4W3IKJYJZI"
      }
    },
    {
      "cell_type": "code",
      "source": [
        "word_index = imdb.get_word_index()"
      ],
      "metadata": {
        "colab": {
          "base_uri": "https://localhost:8080/"
        },
        "id": "n_doSK1EYUAv",
        "outputId": "9cb50195-b839-423b-b81d-66116f27c0f4"
      },
      "execution_count": 12,
      "outputs": [
        {
          "output_type": "stream",
          "name": "stdout",
          "text": [
            "Downloading data from https://storage.googleapis.com/tensorflow/tf-keras-datasets/imdb_word_index.json\n",
            "1641221/1641221 [==============================] - 1s 0us/step\n"
          ]
        }
      ]
    },
    {
      "cell_type": "markdown",
      "source": [
        "### Подивимося зразок даних, що будуть подані до мережі у оригінальному вигляді"
      ],
      "metadata": {
        "id": "tNLndVUUaCkX"
      }
    },
    {
      "cell_type": "code",
      "source": [
        "print(train_data[0])"
      ],
      "metadata": {
        "colab": {
          "base_uri": "https://localhost:8080/"
        },
        "id": "34i0npCrZxsW",
        "outputId": "5069f31d-e4f0-4a87-e9c5-4464ba613ea7"
      },
      "execution_count": 13,
      "outputs": [
        {
          "output_type": "stream",
          "name": "stdout",
          "text": [
            "[1, 14, 22, 16, 43, 530, 973, 1622, 1385, 65, 458, 4468, 66, 3941, 4, 173, 36, 256, 5, 25, 100, 43, 838, 112, 50, 670, 2, 9, 35, 480, 284, 5, 150, 4, 172, 112, 167, 2, 336, 385, 39, 4, 172, 4536, 1111, 17, 546, 38, 13, 447, 4, 192, 50, 16, 6, 147, 2025, 19, 14, 22, 4, 1920, 4613, 469, 4, 22, 71, 87, 12, 16, 43, 530, 38, 76, 15, 13, 1247, 4, 22, 17, 515, 17, 12, 16, 626, 18, 2, 5, 62, 386, 12, 8, 316, 8, 106, 5, 4, 2223, 5244, 16, 480, 66, 3785, 33, 4, 130, 12, 16, 38, 619, 5, 25, 124, 51, 36, 135, 48, 25, 1415, 33, 6, 22, 12, 215, 28, 77, 52, 5, 14, 407, 16, 82, 2, 8, 4, 107, 117, 5952, 15, 256, 4, 2, 7, 3766, 5, 723, 36, 71, 43, 530, 476, 26, 400, 317, 46, 7, 4, 2, 1029, 13, 104, 88, 4, 381, 15, 297, 98, 32, 2071, 56, 26, 141, 6, 194, 7486, 18, 4, 226, 22, 21, 134, 476, 26, 480, 5, 144, 30, 5535, 18, 51, 36, 28, 224, 92, 25, 104, 4, 226, 65, 16, 38, 1334, 88, 12, 16, 283, 5, 16, 4472, 113, 103, 32, 15, 16, 5345, 19, 178, 32]\n"
          ]
        }
      ]
    },
    {
      "cell_type": "code",
      "source": [
        "word_index = imdb.get_word_index()\n",
        "reverse_word_index = {value: key for key, value in word_index.items()}"
      ],
      "metadata": {
        "id": "imj4aH27YU9c"
      },
      "execution_count": 14,
      "outputs": []
    },
    {
      "cell_type": "markdown",
      "source": [
        "### А тепер у вигляді речення"
      ],
      "metadata": {
        "id": "Szk68X4EaQi5"
      }
    },
    {
      "cell_type": "code",
      "source": [
        "decoded_review = ' '.join([reverse_word_index.get(i - 3, '?') for i in train_data[0]])\n",
        "decoded_review"
      ],
      "metadata": {
        "colab": {
          "base_uri": "https://localhost:8080/",
          "height": 123
        },
        "id": "a3MxshFsYU0y",
        "outputId": "caaa5a08-1fa2-4791-cc2f-f5785721719a"
      },
      "execution_count": 15,
      "outputs": [
        {
          "output_type": "execute_result",
          "data": {
            "text/plain": [
              "\"? this film was just brilliant casting location scenery story direction everyone's really suited the part they played and you could just imagine being there robert ? is an amazing actor and now the same being director ? father came from the same scottish island as myself so i loved the fact there was a real connection with this film the witty remarks throughout the film were great it was just brilliant so much that i bought the film as soon as it was released for ? and would recommend it to everyone to watch and the fly fishing was amazing really cried at the end it was so sad and you know what they say if you cry at a film it must have been good and this definitely was also ? to the two little boy's that played the ? of norman and paul they were just brilliant children are often left out of the ? list i think because the stars that play them all grown up are such a big profile for the whole film but these children are amazing and should be praised for what they have done don't you think the whole story was so lovely because it was true and was someone's life after all that was shared with us all\""
            ],
            "application/vnd.google.colaboratory.intrinsic+json": {
              "type": "string"
            }
          },
          "metadata": {},
          "execution_count": 15
        }
      ]
    },
    {
      "cell_type": "markdown",
      "source": [
        "## Побудова простої моделі RNN:"
      ],
      "metadata": {
        "id": "8ySax7YWclw3"
      }
    },
    {
      "cell_type": "code",
      "source": [
        "model_Simple_RNN = Sequential()\n",
        "# Створення порожньої моделі Sequential\n",
        "\n",
        "# Додавання Embedding шару для перетворення слів в вектори фіксованої довжини\n",
        "model_Simple_RNN.add(Embedding(max_features, 32))\n",
        "# Параметри: кількість слів для розгляду як особливості та розмір вектора, що представляє кожне слово\n",
        "\n",
        "# Додавання SimpleRNN шару з 32 вузлами\n",
        "model_Simple_RNN.add(SimpleRNN(32))\n",
        "# Параметр: кількість вузлів (розмір прихованого стану)\n",
        "\n",
        "# Додавання Dense шару з одним вузлом та активацією sigmoid\n",
        "model_Simple_RNN.add(Dense(1, activation='sigmoid'))\n",
        "# Параметри: кількість вузлів (вихідний розмір) та функція активації (sigmoid для бінарної класифікації)"
      ],
      "metadata": {
        "id": "wNBvu5OycoPn"
      },
      "execution_count": null,
      "outputs": []
    },
    {
      "cell_type": "code",
      "source": [
        "# Додамо колбек EarlyStopping, щоб зупинити навчання, якщо точність не покращується протягом певної кількості епох\n",
        "early_stopping_callback = EarlyStopping(monitor='val_accuracy', patience=5, mode='max', verbose=1)\n",
        "\n",
        "# Додамо колбек ModelCheckpoint, щоб зберегти найкращу модель за кожним епохом\n",
        "model_checkpoint_callback = ModelCheckpoint(path+'/HW_11_best_model_RNN_Simple.h5', monitor='val_accuracy', mode='max', save_best_only=True, verbose=1)\n",
        "\n"
      ],
      "metadata": {
        "id": "ZgZ8BHR1c1mx"
      },
      "execution_count": null,
      "outputs": []
    },
    {
      "cell_type": "code",
      "source": [
        "callbacks=[early_stopping_callback, model_checkpoint_callback, WandbMetricsLogger()]"
      ],
      "metadata": {
        "id": "FOqpig5QdpFh"
      },
      "execution_count": null,
      "outputs": []
    },
    {
      "cell_type": "code",
      "source": [
        "model_Simple_RNN.compile(optimizer=Adam(learning_rate=lr), loss='binary_crossentropy', metrics=['accuracy'])"
      ],
      "metadata": {
        "id": "J4LnZ90gc1f6"
      },
      "execution_count": null,
      "outputs": []
    },
    {
      "cell_type": "code",
      "source": [
        "model_Simple_RNN.summary()"
      ],
      "metadata": {
        "colab": {
          "base_uri": "https://localhost:8080/"
        },
        "id": "EAJVpNhJc1jp",
        "outputId": "2cfd0bee-274e-46ee-c25b-0c642abc9528"
      },
      "execution_count": null,
      "outputs": [
        {
          "output_type": "stream",
          "name": "stdout",
          "text": [
            "Model: \"sequential\"\n",
            "_________________________________________________________________\n",
            " Layer (type)                Output Shape              Param #   \n",
            "=================================================================\n",
            " embedding (Embedding)       (None, None, 32)          320000    \n",
            "                                                                 \n",
            " simple_rnn (SimpleRNN)      (None, 32)                2080      \n",
            "                                                                 \n",
            " dense (Dense)               (None, 1)                 33        \n",
            "                                                                 \n",
            "=================================================================\n",
            "Total params: 322,113\n",
            "Trainable params: 322,113\n",
            "Non-trainable params: 0\n",
            "_________________________________________________________________\n"
          ]
        }
      ]
    },
    {
      "cell_type": "code",
      "source": [
        "history = model_Simple_RNN.fit(\n",
        "    input_train, train_labels,\n",
        "    epochs=n_epochs,\n",
        "    batch_size=batch_size,\n",
        "    validation_split=0.3,\n",
        "    callbacks=callbacks)\n",
        "# Запускаємо навчання моделі на тренувальних даних з розбиттям на тренувальну та валідаційну підмножини"
      ],
      "metadata": {
        "colab": {
          "base_uri": "https://localhost:8080/"
        },
        "id": "jdlYfI4Jd_oW",
        "outputId": "fdd077cd-596b-4715-ce58-6945bf3284b7"
      },
      "execution_count": null,
      "outputs": [
        {
          "output_type": "stream",
          "name": "stdout",
          "text": [
            "Epoch 1/15\n",
            "137/137 [==============================] - ETA: 0s - loss: 0.6759 - accuracy: 0.5747\n",
            "Epoch 1: val_accuracy improved from -inf to 0.76040, saving model to /content/drive/MyDrive/Colab_Notebooks/HW_11_data/HW_11_best_model_RNN_Simple.h5\n",
            "137/137 [==============================] - 96s 656ms/step - loss: 0.6759 - accuracy: 0.5747 - val_loss: 0.5680 - val_accuracy: 0.7604\n",
            "Epoch 2/15\n",
            "137/137 [==============================] - ETA: 0s - loss: 0.5227 - accuracy: 0.7713\n",
            "Epoch 2: val_accuracy improved from 0.76040 to 0.78827, saving model to /content/drive/MyDrive/Colab_Notebooks/HW_11_data/HW_11_best_model_RNN_Simple.h5\n",
            "137/137 [==============================] - 76s 558ms/step - loss: 0.5227 - accuracy: 0.7713 - val_loss: 0.4623 - val_accuracy: 0.7883\n",
            "Epoch 3/15\n",
            "137/137 [==============================] - ETA: 0s - loss: 0.2762 - accuracy: 0.8902\n",
            "Epoch 3: val_accuracy improved from 0.78827 to 0.81707, saving model to /content/drive/MyDrive/Colab_Notebooks/HW_11_data/HW_11_best_model_RNN_Simple.h5\n",
            "137/137 [==============================] - 73s 536ms/step - loss: 0.2762 - accuracy: 0.8902 - val_loss: 0.4101 - val_accuracy: 0.8171\n",
            "Epoch 4/15\n",
            "137/137 [==============================] - ETA: 0s - loss: 0.1188 - accuracy: 0.9646\n",
            "Epoch 4: val_accuracy improved from 0.81707 to 0.84187, saving model to /content/drive/MyDrive/Colab_Notebooks/HW_11_data/HW_11_best_model_RNN_Simple.h5\n",
            "137/137 [==============================] - 76s 557ms/step - loss: 0.1188 - accuracy: 0.9646 - val_loss: 0.4242 - val_accuracy: 0.8419\n",
            "Epoch 5/15\n",
            "137/137 [==============================] - ETA: 0s - loss: 0.0501 - accuracy: 0.9892\n",
            "Epoch 5: val_accuracy did not improve from 0.84187\n",
            "137/137 [==============================] - 74s 538ms/step - loss: 0.0501 - accuracy: 0.9892 - val_loss: 0.5048 - val_accuracy: 0.8061\n",
            "Epoch 6/15\n",
            "137/137 [==============================] - ETA: 0s - loss: 0.0229 - accuracy: 0.9972\n",
            "Epoch 6: val_accuracy did not improve from 0.84187\n",
            "137/137 [==============================] - 73s 531ms/step - loss: 0.0229 - accuracy: 0.9972 - val_loss: 0.5157 - val_accuracy: 0.8239\n",
            "Epoch 7/15\n",
            "137/137 [==============================] - ETA: 0s - loss: 0.0121 - accuracy: 0.9986\n",
            "Epoch 7: val_accuracy did not improve from 0.84187\n",
            "137/137 [==============================] - 76s 554ms/step - loss: 0.0121 - accuracy: 0.9986 - val_loss: 0.5834 - val_accuracy: 0.8121\n",
            "Epoch 8/15\n",
            "137/137 [==============================] - ETA: 0s - loss: 0.0112 - accuracy: 0.9986\n",
            "Epoch 8: val_accuracy did not improve from 0.84187\n",
            "137/137 [==============================] - 73s 529ms/step - loss: 0.0112 - accuracy: 0.9986 - val_loss: 0.5680 - val_accuracy: 0.8304\n",
            "Epoch 9/15\n",
            "137/137 [==============================] - ETA: 0s - loss: 0.0038 - accuracy: 0.9998\n",
            "Epoch 9: val_accuracy did not improve from 0.84187\n",
            "137/137 [==============================] - 73s 533ms/step - loss: 0.0038 - accuracy: 0.9998 - val_loss: 0.6234 - val_accuracy: 0.8141\n",
            "Epoch 9: early stopping\n"
          ]
        }
      ]
    },
    {
      "cell_type": "code",
      "source": [
        "# Графіки для точності та втрат\n",
        "plt.plot(history.history['accuracy'], label='Точність на тренуванні')\n",
        "plt.plot(history.history['val_accuracy'], label='Точність на валідації')\n",
        "plt.plot(history.history['loss'], label='Втрати на тренуванні')\n",
        "plt.plot(history.history['val_loss'], label='Втрати на валідації')\n",
        "plt.legend()\n",
        "plt.show()"
      ],
      "metadata": {
        "colab": {
          "base_uri": "https://localhost:8080/",
          "height": 430
        },
        "id": "rWNQ1O3jeeze",
        "outputId": "cc705f51-c49a-4519-afb2-fcaece197363"
      },
      "execution_count": null,
      "outputs": [
        {
          "output_type": "display_data",
          "data": {
            "text/plain": [
              "<Figure size 640x480 with 1 Axes>"
            ],
            "image/png": "[encoded data removed]"
          },
          "metadata": {}
        }
      ]
    },
    {
      "cell_type": "code",
      "source": [
        "# Завантаження кращої збереженої моделі\n",
        "best_model_SimpleRNN = load_model(path+'/HW_11_best_model_RNN_Simple.h5')\n",
        "\n",
        "# Тестування на тестових даних\n",
        "test_loss, test_accuracy = best_model_SimpleRNN.evaluate(input_test, test_labels)\n",
        "best_of_models.update({\"best_model_SimpleRNN\": test_accuracy})\n",
        "\n",
        "print(f\"Втрати на тестовому наборі: {test_loss:.4f}\")\n",
        "print(f\"Точність на тестовому наборі: {test_accuracy:.4f}\")"
      ],
      "metadata": {
        "colab": {
          "base_uri": "https://localhost:8080/"
        },
        "id": "BVPgGfBAes-E",
        "outputId": "59433c3b-b217-447d-8bb1-c1b4104b43b9"
      },
      "execution_count": 16,
      "outputs": [
        {
          "output_type": "stream",
          "name": "stdout",
          "text": [
            "782/782 [==============================] - 49s 56ms/step - loss: 0.4473 - accuracy: 0.8310\n",
            "Втрати на тестовому наборі: 0.4473\n",
            "Точність на тестовому наборі: 0.8310\n"
          ]
        }
      ]
    },
    {
      "cell_type": "code",
      "source": [
        "# Прогнозування з використанням навченої моделі:\n",
        "\n",
        "predictions = best_model_SimpleRNN.predict(input_test)\n",
        "\n",
        "# Для отримання зрозумілішого вигляду прогнозів, їх можна перетворити в бінарний формат:\n",
        "binary_predictions = [1 if pred > 0.5 else 0 for pred in predictions]\n",
        "\n",
        "# Для порівняння можна вивести деякі прогнозовані значення поряд з фактичними значеннями\n",
        "for i in range(10):\n",
        "    print(f\"Прогнозоване: {binary_predictions[i]}, Фактичне: {test_labels[i]}\")\n",
        "\n",
        "# Додатковий крок: Оцінка моделі\n",
        "# Це дасть загальну точність моделі на тестових даних\n",
        "# test_loss, test_acc = best_model_SimpleRNN.evaluate(input_test, test_labels)\n",
        "# print('Test Loss: {}'.format(test_loss))\n",
        "# print('Test Accuracy: {}'.format(test_acc))"
      ],
      "metadata": {
        "colab": {
          "base_uri": "https://localhost:8080/"
        },
        "id": "-1VK-NoogSuh",
        "outputId": "66622cb3-9ecc-4f38-ffbb-711e6fbcb69f"
      },
      "execution_count": 17,
      "outputs": [
        {
          "output_type": "stream",
          "name": "stdout",
          "text": [
            "782/782 [==============================] - 47s 60ms/step\n",
            "Прогнозоване: 0, Фактичне: 0\n",
            "Прогнозоване: 1, Фактичне: 1\n",
            "Прогнозоване: 0, Фактичне: 1\n",
            "Прогнозоване: 0, Фактичне: 0\n",
            "Прогнозоване: 1, Фактичне: 1\n",
            "Прогнозоване: 1, Фактичне: 1\n",
            "Прогнозоване: 1, Фактичне: 1\n",
            "Прогнозоване: 0, Фактичне: 0\n",
            "Прогнозоване: 1, Фактичне: 0\n",
            "Прогнозоване: 1, Фактичне: 1\n"
          ]
        }
      ]
    },
    {
      "cell_type": "code",
      "source": [
        "# Побудуємо confusion_matrix\n",
        "confusion_mat = confusion_matrix(test_labels, binary_predictions)\n",
        "\n",
        "\n",
        "# Використання Seaborn для візуалізації теплової карти\n",
        "sns.set(font_scale=1.2)\n",
        "sns.heatmap(confusion_mat, annot=True, fmt=\"d\", cmap=\"Oranges\", linewidths=1, linecolor=\"black\",\n",
        "            xticklabels=[\"Predicted Negative\", \"Predicted Positive\"],\n",
        "            yticklabels=[\"Actual Negative\", \"Actual Positive\"])\n",
        "plt.xlabel(\"Predicted\")\n",
        "plt.ylabel(\"Actual\")\n",
        "plt.title(\"Confusion Matrix\")\n",
        "plt.show()\n"
      ],
      "metadata": {
        "colab": {
          "base_uri": "https://localhost:8080/",
          "height": 485
        },
        "id": "d7Qx7sWRmwBf",
        "outputId": "411ff28c-5523-4a91-c5f7-2a66dd7fd965"
      },
      "execution_count": 18,
      "outputs": [
        {
          "output_type": "display_data",
          "data": {
            "text/plain": [
              "<Figure size 640x480 with 2 Axes>"
            ],
            "image/png": "[encoded data removed]"
          },
          "metadata": {}
        }
      ]
    },
    {
      "cell_type": "code",
      "source": [
        "wandb.finish()"
      ],
      "metadata": {
        "colab": {
          "base_uri": "https://localhost:8080/",
          "height": 150,
          "referenced_widgets": [
            "aafbb08c85614f899de89748f4ce3bf7",
            "8edf3de47754444593b7f6d53adf202f",
            "f3bac5ae13364139ba123f7d49237a1d",
            "cbf64b77440849989806a7ab3f128f72",
            "940153b36b5c4562b40666badc8bf0c7",
            "7991fcc882534f53bb6e3149f496f995",
            "c49e2a8c2bdd48fd89924991b9389f48",
            "37eedc298617477dac2b91d5a38fe388"
          ]
        },
        "id": "5KSHqE4vfRvl",
        "outputId": "99e83625-f1b5-4c51-c647-fdc4002c0004"
      },
      "execution_count": 19,
      "outputs": [
        {
          "output_type": "display_data",
          "data": {
            "text/plain": [
              "<IPython.core.display.HTML object>"
            ],
            "text/html": [
              "Waiting for W&B process to finish... <strong style=\"color:green\">(success).</strong>"
            ]
          },
          "metadata": {}
        },
        {
          "output_type": "display_data",
          "data": {
            "text/plain": [
              "VBox(children=(Label(value='0.001 MB of 0.001 MB uploaded (0.000 MB deduped)\\r'), FloatProgress(value=1.0, max…"
            ],
            "application/vnd.jupyter.widget-view+json": {
              "version_major": 2,
              "version_minor": 0,
              "model_id": "aafbb08c85614f899de89748f4ce3bf7"
            }
          },
          "metadata": {}
        },
        {
          "output_type": "display_data",
          "data": {
            "text/plain": [
              "<IPython.core.display.HTML object>"
            ],
            "text/html": [
              " View run <strong style=\"color:#cdcd00\">dulcet-hill-3</strong> at: <a href='https://wandb.ai/4751413/HW_11_Simple_RNN/runs/tpu1dfpd' target=\"_blank\">https://wandb.ai/4751413/HW_11_Simple_RNN/runs/tpu1dfpd</a><br/>Synced 5 W&B file(s), 0 media file(s), 0 artifact file(s) and 0 other file(s)"
            ]
          },
          "metadata": {}
        },
        {
          "output_type": "display_data",
          "data": {
            "text/plain": [
              "<IPython.core.display.HTML object>"
            ],
            "text/html": [
              "Find logs at: <code>./wandb/run-20230825_181847-tpu1dfpd/logs</code>"
            ]
          },
          "metadata": {}
        }
      ]
    },
    {
      "cell_type": "markdown",
      "source": [
        "##Суб висновок: - валідаційні дані проходять з наступними показниками. Точність - 84.8% на валідації, час 10 хвилин, на тесті - 83.9%. n_epoch=15; lr=0,001; batch_size=128 Trainable params: 322,113"
      ],
      "metadata": {
        "id": "Jmv_C7O5fdxZ"
      }
    },
    {
      "cell_type": "markdown",
      "source": [
        "## Побудова  GRU моделі"
      ],
      "metadata": {
        "id": "c0PvlduPgEW_"
      }
    },
    {
      "cell_type": "code",
      "source": [
        "model_RNN_GRU = Sequential()\n",
        "# Створення порожньої моделі Sequential\n",
        "\n",
        "# Додавання Embedding шару для перетворення слів в вектори фіксованої довжини\n",
        "model_RNN_GRU.add(Embedding(max_features, 32))\n",
        "# Параметри: кількість слів для розгляду як особливості та розмір вектора, що представляє кожне слово\n",
        "\n",
        "# Додавання GRU шару з 32 вузлами\n",
        "model_RNN_GRU.add(GRU(32))\n",
        "# Параметр: кількість вузлів (розмір прихованого стану)\n",
        "\n",
        "# Додавання Dense шару з одним вузлом та активацією sigmoid\n",
        "model_RNN_GRU.add(Dense(1, activation='sigmoid'))\n",
        "# Параметри: кількість вузлів (вихідний розмір) та функція активації (sigmoid для бінарної класифікації)"
      ],
      "metadata": {
        "id": "iLWMBIuBf0Ml"
      },
      "execution_count": null,
      "outputs": []
    },
    {
      "cell_type": "code",
      "source": [
        "# Замінимо колбек ModelCheckpoint, щоб зберегти найкращу модель за кожним епохом\n",
        "model_checkpoint_callback = ModelCheckpoint(path+'/HW_11_best_model_RNN_GRU.h5', monitor='val_accuracy', mode='max', save_best_only=True, verbose=1)"
      ],
      "metadata": {
        "id": "pulSUxFUju7x"
      },
      "execution_count": null,
      "outputs": []
    },
    {
      "cell_type": "code",
      "source": [
        "# Додамо новий монітор\n",
        "wandb.init(project=\"HW_11_RNN_GRU\", config={\"lr\": lr, \"n_epochs\": n_epochs, \"batch_size\": batch_size})"
      ],
      "metadata": {
        "colab": {
          "base_uri": "https://localhost:8080/",
          "height": 142
        },
        "id": "MKEla5lmju-g",
        "outputId": "4c079077-1105-4b75-8d9b-b844b51ef1c4"
      },
      "execution_count": null,
      "outputs": [
        {
          "output_type": "stream",
          "name": "stderr",
          "text": [
            "\u001b[34m\u001b[1mwandb\u001b[0m: Currently logged in as: \u001b[33m4751413\u001b[0m. Use \u001b[1m`wandb login --relogin`\u001b[0m to force relogin\n"
          ]
        },
        {
          "output_type": "display_data",
          "data": {
            "text/plain": [
              "<IPython.core.display.HTML object>"
            ],
            "text/html": [
              "Tracking run with wandb version 0.15.8"
            ]
          },
          "metadata": {}
        },
        {
          "output_type": "display_data",
          "data": {
            "text/plain": [
              "<IPython.core.display.HTML object>"
            ],
            "text/html": [
              "Run data is saved locally in <code>/content/wandb/run-20230824_102417-lzhl1i00</code>"
            ]
          },
          "metadata": {}
        },
        {
          "output_type": "display_data",
          "data": {
            "text/plain": [
              "<IPython.core.display.HTML object>"
            ],
            "text/html": [
              "Syncing run <strong><a href='https://wandb.ai/4751413/HW_11_RNN_GRU/runs/lzhl1i00' target=\"_blank\">firm-snow-2</a></strong> to <a href='https://wandb.ai/4751413/HW_11_RNN_GRU' target=\"_blank\">Weights & Biases</a> (<a href='https://wandb.me/run' target=\"_blank\">docs</a>)<br/>"
            ]
          },
          "metadata": {}
        },
        {
          "output_type": "display_data",
          "data": {
            "text/plain": [
              "<IPython.core.display.HTML object>"
            ],
            "text/html": [
              " View project at <a href='https://wandb.ai/4751413/HW_11_RNN_GRU' target=\"_blank\">https://wandb.ai/4751413/HW_11_RNN_GRU</a>"
            ]
          },
          "metadata": {}
        },
        {
          "output_type": "display_data",
          "data": {
            "text/plain": [
              "<IPython.core.display.HTML object>"
            ],
            "text/html": [
              " View run at <a href='https://wandb.ai/4751413/HW_11_RNN_GRU/runs/lzhl1i00' target=\"_blank\">https://wandb.ai/4751413/HW_11_RNN_GRU/runs/lzhl1i00</a>"
            ]
          },
          "metadata": {}
        },
        {
          "output_type": "execute_result",
          "data": {
            "text/html": [
              "<button onClick=\"this.nextSibling.style.display='block';this.style.display='none';\">Display W&B run</button><iframe src='https://wandb.ai/4751413/HW_11_RNN_GRU/runs/lzhl1i00?jupyter=true' style='border:none;width:100%;height:420px;display:none;'></iframe>"
            ],
            "text/plain": [
              "<wandb.sdk.wandb_run.Run at 0x7ff3d3d183a0>"
            ]
          },
          "metadata": {},
          "execution_count": 29
        }
      ]
    },
    {
      "cell_type": "code",
      "source": [
        "callbacks=[early_stopping_callback, model_checkpoint_callback, WandbMetricsLogger()]"
      ],
      "metadata": {
        "id": "ZIb_72iljvBh"
      },
      "execution_count": null,
      "outputs": []
    },
    {
      "cell_type": "code",
      "source": [
        "model_RNN_GRU.compile(optimizer=Adam(learning_rate=lr), loss='binary_crossentropy', metrics=['accuracy'])"
      ],
      "metadata": {
        "id": "0vEJ-4Vktkbn"
      },
      "execution_count": null,
      "outputs": []
    },
    {
      "cell_type": "code",
      "source": [
        "model_RNN_GRU.summary()"
      ],
      "metadata": {
        "colab": {
          "base_uri": "https://localhost:8080/"
        },
        "id": "fWrsi9ZWt066",
        "outputId": "83d8e98d-3f68-4aa1-fb83-bd4b6e8cbe73"
      },
      "execution_count": null,
      "outputs": [
        {
          "output_type": "stream",
          "name": "stdout",
          "text": [
            "Model: \"sequential_1\"\n",
            "_________________________________________________________________\n",
            " Layer (type)                Output Shape              Param #   \n",
            "=================================================================\n",
            " embedding_1 (Embedding)     (None, None, 32)          320000    \n",
            "                                                                 \n",
            " gru (GRU)                   (None, 32)                6336      \n",
            "                                                                 \n",
            " dense_1 (Dense)             (None, 1)                 33        \n",
            "                                                                 \n",
            "=================================================================\n",
            "Total params: 326,369\n",
            "Trainable params: 326,369\n",
            "Non-trainable params: 0\n",
            "_________________________________________________________________\n"
          ]
        }
      ]
    },
    {
      "cell_type": "code",
      "source": [
        "history_RNN_GRU = model_RNN_GRU.fit(\n",
        "    input_train, train_labels,\n",
        "    epochs=n_epochs,\n",
        "    batch_size=batch_size,\n",
        "    validation_split=0.3,\n",
        "    callbacks=callbacks)\n",
        "# Запускаємо навчання моделі на тренувальних даних з розбиттям на тренувальну та валідаційну підмножини"
      ],
      "metadata": {
        "colab": {
          "base_uri": "https://localhost:8080/"
        },
        "id": "daVHBsu8t1A6",
        "outputId": "23c3774d-531d-40aa-e4df-cd164edc909d"
      },
      "execution_count": null,
      "outputs": [
        {
          "output_type": "stream",
          "name": "stdout",
          "text": [
            "Epoch 1/15\n",
            "136/137 [============================>.] - ETA: 0s - loss: 0.5746 - accuracy: 0.6779\n",
            "Epoch 1: val_accuracy improved from -inf to 0.82613, saving model to /content/drive/MyDrive/Colab_Notebooks/HW_11_data/HW_11_best_model_RNN_GRU.h5\n",
            "137/137 [==============================] - 9s 39ms/step - loss: 0.5733 - accuracy: 0.6789 - val_loss: 0.3930 - val_accuracy: 0.8261\n",
            "Epoch 2/15\n",
            "137/137 [==============================] - ETA: 0s - loss: 0.2969 - accuracy: 0.8773\n",
            "Epoch 2: val_accuracy improved from 0.82613 to 0.86907, saving model to /content/drive/MyDrive/Colab_Notebooks/HW_11_data/HW_11_best_model_RNN_GRU.h5\n",
            "137/137 [==============================] - 4s 26ms/step - loss: 0.2969 - accuracy: 0.8773 - val_loss: 0.3163 - val_accuracy: 0.8691\n",
            "Epoch 3/15\n",
            "137/137 [==============================] - ETA: 0s - loss: 0.2021 - accuracy: 0.9253\n",
            "Epoch 3: val_accuracy improved from 0.86907 to 0.86933, saving model to /content/drive/MyDrive/Colab_Notebooks/HW_11_data/HW_11_best_model_RNN_GRU.h5\n",
            "137/137 [==============================] - 4s 32ms/step - loss: 0.2021 - accuracy: 0.9253 - val_loss: 0.3227 - val_accuracy: 0.8693\n",
            "Epoch 4/15\n",
            "136/137 [============================>.] - ETA: 0s - loss: 0.1576 - accuracy: 0.9445\n",
            "Epoch 4: val_accuracy improved from 0.86933 to 0.87053, saving model to /content/drive/MyDrive/Colab_Notebooks/HW_11_data/HW_11_best_model_RNN_GRU.h5\n",
            "137/137 [==============================] - 3s 24ms/step - loss: 0.1573 - accuracy: 0.9446 - val_loss: 0.3554 - val_accuracy: 0.8705\n",
            "Epoch 5/15\n",
            "136/137 [============================>.] - ETA: 0s - loss: 0.1184 - accuracy: 0.9631\n",
            "Epoch 5: val_accuracy did not improve from 0.87053\n",
            "137/137 [==============================] - 3s 25ms/step - loss: 0.1186 - accuracy: 0.9630 - val_loss: 0.3796 - val_accuracy: 0.8617\n",
            "Epoch 6/15\n",
            "137/137 [==============================] - ETA: 0s - loss: 0.1095 - accuracy: 0.9635\n",
            "Epoch 6: val_accuracy did not improve from 0.87053\n",
            "137/137 [==============================] - 4s 27ms/step - loss: 0.1095 - accuracy: 0.9635 - val_loss: 0.4221 - val_accuracy: 0.8600\n",
            "Epoch 7/15\n",
            "137/137 [==============================] - ETA: 0s - loss: 0.0840 - accuracy: 0.9739\n",
            "Epoch 7: val_accuracy did not improve from 0.87053\n",
            "137/137 [==============================] - 4s 30ms/step - loss: 0.0840 - accuracy: 0.9739 - val_loss: 0.4365 - val_accuracy: 0.8544\n",
            "Epoch 8/15\n",
            "135/137 [============================>.] - ETA: 0s - loss: 0.0618 - accuracy: 0.9823\n",
            "Epoch 8: val_accuracy did not improve from 0.87053\n",
            "137/137 [==============================] - 3s 23ms/step - loss: 0.0622 - accuracy: 0.9821 - val_loss: 0.5128 - val_accuracy: 0.8552\n",
            "Epoch 9/15\n",
            "136/137 [============================>.] - ETA: 0s - loss: 0.0579 - accuracy: 0.9818\n",
            "Epoch 9: val_accuracy did not improve from 0.87053\n",
            "137/137 [==============================] - 3s 24ms/step - loss: 0.0580 - accuracy: 0.9819 - val_loss: 0.5095 - val_accuracy: 0.8412\n",
            "Epoch 9: early stopping\n"
          ]
        }
      ]
    },
    {
      "cell_type": "code",
      "source": [
        "# Графіки для точності та втрат\n",
        "plt.plot(history_RNN_GRU.history['accuracy'], label='Точність на тренуванні')\n",
        "plt.plot(history_RNN_GRU.history['val_accuracy'], label='Точність на валідації')\n",
        "plt.plot(history_RNN_GRU.history['loss'], label='Втрати на тренуванні')\n",
        "plt.plot(history_RNN_GRU.history['val_loss'], label='Втрати на валідації')\n",
        "plt.legend()\n",
        "plt.show()"
      ],
      "metadata": {
        "colab": {
          "base_uri": "https://localhost:8080/",
          "height": 437
        },
        "id": "qUilj8prt1Ek",
        "outputId": "fe3aecb7-f8ed-4120-f1d0-afebef07ae3f"
      },
      "execution_count": null,
      "outputs": [
        {
          "output_type": "display_data",
          "data": {
            "text/plain": [
              "<Figure size 640x480 with 1 Axes>"
            ],
            "image/png": "[encoded data removed]"
          },
          "metadata": {}
        }
      ]
    },
    {
      "cell_type": "code",
      "source": [
        "# Завантаження кращої збереженої моделі\n",
        "best_model_RNN_GRU = load_model(path+'/HW_11_best_model_RNN_GRU.h5')\n",
        "\n",
        "# Тестування на тестових даних\n",
        "test_loss, test_accuracy = best_model_RNN_GRU.evaluate(input_test, test_labels)\n",
        "best_of_models.update({\"best_model_RNN_GRU\": test_accuracy})\n",
        "\n",
        "print(f\"Втрати на тестовому наборі: {test_loss:.4f}\")\n",
        "print(f\"Точність на тестовому наборі: {test_accuracy:.4f}\")"
      ],
      "metadata": {
        "colab": {
          "base_uri": "https://localhost:8080/"
        },
        "id": "CX_OG6sxt_MO",
        "outputId": "5a9aab86-af0f-4cb7-9992-939e2cd83d51"
      },
      "execution_count": 20,
      "outputs": [
        {
          "output_type": "stream",
          "name": "stdout",
          "text": [
            "782/782 [==============================] - 7s 8ms/step - loss: 0.3840 - accuracy: 0.8597\n",
            "Втрати на тестовому наборі: 0.3840\n",
            "Точність на тестовому наборі: 0.8597\n"
          ]
        }
      ]
    },
    {
      "cell_type": "code",
      "source": [
        "# Прогнозування з використанням навченої моделі:\n",
        "\n",
        "predictions = best_model_RNN_GRU.predict(input_test)\n",
        "\n",
        "# Для отримання зрозумілішого вигляду прогнозів, їх можна перетворити в бінарний формат:\n",
        "binary_predictions = [1 if pred > 0.5 else 0 for pred in predictions]\n",
        "\n",
        "# Для порівняння можна вивести деякі прогнозовані значення поряд з фактичними значеннями\n",
        "for i in range(10):\n",
        "    print(f\"Прогнозоване: {binary_predictions[i]}, Фактичне: {test_labels[i]}\")"
      ],
      "metadata": {
        "colab": {
          "base_uri": "https://localhost:8080/"
        },
        "id": "RgaRuWj7uCW7",
        "outputId": "1f5cc1b2-abb1-4ac6-bf22-d06479a8b057"
      },
      "execution_count": 21,
      "outputs": [
        {
          "output_type": "stream",
          "name": "stdout",
          "text": [
            "782/782 [==============================] - 7s 8ms/step\n",
            "Прогнозоване: 0, Фактичне: 0\n",
            "Прогнозоване: 1, Фактичне: 1\n",
            "Прогнозоване: 1, Фактичне: 1\n",
            "Прогнозоване: 1, Фактичне: 0\n",
            "Прогнозоване: 1, Фактичне: 1\n",
            "Прогнозоване: 1, Фактичне: 1\n",
            "Прогнозоване: 1, Фактичне: 1\n",
            "Прогнозоване: 0, Фактичне: 0\n",
            "Прогнозоване: 1, Фактичне: 0\n",
            "Прогнозоване: 1, Фактичне: 1\n"
          ]
        }
      ]
    },
    {
      "cell_type": "code",
      "source": [
        "# Побудуємо confusion_matrix\n",
        "confusion_mat = confusion_matrix(test_labels, binary_predictions)\n",
        "\n",
        "\n",
        "# Використання Seaborn для візуалізації теплової карти\n",
        "sns.set(font_scale=1.2)\n",
        "sns.heatmap(confusion_mat, annot=True, fmt=\"d\", cmap=\"Oranges\", linewidths=1, linecolor=\"black\",\n",
        "            xticklabels=[\"Predicted Negative\", \"Predicted Positive\"],\n",
        "            yticklabels=[\"Actual Negative\", \"Actual Positive\"])\n",
        "plt.xlabel(\"Predicted\")\n",
        "plt.ylabel(\"Actual\")\n",
        "plt.title(\"Confusion Matrix\")\n",
        "plt.show()"
      ],
      "metadata": {
        "colab": {
          "base_uri": "https://localhost:8080/",
          "height": 485
        },
        "id": "fNY3AUqPuCeZ",
        "outputId": "f5482b10-b84a-41ac-a330-ec59ea8fe180"
      },
      "execution_count": 22,
      "outputs": [
        {
          "output_type": "display_data",
          "data": {
            "text/plain": [
              "<Figure size 640x480 with 2 Axes>"
            ],
            "image/png": "[encoded data removed]"
          },
          "metadata": {}
        }
      ]
    },
    {
      "cell_type": "code",
      "source": [
        "wandb.finish()"
      ],
      "metadata": {
        "id": "U9ZADyN9uOTH"
      },
      "execution_count": 23,
      "outputs": []
    },
    {
      "cell_type": "markdown",
      "source": [
        "##Суб висновок: - валідаційні дані проходять з наступними показниками. Точність - 86.5% на валідації, час 25 хвилин, на тесті - 85.1%. n_epoch=15; lr=0,001; batch_size=128 Trainable params:326,369"
      ],
      "metadata": {
        "id": "Qi0fL15budNX"
      }
    },
    {
      "cell_type": "markdown",
      "source": [
        "## Побудова моделі LSTM"
      ],
      "metadata": {
        "id": "HOKn4hykvKah"
      }
    },
    {
      "cell_type": "code",
      "source": [
        "model_RNN_LSTM = Sequential()\n",
        "# Створення порожньої моделі Sequential\n",
        "\n",
        "# Додавання Embedding шару для перетворення слів в вектори фіксованої довжини\n",
        "model_RNN_LSTM.add(Embedding(max_features, 32))\n",
        "# Параметри: кількість слів для розгляду як особливості та розмір вектора, що представляє кожне слово\n",
        "\n",
        "# Додавання LSTM шару з 32 вузлами\n",
        "model_RNN_LSTM.add(LSTM(32))\n",
        "# Параметр: кількість вузлів (розмір прихованого стану)\n",
        "\n",
        "# Додавання Dense шару з одним вузлом та активацією sigmoid\n",
        "model_RNN_LSTM.add(Dense(1, activation='sigmoid'))\n",
        "# Параметри: кількість вузлів (вихідний розмір) та функція активації (sigmoid для бінарної класифікації)"
      ],
      "metadata": {
        "id": "hIE47dllvK0M"
      },
      "execution_count": 24,
      "outputs": []
    },
    {
      "cell_type": "code",
      "source": [
        "# Замінимо колбек ModelCheckpoint, щоб зберегти найкращу модель за кожним епохом\n",
        "model_checkpoint_callback = ModelCheckpoint(path+'/HW_11_best_model_RNN_LSTM.h5', monitor='val_accuracy', mode='max', save_best_only=True, verbose=1)"
      ],
      "metadata": {
        "id": "wmZuFnGIvlGf"
      },
      "execution_count": null,
      "outputs": []
    },
    {
      "cell_type": "code",
      "source": [
        "# Додамо новий монітор\n",
        "wandb.init(project=\"HW_11_RNN_LSTM\", config={\"lr\": lr, \"n_epochs\": n_epochs, \"batch_size\": batch_size})"
      ],
      "metadata": {
        "colab": {
          "base_uri": "https://localhost:8080/",
          "height": 125
        },
        "outputId": "03552ba9-df73-48c2-8b12-1d0841328e31",
        "id": "UyyID4jGvlGh"
      },
      "execution_count": null,
      "outputs": [
        {
          "output_type": "display_data",
          "data": {
            "text/plain": [
              "<IPython.core.display.HTML object>"
            ],
            "text/html": [
              "Tracking run with wandb version 0.15.8"
            ]
          },
          "metadata": {}
        },
        {
          "output_type": "display_data",
          "data": {
            "text/plain": [
              "<IPython.core.display.HTML object>"
            ],
            "text/html": [
              "Run data is saved locally in <code>/content/wandb/run-20230824_102532-advdo2fs</code>"
            ]
          },
          "metadata": {}
        },
        {
          "output_type": "display_data",
          "data": {
            "text/plain": [
              "<IPython.core.display.HTML object>"
            ],
            "text/html": [
              "Syncing run <strong><a href='https://wandb.ai/4751413/HW_11_RNN_LSTM/runs/advdo2fs' target=\"_blank\">colorful-armadillo-2</a></strong> to <a href='https://wandb.ai/4751413/HW_11_RNN_LSTM' target=\"_blank\">Weights & Biases</a> (<a href='https://wandb.me/run' target=\"_blank\">docs</a>)<br/>"
            ]
          },
          "metadata": {}
        },
        {
          "output_type": "display_data",
          "data": {
            "text/plain": [
              "<IPython.core.display.HTML object>"
            ],
            "text/html": [
              " View project at <a href='https://wandb.ai/4751413/HW_11_RNN_LSTM' target=\"_blank\">https://wandb.ai/4751413/HW_11_RNN_LSTM</a>"
            ]
          },
          "metadata": {}
        },
        {
          "output_type": "display_data",
          "data": {
            "text/plain": [
              "<IPython.core.display.HTML object>"
            ],
            "text/html": [
              " View run at <a href='https://wandb.ai/4751413/HW_11_RNN_LSTM/runs/advdo2fs' target=\"_blank\">https://wandb.ai/4751413/HW_11_RNN_LSTM/runs/advdo2fs</a>"
            ]
          },
          "metadata": {}
        },
        {
          "output_type": "execute_result",
          "data": {
            "text/html": [
              "<button onClick=\"this.nextSibling.style.display='block';this.style.display='none';\">Display W&B run</button><iframe src='https://wandb.ai/4751413/HW_11_RNN_LSTM/runs/advdo2fs?jupyter=true' style='border:none;width:100%;height:420px;display:none;'></iframe>"
            ],
            "text/plain": [
              "<wandb.sdk.wandb_run.Run at 0x7ff3d34da470>"
            ]
          },
          "metadata": {},
          "execution_count": 41
        }
      ]
    },
    {
      "cell_type": "code",
      "source": [
        "callbacks=[early_stopping_callback, model_checkpoint_callback, WandbMetricsLogger()]"
      ],
      "metadata": {
        "id": "sNmimypDvlGi"
      },
      "execution_count": null,
      "outputs": []
    },
    {
      "cell_type": "code",
      "source": [
        "model_RNN_LSTM.compile(optimizer=Adam(learning_rate=lr), loss='binary_crossentropy', metrics=['accuracy'])"
      ],
      "metadata": {
        "id": "wy78mDggvlGi"
      },
      "execution_count": null,
      "outputs": []
    },
    {
      "cell_type": "code",
      "source": [
        "model_RNN_LSTM.summary()"
      ],
      "metadata": {
        "colab": {
          "base_uri": "https://localhost:8080/"
        },
        "outputId": "62e7315e-895b-4e9f-9ed4-c899b87b721e",
        "id": "IY5jT-FlvlGj"
      },
      "execution_count": null,
      "outputs": [
        {
          "output_type": "stream",
          "name": "stdout",
          "text": [
            "Model: \"sequential_2\"\n",
            "_________________________________________________________________\n",
            " Layer (type)                Output Shape              Param #   \n",
            "=================================================================\n",
            " embedding_2 (Embedding)     (None, None, 32)          320000    \n",
            "                                                                 \n",
            " lstm (LSTM)                 (None, 32)                8320      \n",
            "                                                                 \n",
            " dense_2 (Dense)             (None, 1)                 33        \n",
            "                                                                 \n",
            "=================================================================\n",
            "Total params: 328,353\n",
            "Trainable params: 328,353\n",
            "Non-trainable params: 0\n",
            "_________________________________________________________________\n"
          ]
        }
      ]
    },
    {
      "cell_type": "code",
      "source": [
        "history_RNN_LSTM = model_RNN_LSTM.fit(\n",
        "    input_train, train_labels,\n",
        "    epochs=n_epochs,\n",
        "    batch_size=batch_size,\n",
        "    validation_split=0.3,\n",
        "    callbacks=callbacks)\n",
        "# Запускаємо навчання моделі на тренувальних даних з розбиттям на тренувальну та валідаційну підмножини"
      ],
      "metadata": {
        "colab": {
          "base_uri": "https://localhost:8080/"
        },
        "id": "8nY4CmZfvK59",
        "outputId": "6f0926ed-f7ed-4f40-a6dd-dd94017a0193"
      },
      "execution_count": null,
      "outputs": [
        {
          "output_type": "stream",
          "name": "stdout",
          "text": [
            "Epoch 1/15\n",
            "136/137 [============================>.] - ETA: 0s - loss: 0.5155 - accuracy: 0.7419\n",
            "Epoch 1: val_accuracy improved from -inf to 0.85973, saving model to /content/drive/MyDrive/Colab_Notebooks/HW_11_data/HW_11_best_model_RNN_LSTM.h5\n",
            "137/137 [==============================] - 7s 36ms/step - loss: 0.5144 - accuracy: 0.7427 - val_loss: 0.3475 - val_accuracy: 0.8597\n",
            "Epoch 2/15\n",
            "136/137 [============================>.] - ETA: 0s - loss: 0.2598 - accuracy: 0.8995\n",
            "Epoch 2: val_accuracy improved from 0.85973 to 0.87693, saving model to /content/drive/MyDrive/Colab_Notebooks/HW_11_data/HW_11_best_model_RNN_LSTM.h5\n",
            "137/137 [==============================] - 4s 32ms/step - loss: 0.2598 - accuracy: 0.8993 - val_loss: 0.2999 - val_accuracy: 0.8769\n",
            "Epoch 3/15\n",
            "136/137 [============================>.] - ETA: 0s - loss: 0.1785 - accuracy: 0.9378\n",
            "Epoch 3: val_accuracy improved from 0.87693 to 0.88200, saving model to /content/drive/MyDrive/Colab_Notebooks/HW_11_data/HW_11_best_model_RNN_LSTM.h5\n",
            "137/137 [==============================] - 4s 26ms/step - loss: 0.1785 - accuracy: 0.9378 - val_loss: 0.2968 - val_accuracy: 0.8820\n",
            "Epoch 4/15\n",
            "135/137 [============================>.] - ETA: 0s - loss: 0.1443 - accuracy: 0.9519\n",
            "Epoch 4: val_accuracy did not improve from 0.88200\n",
            "137/137 [==============================] - 3s 24ms/step - loss: 0.1447 - accuracy: 0.9515 - val_loss: 0.3366 - val_accuracy: 0.8699\n",
            "Epoch 5/15\n",
            "135/137 [============================>.] - ETA: 0s - loss: 0.1093 - accuracy: 0.9644\n",
            "Epoch 5: val_accuracy did not improve from 0.88200\n",
            "137/137 [==============================] - 3s 25ms/step - loss: 0.1103 - accuracy: 0.9640 - val_loss: 0.3752 - val_accuracy: 0.8664\n",
            "Epoch 6/15\n",
            "136/137 [============================>.] - ETA: 0s - loss: 0.0933 - accuracy: 0.9696\n",
            "Epoch 6: val_accuracy did not improve from 0.88200\n",
            "137/137 [==============================] - 5s 33ms/step - loss: 0.0932 - accuracy: 0.9697 - val_loss: 0.3839 - val_accuracy: 0.8641\n",
            "Epoch 7/15\n",
            "136/137 [============================>.] - ETA: 0s - loss: 0.0829 - accuracy: 0.9738\n",
            "Epoch 7: val_accuracy did not improve from 0.88200\n",
            "137/137 [==============================] - 3s 24ms/step - loss: 0.0826 - accuracy: 0.9739 - val_loss: 0.4373 - val_accuracy: 0.8685\n",
            "Epoch 8/15\n",
            "137/137 [==============================] - ETA: 0s - loss: 0.0776 - accuracy: 0.9758\n",
            "Epoch 8: val_accuracy did not improve from 0.88200\n",
            "137/137 [==============================] - 4s 26ms/step - loss: 0.0776 - accuracy: 0.9758 - val_loss: 0.4468 - val_accuracy: 0.8693\n",
            "Epoch 8: early stopping\n"
          ]
        }
      ]
    },
    {
      "cell_type": "code",
      "source": [
        "# Графіки для точності та втрат\n",
        "plt.plot(history_RNN_LSTM.history['accuracy'], label='Точність на тренуванні')\n",
        "plt.plot(history_RNN_LSTM.history['val_accuracy'], label='Точність на валідації')\n",
        "plt.plot(history_RNN_LSTM.history['loss'], label='Втрати на тренуванні')\n",
        "plt.plot(history_RNN_LSTM.history['val_loss'], label='Втрати на валідації')\n",
        "plt.legend()\n",
        "plt.show()"
      ],
      "metadata": {
        "colab": {
          "base_uri": "https://localhost:8080/",
          "height": 437
        },
        "id": "23RW98RCv3g8",
        "outputId": "d53a0ffd-0858-4dd5-839d-89cd96a9f6fd"
      },
      "execution_count": null,
      "outputs": [
        {
          "output_type": "display_data",
          "data": {
            "text/plain": [
              "<Figure size 640x480 with 1 Axes>"
            ],
            "image/png": "[encoded data removed]"
          },
          "metadata": {}
        }
      ]
    },
    {
      "cell_type": "code",
      "source": [
        "# Завантаження кращої збереженої моделі\n",
        "best_model_RNN_LSTM = load_model(path+'/HW_11_best_model_RNN_LSTM.h5')\n",
        "\n",
        "# Тестування на тестових даних\n",
        "test_loss, test_accuracy = best_model_RNN_LSTM.evaluate(input_test, test_labels)\n",
        "best_of_models.update({\"best_model_RNN_LSTM\": test_accuracy})\n",
        "\n",
        "print(f\"Втрати на тестовому наборі: {test_loss:.4f}\")\n",
        "print(f\"Точність на тестовому наборі: {test_accuracy:.4f}\")"
      ],
      "metadata": {
        "colab": {
          "base_uri": "https://localhost:8080/"
        },
        "id": "YGKqBsBQv3g9",
        "outputId": "7a4358df-d046-4ac1-8608-d079f437355e"
      },
      "execution_count": 25,
      "outputs": [
        {
          "output_type": "stream",
          "name": "stdout",
          "text": [
            "782/782 [==============================] - 11s 13ms/step - loss: 0.3156 - accuracy: 0.8722\n",
            "Втрати на тестовому наборі: 0.3156\n",
            "Точність на тестовому наборі: 0.8722\n"
          ]
        }
      ]
    },
    {
      "cell_type": "code",
      "source": [
        "# Прогнозування з використанням навченої моделі:\n",
        "\n",
        "predictions = best_model_RNN_LSTM.predict(input_test)\n",
        "\n",
        "# Для отримання зрозумілішого вигляду прогнозів, їх можна перетворити в бінарний формат:\n",
        "binary_predictions = [1 if pred > 0.5 else 0 for pred in predictions]\n",
        "\n",
        "# Для порівняння можна вивести деякі прогнозовані значення поряд з фактичними значеннями\n",
        "for i in range(10):\n",
        "    print(f\"Прогнозоване: {binary_predictions[i]}, Фактичне: {test_labels[i]}\")"
      ],
      "metadata": {
        "colab": {
          "base_uri": "https://localhost:8080/"
        },
        "id": "7DbJOs5Fv3g9",
        "outputId": "ae35ab10-81fa-4727-88cb-9529fbdb2f8f"
      },
      "execution_count": 26,
      "outputs": [
        {
          "output_type": "stream",
          "name": "stdout",
          "text": [
            "782/782 [==============================] - 5s 7ms/step\n",
            "Прогнозоване: 0, Фактичне: 0\n",
            "Прогнозоване: 1, Фактичне: 1\n",
            "Прогнозоване: 1, Фактичне: 1\n",
            "Прогнозоване: 0, Фактичне: 0\n",
            "Прогнозоване: 1, Фактичне: 1\n",
            "Прогнозоване: 1, Фактичне: 1\n",
            "Прогнозоване: 1, Фактичне: 1\n",
            "Прогнозоване: 0, Фактичне: 0\n",
            "Прогнозоване: 1, Фактичне: 0\n",
            "Прогнозоване: 1, Фактичне: 1\n"
          ]
        }
      ]
    },
    {
      "cell_type": "code",
      "source": [
        "# Побудуємо confusion_matrix\n",
        "confusion_mat = confusion_matrix(test_labels, binary_predictions)\n",
        "\n",
        "\n",
        "# Використання Seaborn для візуалізації теплової карти\n",
        "sns.set(font_scale=1.2)\n",
        "sns.heatmap(confusion_mat, annot=True, fmt=\"d\", cmap=\"Oranges\", linewidths=1, linecolor=\"black\",\n",
        "            xticklabels=[\"Predicted Negative\", \"Predicted Positive\"],\n",
        "            yticklabels=[\"Actual Negative\", \"Actual Positive\"])\n",
        "plt.xlabel(\"Predicted\")\n",
        "plt.ylabel(\"Actual\")\n",
        "plt.title(\"Confusion Matrix\")\n",
        "plt.show()"
      ],
      "metadata": {
        "colab": {
          "base_uri": "https://localhost:8080/",
          "height": 485
        },
        "id": "ySCYaI0Vv3g9",
        "outputId": "82c7abba-1eac-4f06-d212-81b6b98d1be9"
      },
      "execution_count": 27,
      "outputs": [
        {
          "output_type": "display_data",
          "data": {
            "text/plain": [
              "<Figure size 640x480 with 2 Axes>"
            ],
            "image/png": "[encoded data removed]"
          },
          "metadata": {}
        }
      ]
    },
    {
      "cell_type": "code",
      "source": [
        "wandb.finish()"
      ],
      "metadata": {
        "id": "9MDhl-D3v3g-"
      },
      "execution_count": 28,
      "outputs": []
    },
    {
      "cell_type": "markdown",
      "source": [
        "## Суб висновок: - валідаційні дані проходять з наступними показниками. Точність - 88.2% на валідації, час 20 хвилин, на тесті - 87.2%. n_epoch=15; lr=0,001; batch_size=128 Trainable params: 328,353"
      ],
      "metadata": {
        "id": "u2qr32GVwRoZ"
      }
    },
    {
      "cell_type": "markdown",
      "source": [
        "## Побудова моделі BRNN LSTM:"
      ],
      "metadata": {
        "id": "TuN5TBTa8IVS"
      }
    },
    {
      "cell_type": "code",
      "source": [
        "model_BRNN = Sequential()\n",
        "# Створення порожньої моделі Sequential\n",
        "\n",
        "# Додавання Embedding шару для перетворення слів в вектори фіксованої довжини\n",
        "model_BRNN.add(Embedding(max_features, 32))\n",
        "# Параметри: кількість слів для розгляду як особливості та розмір вектора, що представляє кожне слово\n",
        "\n",
        "# Додавання Bidirectional LSTM шару з 32 вузлами\n",
        "model_BRNN.add(Bidirectional(LSTM(32)))\n",
        "# Параметр: кількість вузлів (розмір прихованого стану)\n",
        "\n",
        "# Додавання Dense шару з одним вузлом та активацією sigmoid\n",
        "model_BRNN.add(Dense(1, activation='sigmoid'))\n",
        "# Параметри: кількість вузлів (вихідний розмір) та функція активації (sigmoid для бінарної класифікації)"
      ],
      "metadata": {
        "id": "tKuBHjmXvK8x"
      },
      "execution_count": 29,
      "outputs": []
    },
    {
      "cell_type": "code",
      "source": [
        "# Замінимо колбек ModelCheckpoint, щоб зберегти найкращу модель за кожним епохом\n",
        "model_checkpoint_callback = ModelCheckpoint(path+'/HW_11_best_model_BRNN.h5', monitor='val_accuracy', mode='max', save_best_only=True, verbose=1)"
      ],
      "metadata": {
        "id": "XaYZrA258n8l"
      },
      "execution_count": null,
      "outputs": []
    },
    {
      "cell_type": "code",
      "source": [
        "# Додамо новий монітор\n",
        "wandb.init(project=\"HW_11_BRNN\", config={\"lr\": lr, \"n_epochs\": n_epochs, \"batch_size\": batch_size})"
      ],
      "metadata": {
        "colab": {
          "base_uri": "https://localhost:8080/",
          "height": 125
        },
        "outputId": "3fa0ed58-cd5c-4b02-d658-4a6baef15454",
        "id": "2oQz3Tgt8n8m"
      },
      "execution_count": null,
      "outputs": [
        {
          "output_type": "display_data",
          "data": {
            "text/plain": [
              "<IPython.core.display.HTML object>"
            ],
            "text/html": [
              "Tracking run with wandb version 0.15.8"
            ]
          },
          "metadata": {}
        },
        {
          "output_type": "display_data",
          "data": {
            "text/plain": [
              "<IPython.core.display.HTML object>"
            ],
            "text/html": [
              "Run data is saved locally in <code>/content/wandb/run-20230824_102639-24cjsipm</code>"
            ]
          },
          "metadata": {}
        },
        {
          "output_type": "display_data",
          "data": {
            "text/plain": [
              "<IPython.core.display.HTML object>"
            ],
            "text/html": [
              "Syncing run <strong><a href='https://wandb.ai/4751413/HW_11_BRNN/runs/24cjsipm' target=\"_blank\">fearless-river-2</a></strong> to <a href='https://wandb.ai/4751413/HW_11_BRNN' target=\"_blank\">Weights & Biases</a> (<a href='https://wandb.me/run' target=\"_blank\">docs</a>)<br/>"
            ]
          },
          "metadata": {}
        },
        {
          "output_type": "display_data",
          "data": {
            "text/plain": [
              "<IPython.core.display.HTML object>"
            ],
            "text/html": [
              " View project at <a href='https://wandb.ai/4751413/HW_11_BRNN' target=\"_blank\">https://wandb.ai/4751413/HW_11_BRNN</a>"
            ]
          },
          "metadata": {}
        },
        {
          "output_type": "display_data",
          "data": {
            "text/plain": [
              "<IPython.core.display.HTML object>"
            ],
            "text/html": [
              " View run at <a href='https://wandb.ai/4751413/HW_11_BRNN/runs/24cjsipm' target=\"_blank\">https://wandb.ai/4751413/HW_11_BRNN/runs/24cjsipm</a>"
            ]
          },
          "metadata": {}
        },
        {
          "output_type": "execute_result",
          "data": {
            "text/html": [
              "<button onClick=\"this.nextSibling.style.display='block';this.style.display='none';\">Display W&B run</button><iframe src='https://wandb.ai/4751413/HW_11_BRNN/runs/24cjsipm?jupyter=true' style='border:none;width:100%;height:420px;display:none;'></iframe>"
            ],
            "text/plain": [
              "<wandb.sdk.wandb_run.Run at 0x7ff3d3997d00>"
            ]
          },
          "metadata": {},
          "execution_count": 53
        }
      ]
    },
    {
      "cell_type": "code",
      "source": [
        "callbacks=[early_stopping_callback, model_checkpoint_callback, WandbMetricsLogger()]"
      ],
      "metadata": {
        "id": "mufhDglK8n8n"
      },
      "execution_count": null,
      "outputs": []
    },
    {
      "cell_type": "code",
      "source": [
        "model_BRNN.compile(optimizer=Adam(learning_rate=lr), loss='binary_crossentropy', metrics=['accuracy'])"
      ],
      "metadata": {
        "id": "BAa8zaV38n8n"
      },
      "execution_count": null,
      "outputs": []
    },
    {
      "cell_type": "code",
      "source": [
        "model_BRNN.summary()"
      ],
      "metadata": {
        "colab": {
          "base_uri": "https://localhost:8080/"
        },
        "outputId": "72fcd051-5083-43ab-926f-35a3d32c8b47",
        "id": "YWo3XF998n8n"
      },
      "execution_count": null,
      "outputs": [
        {
          "output_type": "stream",
          "name": "stdout",
          "text": [
            "Model: \"sequential_3\"\n",
            "_________________________________________________________________\n",
            " Layer (type)                Output Shape              Param #   \n",
            "=================================================================\n",
            " embedding_3 (Embedding)     (None, None, 32)          320000    \n",
            "                                                                 \n",
            " bidirectional (Bidirectiona  (None, 64)               16640     \n",
            " l)                                                              \n",
            "                                                                 \n",
            " dense_3 (Dense)             (None, 1)                 65        \n",
            "                                                                 \n",
            "=================================================================\n",
            "Total params: 336,705\n",
            "Trainable params: 336,705\n",
            "Non-trainable params: 0\n",
            "_________________________________________________________________\n"
          ]
        }
      ]
    },
    {
      "cell_type": "code",
      "source": [
        "history_BRNN = model_BRNN.fit(\n",
        "    input_train, train_labels,\n",
        "    epochs=n_epochs,\n",
        "    batch_size=batch_size,\n",
        "    validation_split=0.3,\n",
        "    callbacks=callbacks)\n",
        "# Запускаємо навчання моделі на тренувальних даних з розбиттям на тренувальну та валідаційну підмножини"
      ],
      "metadata": {
        "colab": {
          "base_uri": "https://localhost:8080/"
        },
        "outputId": "b7770d3f-a680-46a7-ac35-b8d3c2aa1291",
        "id": "Rbuf2n4Y8n8n"
      },
      "execution_count": null,
      "outputs": [
        {
          "output_type": "stream",
          "name": "stdout",
          "text": [
            "Epoch 1/15\n",
            "136/137 [============================>.] - ETA: 0s - loss: 0.5504 - accuracy: 0.7132\n",
            "Epoch 1: val_accuracy improved from -inf to 0.84293, saving model to /content/drive/MyDrive/Colab_Notebooks/HW_11_data/HW_11_best_model_BRNN.h5\n",
            "137/137 [==============================] - 12s 56ms/step - loss: 0.5492 - accuracy: 0.7141 - val_loss: 0.3717 - val_accuracy: 0.8429\n",
            "Epoch 2/15\n",
            "136/137 [============================>.] - ETA: 0s - loss: 0.2911 - accuracy: 0.8863\n",
            "Epoch 2: val_accuracy improved from 0.84293 to 0.87187, saving model to /content/drive/MyDrive/Colab_Notebooks/HW_11_data/HW_11_best_model_BRNN.h5\n",
            "137/137 [==============================] - 7s 49ms/step - loss: 0.2911 - accuracy: 0.8863 - val_loss: 0.3072 - val_accuracy: 0.8719\n",
            "Epoch 3/15\n",
            "137/137 [==============================] - ETA: 0s - loss: 0.2051 - accuracy: 0.9274\n",
            "Epoch 3: val_accuracy improved from 0.87187 to 0.88520, saving model to /content/drive/MyDrive/Colab_Notebooks/HW_11_data/HW_11_best_model_BRNN.h5\n",
            "137/137 [==============================] - 5s 38ms/step - loss: 0.2051 - accuracy: 0.9274 - val_loss: 0.3040 - val_accuracy: 0.8852\n",
            "Epoch 4/15\n",
            "137/137 [==============================] - ETA: 0s - loss: 0.1687 - accuracy: 0.9427\n",
            "Epoch 4: val_accuracy did not improve from 0.88520\n",
            "137/137 [==============================] - 6s 42ms/step - loss: 0.1687 - accuracy: 0.9427 - val_loss: 0.3088 - val_accuracy: 0.8777\n",
            "Epoch 5/15\n",
            "136/137 [============================>.] - ETA: 0s - loss: 0.1214 - accuracy: 0.9613\n",
            "Epoch 5: val_accuracy did not improve from 0.88520\n",
            "137/137 [==============================] - 6s 43ms/step - loss: 0.1216 - accuracy: 0.9611 - val_loss: 0.3369 - val_accuracy: 0.8728\n",
            "Epoch 6/15\n",
            "137/137 [==============================] - ETA: 0s - loss: 0.1033 - accuracy: 0.9673\n",
            "Epoch 6: val_accuracy did not improve from 0.88520\n",
            "137/137 [==============================] - 6s 42ms/step - loss: 0.1033 - accuracy: 0.9673 - val_loss: 0.4283 - val_accuracy: 0.8751\n",
            "Epoch 7/15\n",
            "137/137 [==============================] - ETA: 0s - loss: 0.1294 - accuracy: 0.9547\n",
            "Epoch 7: val_accuracy did not improve from 0.88520\n",
            "137/137 [==============================] - 7s 50ms/step - loss: 0.1294 - accuracy: 0.9547 - val_loss: 0.3749 - val_accuracy: 0.8709\n",
            "Epoch 8/15\n",
            "137/137 [==============================] - ETA: 0s - loss: 0.0942 - accuracy: 0.9690\n",
            "Epoch 8: val_accuracy did not improve from 0.88520\n",
            "137/137 [==============================] - 6s 42ms/step - loss: 0.0942 - accuracy: 0.9690 - val_loss: 0.3831 - val_accuracy: 0.8741\n",
            "Epoch 8: early stopping\n"
          ]
        }
      ]
    },
    {
      "cell_type": "code",
      "source": [
        "# Графіки для точності та втрат\n",
        "plt.plot(history_BRNN.history['accuracy'], label='Точність на тренуванні')\n",
        "plt.plot(history_BRNN.history['val_accuracy'], label='Точність на валідації')\n",
        "plt.plot(history_BRNN.history['loss'], label='Втрати на тренуванні')\n",
        "plt.plot(history_BRNN.history['val_loss'], label='Втрати на валідації')\n",
        "plt.legend()\n",
        "plt.show()"
      ],
      "metadata": {
        "colab": {
          "base_uri": "https://localhost:8080/",
          "height": 439
        },
        "outputId": "deed3185-8851-47ce-87e8-4f11ff6a0156",
        "id": "dAARXQK18n8n"
      },
      "execution_count": null,
      "outputs": [
        {
          "output_type": "display_data",
          "data": {
            "text/plain": [
              "<Figure size 640x480 with 1 Axes>"
            ],
            "image/png": "[encoded data removed]"
          },
          "metadata": {}
        }
      ]
    },
    {
      "cell_type": "code",
      "source": [
        "# Завантаження кращої збереженої моделі\n",
        "best_model_BRNN = load_model(path+'/HW_11_best_model_BRNN.h5')\n",
        "\n",
        "# Тестування на тестових даних\n",
        "test_loss, test_accuracy = best_model_BRNN.evaluate(input_test, test_labels)\n",
        "best_of_models.update({\"best_model_BRNN\": test_accuracy})\n",
        "\n",
        "print(f\"Втрати на тестовому наборі: {test_loss:.4f}\")\n",
        "print(f\"Точність на тестовому наборі: {test_accuracy:.4f}\")"
      ],
      "metadata": {
        "colab": {
          "base_uri": "https://localhost:8080/"
        },
        "outputId": "08d6e27d-0344-4b77-d405-d1e255e3ed2f",
        "id": "izYAUKK18n8o"
      },
      "execution_count": 30,
      "outputs": [
        {
          "output_type": "stream",
          "name": "stdout",
          "text": [
            "782/782 [==============================] - 13s 15ms/step - loss: 0.3380 - accuracy: 0.8714\n",
            "Втрати на тестовому наборі: 0.3380\n",
            "Точність на тестовому наборі: 0.8714\n"
          ]
        }
      ]
    },
    {
      "cell_type": "code",
      "source": [
        "# Прогнозування з використанням навченої моделі:\n",
        "\n",
        "predictions = best_model_BRNN.predict(input_test)\n",
        "\n",
        "# Для отримання зрозумілішого вигляду прогнозів, їх можна перетворити в бінарний формат:\n",
        "binary_predictions = [1 if pred > 0.5 else 0 for pred in predictions]\n",
        "\n",
        "# Для порівняння можна вивести деякі прогнозовані значення поряд з фактичними значеннями\n",
        "for i in range(10):\n",
        "    print(f\"Прогнозоване: {binary_predictions[i]}, Фактичне: {test_labels[i]}\")"
      ],
      "metadata": {
        "colab": {
          "base_uri": "https://localhost:8080/"
        },
        "outputId": "fefbd58d-6eaf-427e-da28-82ec1f190fe9",
        "id": "QWGC-Dsq8n8o"
      },
      "execution_count": 31,
      "outputs": [
        {
          "output_type": "stream",
          "name": "stdout",
          "text": [
            "782/782 [==============================] - 11s 14ms/step\n",
            "Прогнозоване: 0, Фактичне: 0\n",
            "Прогнозоване: 1, Фактичне: 1\n",
            "Прогнозоване: 1, Фактичне: 1\n",
            "Прогнозоване: 0, Фактичне: 0\n",
            "Прогнозоване: 1, Фактичне: 1\n",
            "Прогнозоване: 1, Фактичне: 1\n",
            "Прогнозоване: 1, Фактичне: 1\n",
            "Прогнозоване: 0, Фактичне: 0\n",
            "Прогнозоване: 1, Фактичне: 0\n",
            "Прогнозоване: 1, Фактичне: 1\n"
          ]
        }
      ]
    },
    {
      "cell_type": "code",
      "source": [
        "# Побудуємо confusion_matrix\n",
        "confusion_mat = confusion_matrix(test_labels, binary_predictions)\n",
        "\n",
        "\n",
        "# Використання Seaborn для візуалізації теплової карти\n",
        "sns.set(font_scale=1.2)\n",
        "sns.heatmap(confusion_mat, annot=True, fmt=\"d\", cmap=\"Oranges\", linewidths=1, linecolor=\"black\",\n",
        "            xticklabels=[\"Predicted Negative\", \"Predicted Positive\"],\n",
        "            yticklabels=[\"Actual Negative\", \"Actual Positive\"])\n",
        "plt.xlabel(\"Predicted\")\n",
        "plt.ylabel(\"Actual\")\n",
        "plt.title(\"Confusion Matrix\")\n",
        "plt.show()"
      ],
      "metadata": {
        "colab": {
          "base_uri": "https://localhost:8080/",
          "height": 485
        },
        "outputId": "ebb41e74-e96f-417b-aac0-95bb78dfbeac",
        "id": "ej83n6ka8n8o"
      },
      "execution_count": 32,
      "outputs": [
        {
          "output_type": "display_data",
          "data": {
            "text/plain": [
              "<Figure size 640x480 with 2 Axes>"
            ],
            "image/png": "[encoded data removed]"
          },
          "metadata": {}
        }
      ]
    },
    {
      "cell_type": "code",
      "source": [
        "wandb.finish()"
      ],
      "metadata": {
        "id": "1ryhprcB8n8o"
      },
      "execution_count": 33,
      "outputs": []
    },
    {
      "cell_type": "markdown",
      "source": [
        "## Суб висновок: - валідаційні дані проходять з наступними показниками. Точність - 88.5% на валідації, час 40 хвилин, на тесті - 87.1%. n_epoch=15; lr=0,001; batch_size=128 Trainable params: 336,705\n",
        "\n"
      ],
      "metadata": {
        "id": "KVP4kYYW9ODJ"
      }
    },
    {
      "cell_type": "markdown",
      "source": [
        "## Deep BRNN"
      ],
      "metadata": {
        "id": "t1OgjCH892AL"
      }
    },
    {
      "cell_type": "code",
      "source": [
        "model_Deep_BRNN = Sequential()\n",
        "# Створення порожньої моделі Sequential\n",
        "\n",
        "# Додавання Embedding шару для перетворення слів в вектори фіксованої довжини\n",
        "model_Deep_BRNN.add(Embedding(max_features, 32))\n",
        "# Параметри: кількість слів для розгляду як особливості та розмір вектора, що представляє кожне слово\n",
        "\n",
        "# Додавання декількох Bidirectional LSTM шару з 32 вузлами\n",
        "model_Deep_BRNN.add(Bidirectional(LSTM(32, return_sequences=True)))\n",
        "model_Deep_BRNN.add(Bidirectional(LSTM(32)))\n",
        "# Параметр: кількість вузлів (розмір прихованого стану) і return_sequences=True для першого шару, щоб надати послідовність як вхід на наступний шар\n",
        "\n",
        "# Додавання Dense шару з одним вузлом та активацією sigmoid\n",
        "model_Deep_BRNN.add(Dense(1, activation='sigmoid'))\n",
        "# Параметри: кількість вузлів (вихідний розмір) та функція активації (sigmoid для бінарної класифікації)"
      ],
      "metadata": {
        "id": "hn2MXtGi94yR"
      },
      "execution_count": 34,
      "outputs": []
    },
    {
      "cell_type": "code",
      "source": [
        "# Замінимо колбек ModelCheckpoint, щоб зберегти найкращу модель за кожним епохом\n",
        "model_checkpoint_callback = ModelCheckpoint(path+'/HW_11_best_model_Deep_BRNN.h5', monitor='val_accuracy', mode='max', save_best_only=True, verbose=1)"
      ],
      "metadata": {
        "id": "iADhbYd5-NsW"
      },
      "execution_count": 35,
      "outputs": []
    },
    {
      "cell_type": "code",
      "source": [
        "# Додамо новий монітор\n",
        "wandb.init(project=\"HW_11_Deep_BRNN\", config={\"lr\": lr, \"n_epochs\": n_epochs, \"batch_size\": batch_size})"
      ],
      "metadata": {
        "colab": {
          "base_uri": "https://localhost:8080/",
          "height": 125
        },
        "outputId": "25d5020d-4e13-4773-b3bc-eb6096e81039",
        "id": "75ZZaN3g-NsW"
      },
      "execution_count": null,
      "outputs": [
        {
          "output_type": "display_data",
          "data": {
            "text/plain": [
              "<IPython.core.display.HTML object>"
            ],
            "text/html": [
              "Tracking run with wandb version 0.15.8"
            ]
          },
          "metadata": {}
        },
        {
          "output_type": "display_data",
          "data": {
            "text/plain": [
              "<IPython.core.display.HTML object>"
            ],
            "text/html": [
              "Run data is saved locally in <code>/content/wandb/run-20230824_102812-f6tmmnx1</code>"
            ]
          },
          "metadata": {}
        },
        {
          "output_type": "display_data",
          "data": {
            "text/plain": [
              "<IPython.core.display.HTML object>"
            ],
            "text/html": [
              "Syncing run <strong><a href='https://wandb.ai/4751413/HW_11_Deep_BRNN/runs/f6tmmnx1' target=\"_blank\">wandering-rain-2</a></strong> to <a href='https://wandb.ai/4751413/HW_11_Deep_BRNN' target=\"_blank\">Weights & Biases</a> (<a href='https://wandb.me/run' target=\"_blank\">docs</a>)<br/>"
            ]
          },
          "metadata": {}
        },
        {
          "output_type": "display_data",
          "data": {
            "text/plain": [
              "<IPython.core.display.HTML object>"
            ],
            "text/html": [
              " View project at <a href='https://wandb.ai/4751413/HW_11_Deep_BRNN' target=\"_blank\">https://wandb.ai/4751413/HW_11_Deep_BRNN</a>"
            ]
          },
          "metadata": {}
        },
        {
          "output_type": "display_data",
          "data": {
            "text/plain": [
              "<IPython.core.display.HTML object>"
            ],
            "text/html": [
              " View run at <a href='https://wandb.ai/4751413/HW_11_Deep_BRNN/runs/f6tmmnx1' target=\"_blank\">https://wandb.ai/4751413/HW_11_Deep_BRNN/runs/f6tmmnx1</a>"
            ]
          },
          "metadata": {}
        },
        {
          "output_type": "execute_result",
          "data": {
            "text/html": [
              "<button onClick=\"this.nextSibling.style.display='block';this.style.display='none';\">Display W&B run</button><iframe src='https://wandb.ai/4751413/HW_11_Deep_BRNN/runs/f6tmmnx1?jupyter=true' style='border:none;width:100%;height:420px;display:none;'></iframe>"
            ],
            "text/plain": [
              "<wandb.sdk.wandb_run.Run at 0x7ff3d0f67fa0>"
            ]
          },
          "metadata": {},
          "execution_count": 65
        }
      ]
    },
    {
      "cell_type": "code",
      "source": [
        "callbacks=[early_stopping_callback, model_checkpoint_callback, WandbMetricsLogger()]"
      ],
      "metadata": {
        "id": "udK1u-fW-NsX"
      },
      "execution_count": null,
      "outputs": []
    },
    {
      "cell_type": "code",
      "source": [
        "model_Deep_BRNN.compile(optimizer=Adam(learning_rate=lr), loss='binary_crossentropy', metrics=['accuracy'])"
      ],
      "metadata": {
        "id": "ya2iNIUM-NsX"
      },
      "execution_count": null,
      "outputs": []
    },
    {
      "cell_type": "code",
      "source": [
        "model_Deep_BRNN.summary()"
      ],
      "metadata": {
        "colab": {
          "base_uri": "https://localhost:8080/"
        },
        "outputId": "7168bb21-ff56-4051-e924-2d4fc31aeaef",
        "id": "iWpa90DA-NsX"
      },
      "execution_count": null,
      "outputs": [
        {
          "output_type": "stream",
          "name": "stdout",
          "text": [
            "Model: \"sequential_4\"\n",
            "_________________________________________________________________\n",
            " Layer (type)                Output Shape              Param #   \n",
            "=================================================================\n",
            " embedding_4 (Embedding)     (None, None, 32)          320000    \n",
            "                                                                 \n",
            " bidirectional_1 (Bidirectio  (None, None, 64)         16640     \n",
            " nal)                                                            \n",
            "                                                                 \n",
            " bidirectional_2 (Bidirectio  (None, 64)               24832     \n",
            " nal)                                                            \n",
            "                                                                 \n",
            " dense_4 (Dense)             (None, 1)                 65        \n",
            "                                                                 \n",
            "=================================================================\n",
            "Total params: 361,537\n",
            "Trainable params: 361,537\n",
            "Non-trainable params: 0\n",
            "_________________________________________________________________\n"
          ]
        }
      ]
    },
    {
      "cell_type": "code",
      "source": [
        "history_Deep_BRNN = model_Deep_BRNN.fit(\n",
        "    input_train, train_labels,\n",
        "    epochs=n_epochs,\n",
        "    batch_size=batch_size,\n",
        "    validation_split=0.3,\n",
        "    callbacks=callbacks)\n",
        "# Запускаємо навчання моделі на тренувальних даних з розбиттям на тренувальну та валідаційну підмножини"
      ],
      "metadata": {
        "colab": {
          "base_uri": "https://localhost:8080/"
        },
        "outputId": "0906ebfd-d540-4d4e-a8d2-428b5c564051",
        "id": "ZzQSdZDk-NsX"
      },
      "execution_count": null,
      "outputs": [
        {
          "output_type": "stream",
          "name": "stdout",
          "text": [
            "Epoch 1/15\n",
            "137/137 [==============================] - ETA: 0s - loss: 0.5406 - accuracy: 0.7165\n",
            "Epoch 1: val_accuracy improved from -inf to 0.82920, saving model to /content/drive/MyDrive/Colab_Notebooks/HW_11_data/HW_11_best_model_Deep_BRNN.h5\n",
            "137/137 [==============================] - 20s 105ms/step - loss: 0.5406 - accuracy: 0.7165 - val_loss: 0.4072 - val_accuracy: 0.8292\n",
            "Epoch 2/15\n",
            "137/137 [==============================] - ETA: 0s - loss: 0.3116 - accuracy: 0.8782\n",
            "Epoch 2: val_accuracy improved from 0.82920 to 0.85920, saving model to /content/drive/MyDrive/Colab_Notebooks/HW_11_data/HW_11_best_model_Deep_BRNN.h5\n",
            "137/137 [==============================] - 19s 138ms/step - loss: 0.3116 - accuracy: 0.8782 - val_loss: 0.3375 - val_accuracy: 0.8592\n",
            "Epoch 3/15\n",
            "137/137 [==============================] - ETA: 0s - loss: 0.2024 - accuracy: 0.9298\n",
            "Epoch 3: val_accuracy improved from 0.85920 to 0.87440, saving model to /content/drive/MyDrive/Colab_Notebooks/HW_11_data/HW_11_best_model_Deep_BRNN.h5\n",
            "137/137 [==============================] - 12s 89ms/step - loss: 0.2024 - accuracy: 0.9298 - val_loss: 0.3086 - val_accuracy: 0.8744\n",
            "Epoch 4/15\n",
            "137/137 [==============================] - ETA: 0s - loss: 0.1352 - accuracy: 0.9561\n",
            "Epoch 4: val_accuracy did not improve from 0.87440\n",
            "137/137 [==============================] - 11s 80ms/step - loss: 0.1352 - accuracy: 0.9561 - val_loss: 0.3564 - val_accuracy: 0.8707\n",
            "Epoch 5/15\n",
            "137/137 [==============================] - ETA: 0s - loss: 0.0974 - accuracy: 0.9705\n",
            "Epoch 5: val_accuracy did not improve from 0.87440\n",
            "137/137 [==============================] - 10s 76ms/step - loss: 0.0974 - accuracy: 0.9705 - val_loss: 0.4057 - val_accuracy: 0.8683\n",
            "Epoch 6/15\n",
            "137/137 [==============================] - ETA: 0s - loss: 0.0776 - accuracy: 0.9779\n",
            "Epoch 6: val_accuracy did not improve from 0.87440\n",
            "137/137 [==============================] - 11s 79ms/step - loss: 0.0776 - accuracy: 0.9779 - val_loss: 0.4784 - val_accuracy: 0.8711\n",
            "Epoch 7/15\n",
            "137/137 [==============================] - ETA: 0s - loss: 0.0589 - accuracy: 0.9843\n",
            "Epoch 7: val_accuracy did not improve from 0.87440\n",
            "137/137 [==============================] - 9s 69ms/step - loss: 0.0589 - accuracy: 0.9843 - val_loss: 0.4793 - val_accuracy: 0.8664\n",
            "Epoch 8/15\n",
            "137/137 [==============================] - ETA: 0s - loss: 0.0537 - accuracy: 0.9863\n",
            "Epoch 8: val_accuracy did not improve from 0.87440\n",
            "137/137 [==============================] - 10s 76ms/step - loss: 0.0537 - accuracy: 0.9863 - val_loss: 0.5278 - val_accuracy: 0.8680\n",
            "Epoch 8: early stopping\n"
          ]
        }
      ]
    },
    {
      "cell_type": "code",
      "source": [
        "# Графіки для точності та втрат\n",
        "plt.plot(history_Deep_BRNN.history['accuracy'], label='Точність на тренуванні')\n",
        "plt.plot(history_Deep_BRNN.history['val_accuracy'], label='Точність на валідації')\n",
        "plt.plot(history_Deep_BRNN.history['loss'], label='Втрати на тренуванні')\n",
        "plt.plot(history_Deep_BRNN.history['val_loss'], label='Втрати на валідації')\n",
        "plt.legend()\n",
        "plt.show()"
      ],
      "metadata": {
        "colab": {
          "base_uri": "https://localhost:8080/",
          "height": 437
        },
        "id": "XTrKCAFX-nU9",
        "outputId": "9bc1691e-2089-4741-9606-e026c2bae975"
      },
      "execution_count": null,
      "outputs": [
        {
          "output_type": "display_data",
          "data": {
            "text/plain": [
              "<Figure size 640x480 with 1 Axes>"
            ],
            "image/png": "[encoded data removed]"
          },
          "metadata": {}
        }
      ]
    },
    {
      "cell_type": "code",
      "source": [
        "# Завантаження кращої збереженої моделі\n",
        "best_model_Deep_BRNN = load_model(path+'/HW_11_best_model_Deep_BRNN.h5')\n",
        "\n",
        "# Тестування на тестових даних\n",
        "test_loss, test_accuracy = best_model_Deep_BRNN.evaluate(input_test, test_labels)\n",
        "best_of_models.update({\"best_model_Deep_BRNN\": test_accuracy})\n",
        "\n",
        "print(f\"Втрати на тестовому наборі: {test_loss:.4f}\")\n",
        "print(f\"Точність на тестовому наборі: {test_accuracy:.4f}\")"
      ],
      "metadata": {
        "colab": {
          "base_uri": "https://localhost:8080/"
        },
        "id": "NgqynPob-nU-",
        "outputId": "fe44a229-9c70-4179-9847-6269fb5b8907"
      },
      "execution_count": 36,
      "outputs": [
        {
          "output_type": "stream",
          "name": "stdout",
          "text": [
            "782/782 [==============================] - 21s 25ms/step - loss: 0.3223 - accuracy: 0.8676\n",
            "Втрати на тестовому наборі: 0.3223\n",
            "Точність на тестовому наборі: 0.8676\n"
          ]
        }
      ]
    },
    {
      "cell_type": "code",
      "source": [
        "# Прогнозування з використанням навченої моделі:\n",
        "\n",
        "predictions = best_model_Deep_BRNN.predict(input_test)\n",
        "\n",
        "# Для отримання зрозумілішого вигляду прогнозів, їх можна перетворити в бінарний формат:\n",
        "binary_predictions = [1 if pred > 0.5 else 0 for pred in predictions]\n",
        "\n",
        "# Для порівняння можна вивести деякі прогнозовані значення поряд з фактичними значеннями\n",
        "for i in range(10):\n",
        "    print(f\"Прогнозоване: {binary_predictions[i]}, Фактичне: {test_labels[i]}\")"
      ],
      "metadata": {
        "colab": {
          "base_uri": "https://localhost:8080/"
        },
        "id": "Ihnh55lU-nU-",
        "outputId": "e18ec88e-adfb-4840-924c-b3be7c89a755"
      },
      "execution_count": 37,
      "outputs": [
        {
          "output_type": "stream",
          "name": "stdout",
          "text": [
            "782/782 [==============================] - 22s 25ms/step\n",
            "Прогнозоване: 0, Фактичне: 0\n",
            "Прогнозоване: 1, Фактичне: 1\n",
            "Прогнозоване: 1, Фактичне: 1\n",
            "Прогнозоване: 1, Фактичне: 0\n",
            "Прогнозоване: 1, Фактичне: 1\n",
            "Прогнозоване: 1, Фактичне: 1\n",
            "Прогнозоване: 1, Фактичне: 1\n",
            "Прогнозоване: 0, Фактичне: 0\n",
            "Прогнозоване: 1, Фактичне: 0\n",
            "Прогнозоване: 1, Фактичне: 1\n"
          ]
        }
      ]
    },
    {
      "cell_type": "code",
      "source": [
        "# Побудуємо confusion_matrix\n",
        "confusion_mat = confusion_matrix(test_labels, binary_predictions)\n",
        "\n",
        "\n",
        "# Використання Seaborn для візуалізації теплової карти\n",
        "sns.set(font_scale=1.2)\n",
        "sns.heatmap(confusion_mat, annot=True, fmt=\"d\", cmap=\"Oranges\", linewidths=1, linecolor=\"black\",\n",
        "            xticklabels=[\"Predicted Negative\", \"Predicted Positive\"],\n",
        "            yticklabels=[\"Actual Negative\", \"Actual Positive\"])\n",
        "plt.xlabel(\"Predicted\")\n",
        "plt.ylabel(\"Actual\")\n",
        "plt.title(\"Confusion Matrix\")\n",
        "plt.show()"
      ],
      "metadata": {
        "colab": {
          "base_uri": "https://localhost:8080/",
          "height": 485
        },
        "id": "xjlRzyv2-nU-",
        "outputId": "de0e4752-319b-4104-e6f9-9deeb34bb8f0"
      },
      "execution_count": 38,
      "outputs": [
        {
          "output_type": "display_data",
          "data": {
            "text/plain": [
              "<Figure size 640x480 with 2 Axes>"
            ],
            "image/png": "[encoded data removed]"
          },
          "metadata": {}
        }
      ]
    },
    {
      "cell_type": "code",
      "source": [
        "wandb.finish()"
      ],
      "metadata": {
        "colab": {
          "base_uri": "https://localhost:8080/",
          "height": 373,
          "referenced_widgets": [
            "f38d7833add248f7852049ef2bc009b8",
            "081ee1997a1449438da3d36f886666fd",
            "c3e6eebfc1614495bdd728eb9eb659cf",
            "7cd39f1608be4a2b85ed3994a0a23f59",
            "9b1d718b9079401d853604640499b7f9",
            "4f1fe050a6f64ab4a4b6fccd2d62803d",
            "b5d1b57e67734391949da6782974153f",
            "ef8dbcad1e034a4e938395098ef2ab04"
          ]
        },
        "id": "IsblRXkZ-nU_",
        "outputId": "047c4dd4-666c-4f38-87d5-a79f91547af6"
      },
      "execution_count": null,
      "outputs": [
        {
          "output_type": "display_data",
          "data": {
            "text/plain": [
              "<IPython.core.display.HTML object>"
            ],
            "text/html": [
              "Waiting for W&B process to finish... <strong style=\"color:green\">(success).</strong>"
            ]
          },
          "metadata": {}
        },
        {
          "output_type": "display_data",
          "data": {
            "text/plain": [
              "VBox(children=(Label(value='0.001 MB of 0.001 MB uploaded (0.000 MB deduped)\\r'), FloatProgress(value=1.0, max…"
            ],
            "application/vnd.jupyter.widget-view+json": {
              "version_major": 2,
              "version_minor": 0,
              "model_id": "f38d7833add248f7852049ef2bc009b8"
            }
          },
          "metadata": {}
        },
        {
          "output_type": "display_data",
          "data": {
            "text/plain": [
              "<IPython.core.display.HTML object>"
            ],
            "text/html": [
              "<style>\n",
              "    table.wandb td:nth-child(1) { padding: 0 10px; text-align: left ; width: auto;} td:nth-child(2) {text-align: left ; width: 100%}\n",
              "    .wandb-row { display: flex; flex-direction: row; flex-wrap: wrap; justify-content: flex-start; width: 100% }\n",
              "    .wandb-col { display: flex; flex-direction: column; flex-basis: 100%; flex: 1; padding: 10px; }\n",
              "    </style>\n",
              "<div class=\"wandb-row\"><div class=\"wandb-col\"><h3>Run history:</h3><br/><table class=\"wandb\"><tr><td>epoch/accuracy</td><td>▁▅▇▇████</td></tr><tr><td>epoch/epoch</td><td>▁▂▃▄▅▆▇█</td></tr><tr><td>epoch/learning_rate</td><td>▁▁▁▁▁▁▁▁</td></tr><tr><td>epoch/loss</td><td>█▅▃▂▂▁▁▁</td></tr><tr><td>epoch/val_accuracy</td><td>▁▆█▇▇▇▇▇</td></tr><tr><td>epoch/val_loss</td><td>▄▂▁▃▄▆▆█</td></tr></table><br/></div><div class=\"wandb-col\"><h3>Run summary:</h3><br/><table class=\"wandb\"><tr><td>epoch/accuracy</td><td>0.98634</td></tr><tr><td>epoch/epoch</td><td>7</td></tr><tr><td>epoch/learning_rate</td><td>0.001</td></tr><tr><td>epoch/loss</td><td>0.05372</td></tr><tr><td>epoch/val_accuracy</td><td>0.868</td></tr><tr><td>epoch/val_loss</td><td>0.52779</td></tr></table><br/></div></div>"
            ]
          },
          "metadata": {}
        },
        {
          "output_type": "display_data",
          "data": {
            "text/plain": [
              "<IPython.core.display.HTML object>"
            ],
            "text/html": [
              " View run <strong style=\"color:#cdcd00\">wandering-rain-2</strong> at: <a href='https://wandb.ai/4751413/HW_11_Deep_BRNN/runs/f6tmmnx1' target=\"_blank\">https://wandb.ai/4751413/HW_11_Deep_BRNN/runs/f6tmmnx1</a><br/>Synced 5 W&B file(s), 0 media file(s), 0 artifact file(s) and 0 other file(s)"
            ]
          },
          "metadata": {}
        },
        {
          "output_type": "display_data",
          "data": {
            "text/plain": [
              "<IPython.core.display.HTML object>"
            ],
            "text/html": [
              "Find logs at: <code>./wandb/run-20230824_102812-f6tmmnx1/logs</code>"
            ]
          },
          "metadata": {}
        }
      ]
    },
    {
      "cell_type": "markdown",
      "source": [
        "## Суб висновок: - валідаційні дані проходять з наступними показниками. Точність - 87.4% на валідації, час 75 хвилин, на тесті - 86.8%. n_epoch=15; lr=0,001; batch_size=128 Trainable params: 361,537\n"
      ],
      "metadata": {
        "id": "splsV8m6950w"
      }
    },
    {
      "cell_type": "markdown",
      "source": [
        "# Висновок"
      ],
      "metadata": {
        "id": "SDpEAlhfxoZy"
      }
    },
    {
      "cell_type": "code",
      "source": [
        "print(\"Результати тестів всіх побудованих моделей\")\n",
        "for item in best_of_models.items():\n",
        "  print(item)"
      ],
      "metadata": {
        "colab": {
          "base_uri": "https://localhost:8080/"
        },
        "id": "pjV-mZpVvLFE",
        "outputId": "4c9d5480-8e82-4335-8f16-2de60bfe4ef9"
      },
      "execution_count": 39,
      "outputs": [
        {
          "output_type": "stream",
          "name": "stdout",
          "text": [
            "Результати тестів всіх побудованих моделей\n",
            "('best_model_SimpleRNN', 0.8309999704360962)\n",
            "('best_model_RNN_GRU', 0.85971999168396)\n",
            "('best_model_RNN_LSTM', 0.8722000122070312)\n",
            "('best_model_BRNN', 0.871399998664856)\n",
            "('best_model_Deep_BRNN', 0.8675600290298462)\n"
          ]
        }
      ]
    },
    {
      "cell_type": "markdown",
      "source": [
        "найкращою на цьому дата сеті із заданими параметрами: n_epoch=15; lr=0,001; batch_size=128 виявилася RNN_LSTM модель - 87,22% на тестовому наборі"
      ],
      "metadata": {
        "id": "8xEQ-c6KMj74"
      }
    },
    {
      "cell_type": "markdown",
      "source": [
        "#Спробуємо тест на реальних зразках"
      ],
      "metadata": {
        "id": "G_4H15WzQNG9"
      }
    },
    {
      "cell_type": "code",
      "source": [
        "models = [best_model_SimpleRNN, best_model_RNN_GRU, best_model_RNN_LSTM, best_model_BRNN, best_model_Deep_BRNN]\n",
        "model_names = ['best_model_SimpleRNN', 'best_model_RNN_GRU', 'best_model_RNN_LSTM', 'best_model_BRNN', 'best_model_Deep_BRNN']\n",
        "\n",
        "\n",
        "# Список нових відгуків для перевірки\n",
        "new_reviews = [\n",
        "    \"this movie was absolutely amazing!\",\n",
        "    \"i didn't like this film at all. worst movie!\",\n",
        "    \"the acting and storyline were both fantastic.\",\n",
        "    \"terrible movie, waste of time.\",\n",
        "    \"a must-watch for all movie lovers!\",\n",
        "    \"I was blown away by how good this movie was.\",\n",
        "    \"The direction and storytelling were not top-notch. waste\",\n",
        "    \"This movie exceeded all my expectations. The performances were outstanding\",\n",
        "    \"full shit\",\n",
        "]\n",
        "\n",
        "# Мітки для нових відгуків\n",
        "labels = [1, 0, 1, 0, 1, 1, 0, 1, 0]  # 1 - позитивний, 0 - негативний\n",
        "\n",
        "# Токенізація та векторизація нових відгуків\n",
        "new_reviews_tokenized = [[word_index.get(word, -2) + 3 for word in review.split(\" \")] for review in new_reviews]\n",
        "new_reviews_vector = pad_sequences(new_reviews_tokenized, maxlen=maxlen)\n",
        "\n",
        "# Перевірка кожної моделі на нових відгуках\n",
        "for model, model_name in zip(models, model_names):\n",
        "    results = model.predict(new_reviews_vector)\n",
        "    binary_results = [1 if result > 0.5 else 0 for result in results]\n",
        "    correct_predictions = sum([1 for predicted, actual in zip(binary_results, labels) if predicted == actual])\n",
        "\n",
        "    print(f\"Results for {model_name}:\")\n",
        "    for review, binary_result in zip(new_reviews, binary_results):\n",
        "        print(f\"Review: '{review}' - Binary Result: {binary_result}\")\n",
        "\n",
        "    print(f\"Correct predictions: {correct_predictions} out of {len(new_reviews)}\\n\")"
      ],
      "metadata": {
        "colab": {
          "base_uri": "https://localhost:8080/"
        },
        "id": "u5HBOOhKUaRR",
        "outputId": "a5ab484b-8dee-44d3-d709-c82b64ee648a"
      },
      "execution_count": 40,
      "outputs": [
        {
          "output_type": "stream",
          "name": "stdout",
          "text": [
            "1/1 [==============================] - 0s 66ms/step\n",
            "Results for best_model_SimpleRNN:\n",
            "Review: 'this movie was absolutely amazing!' - Binary Result: 0\n",
            "Review: 'i didn't like this film at all. worst movie!' - Binary Result: 0\n",
            "Review: 'the acting and storyline were both fantastic.' - Binary Result: 0\n",
            "Review: 'terrible movie, waste of time.' - Binary Result: 0\n",
            "Review: 'a must-watch for all movie lovers!' - Binary Result: 0\n",
            "Review: 'I was blown away by how good this movie was.' - Binary Result: 0\n",
            "Review: 'The direction and storytelling were not top-notch. waste' - Binary Result: 0\n",
            "Review: 'This movie exceeded all my expectations. The performances were outstanding' - Binary Result: 1\n",
            "Review: 'full shit' - Binary Result: 0\n",
            "Correct predictions: 5 out of 9\n",
            "\n",
            "1/1 [==============================] - 0s 40ms/step\n",
            "Results for best_model_RNN_GRU:\n",
            "Review: 'this movie was absolutely amazing!' - Binary Result: 1\n",
            "Review: 'i didn't like this film at all. worst movie!' - Binary Result: 0\n",
            "Review: 'the acting and storyline were both fantastic.' - Binary Result: 1\n",
            "Review: 'terrible movie, waste of time.' - Binary Result: 0\n",
            "Review: 'a must-watch for all movie lovers!' - Binary Result: 1\n",
            "Review: 'I was blown away by how good this movie was.' - Binary Result: 1\n",
            "Review: 'The direction and storytelling were not top-notch. waste' - Binary Result: 0\n",
            "Review: 'This movie exceeded all my expectations. The performances were outstanding' - Binary Result: 1\n",
            "Review: 'full shit' - Binary Result: 0\n",
            "Correct predictions: 9 out of 9\n",
            "\n",
            "1/1 [==============================] - 0s 31ms/step\n",
            "Results for best_model_RNN_LSTM:\n",
            "Review: 'this movie was absolutely amazing!' - Binary Result: 0\n",
            "Review: 'i didn't like this film at all. worst movie!' - Binary Result: 0\n",
            "Review: 'the acting and storyline were both fantastic.' - Binary Result: 0\n",
            "Review: 'terrible movie, waste of time.' - Binary Result: 0\n",
            "Review: 'a must-watch for all movie lovers!' - Binary Result: 0\n",
            "Review: 'I was blown away by how good this movie was.' - Binary Result: 0\n",
            "Review: 'The direction and storytelling were not top-notch. waste' - Binary Result: 0\n",
            "Review: 'This movie exceeded all my expectations. The performances were outstanding' - Binary Result: 1\n",
            "Review: 'full shit' - Binary Result: 1\n",
            "Correct predictions: 4 out of 9\n",
            "\n",
            "1/1 [==============================] - 0s 37ms/step\n",
            "Results for best_model_BRNN:\n",
            "Review: 'this movie was absolutely amazing!' - Binary Result: 0\n",
            "Review: 'i didn't like this film at all. worst movie!' - Binary Result: 0\n",
            "Review: 'the acting and storyline were both fantastic.' - Binary Result: 0\n",
            "Review: 'terrible movie, waste of time.' - Binary Result: 0\n",
            "Review: 'a must-watch for all movie lovers!' - Binary Result: 1\n",
            "Review: 'I was blown away by how good this movie was.' - Binary Result: 1\n",
            "Review: 'The direction and storytelling were not top-notch. waste' - Binary Result: 0\n",
            "Review: 'This movie exceeded all my expectations. The performances were outstanding' - Binary Result: 1\n",
            "Review: 'full shit' - Binary Result: 0\n",
            "Correct predictions: 7 out of 9\n",
            "\n",
            "1/1 [==============================] - 0s 50ms/step\n",
            "Results for best_model_Deep_BRNN:\n",
            "Review: 'this movie was absolutely amazing!' - Binary Result: 0\n",
            "Review: 'i didn't like this film at all. worst movie!' - Binary Result: 0\n",
            "Review: 'the acting and storyline were both fantastic.' - Binary Result: 1\n",
            "Review: 'terrible movie, waste of time.' - Binary Result: 0\n",
            "Review: 'a must-watch for all movie lovers!' - Binary Result: 1\n",
            "Review: 'I was blown away by how good this movie was.' - Binary Result: 1\n",
            "Review: 'The direction and storytelling were not top-notch. waste' - Binary Result: 0\n",
            "Review: 'This movie exceeded all my expectations. The performances were outstanding' - Binary Result: 1\n",
            "Review: 'full shit' - Binary Result: 0\n",
            "Correct predictions: 8 out of 9\n",
            "\n"
          ]
        }
      ]
    },
    {
      "cell_type": "markdown",
      "source": [
        "### Після висновку - на нових сгенерованих відгуках тільки RNN_GRU (9 із 9), Deep_BRNN (8 із 9) та BRNN (7 із 9) показали результативність, інші дуже заоверфітилися, можна спробувати підбір параметрів моделей для їх поліпшення"
      ],
      "metadata": {
        "id": "Z58GhUBpbuwP"
      }
    }
  ]
}