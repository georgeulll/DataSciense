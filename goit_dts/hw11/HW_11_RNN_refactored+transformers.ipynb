{
  "nbformat": 4,
  "nbformat_minor": 0,
  "metadata": {
    "colab": {
      "provenance": [],
      "authorship_tag": "ABX9TyPIfzQP6tRJgX7iGZHJ4cii",
      "include_colab_link": true
    },
    "kernelspec": {
      "name": "python3",
      "display_name": "Python 3"
    },
    "language_info": {
      "name": "python"
    },
    "widgets": {
      "application/vnd.jupyter.widget-state+json": {
        "0fc3d0cc068647d7a60afd3ede46023d": {
          "model_module": "@jupyter-widgets/controls",
          "model_name": "VBoxModel",
          "model_module_version": "1.5.0",
          "state": {
            "_dom_classes": [],
            "_model_module": "@jupyter-widgets/controls",
            "_model_module_version": "1.5.0",
            "_model_name": "VBoxModel",
            "_view_count": null,
            "_view_module": "@jupyter-widgets/controls",
            "_view_module_version": "1.5.0",
            "_view_name": "VBoxView",
            "box_style": "",
            "children": [
              "IPY_MODEL_2ceb63c99e8541e682e43c724cc0df84",
              "IPY_MODEL_b9324443efd64573be87404e1eaade8c"
            ],
            "layout": "IPY_MODEL_12245f02455e49f78d8d72fef05d396b"
          }
        },
        "2ceb63c99e8541e682e43c724cc0df84": {
          "model_module": "@jupyter-widgets/controls",
          "model_name": "LabelModel",
          "model_module_version": "1.5.0",
          "state": {
            "_dom_classes": [],
            "_model_module": "@jupyter-widgets/controls",
            "_model_module_version": "1.5.0",
            "_model_name": "LabelModel",
            "_view_count": null,
            "_view_module": "@jupyter-widgets/controls",
            "_view_module_version": "1.5.0",
            "_view_name": "LabelView",
            "description": "",
            "description_tooltip": null,
            "layout": "IPY_MODEL_856fc55a20ca4ce3a5105ef6ba3dae2c",
            "placeholder": "​",
            "style": "IPY_MODEL_29371e6f4587462e960358b738f704ba",
            "value": "0.001 MB of 0.014 MB uploaded (0.000 MB deduped)\r"
          }
        },
        "b9324443efd64573be87404e1eaade8c": {
          "model_module": "@jupyter-widgets/controls",
          "model_name": "FloatProgressModel",
          "model_module_version": "1.5.0",
          "state": {
            "_dom_classes": [],
            "_model_module": "@jupyter-widgets/controls",
            "_model_module_version": "1.5.0",
            "_model_name": "FloatProgressModel",
            "_view_count": null,
            "_view_module": "@jupyter-widgets/controls",
            "_view_module_version": "1.5.0",
            "_view_name": "ProgressView",
            "bar_style": "",
            "description": "",
            "description_tooltip": null,
            "layout": "IPY_MODEL_dff0d9e4d6b64c8f9bda06eb8abcc89e",
            "max": 1,
            "min": 0,
            "orientation": "horizontal",
            "style": "IPY_MODEL_8191f3376c1545eba0ecb60be5e9c884",
            "value": 0.07958852192744992
          }
        },
        "12245f02455e49f78d8d72fef05d396b": {
          "model_module": "@jupyter-widgets/base",
          "model_name": "LayoutModel",
          "model_module_version": "1.2.0",
          "state": {
            "_model_module": "@jupyter-widgets/base",
            "_model_module_version": "1.2.0",
            "_model_name": "LayoutModel",
            "_view_count": null,
            "_view_module": "@jupyter-widgets/base",
            "_view_module_version": "1.2.0",
            "_view_name": "LayoutView",
            "align_content": null,
            "align_items": null,
            "align_self": null,
            "border": null,
            "bottom": null,
            "display": null,
            "flex": null,
            "flex_flow": null,
            "grid_area": null,
            "grid_auto_columns": null,
            "grid_auto_flow": null,
            "grid_auto_rows": null,
            "grid_column": null,
            "grid_gap": null,
            "grid_row": null,
            "grid_template_areas": null,
            "grid_template_columns": null,
            "grid_template_rows": null,
            "height": null,
            "justify_content": null,
            "justify_items": null,
            "left": null,
            "margin": null,
            "max_height": null,
            "max_width": null,
            "min_height": null,
            "min_width": null,
            "object_fit": null,
            "object_position": null,
            "order": null,
            "overflow": null,
            "overflow_x": null,
            "overflow_y": null,
            "padding": null,
            "right": null,
            "top": null,
            "visibility": null,
            "width": null
          }
        },
        "856fc55a20ca4ce3a5105ef6ba3dae2c": {
          "model_module": "@jupyter-widgets/base",
          "model_name": "LayoutModel",
          "model_module_version": "1.2.0",
          "state": {
            "_model_module": "@jupyter-widgets/base",
            "_model_module_version": "1.2.0",
            "_model_name": "LayoutModel",
            "_view_count": null,
            "_view_module": "@jupyter-widgets/base",
            "_view_module_version": "1.2.0",
            "_view_name": "LayoutView",
            "align_content": null,
            "align_items": null,
            "align_self": null,
            "border": null,
            "bottom": null,
            "display": null,
            "flex": null,
            "flex_flow": null,
            "grid_area": null,
            "grid_auto_columns": null,
            "grid_auto_flow": null,
            "grid_auto_rows": null,
            "grid_column": null,
            "grid_gap": null,
            "grid_row": null,
            "grid_template_areas": null,
            "grid_template_columns": null,
            "grid_template_rows": null,
            "height": null,
            "justify_content": null,
            "justify_items": null,
            "left": null,
            "margin": null,
            "max_height": null,
            "max_width": null,
            "min_height": null,
            "min_width": null,
            "object_fit": null,
            "object_position": null,
            "order": null,
            "overflow": null,
            "overflow_x": null,
            "overflow_y": null,
            "padding": null,
            "right": null,
            "top": null,
            "visibility": null,
            "width": null
          }
        },
        "29371e6f4587462e960358b738f704ba": {
          "model_module": "@jupyter-widgets/controls",
          "model_name": "DescriptionStyleModel",
          "model_module_version": "1.5.0",
          "state": {
            "_model_module": "@jupyter-widgets/controls",
            "_model_module_version": "1.5.0",
            "_model_name": "DescriptionStyleModel",
            "_view_count": null,
            "_view_module": "@jupyter-widgets/base",
            "_view_module_version": "1.2.0",
            "_view_name": "StyleView",
            "description_width": ""
          }
        },
        "dff0d9e4d6b64c8f9bda06eb8abcc89e": {
          "model_module": "@jupyter-widgets/base",
          "model_name": "LayoutModel",
          "model_module_version": "1.2.0",
          "state": {
            "_model_module": "@jupyter-widgets/base",
            "_model_module_version": "1.2.0",
            "_model_name": "LayoutModel",
            "_view_count": null,
            "_view_module": "@jupyter-widgets/base",
            "_view_module_version": "1.2.0",
            "_view_name": "LayoutView",
            "align_content": null,
            "align_items": null,
            "align_self": null,
            "border": null,
            "bottom": null,
            "display": null,
            "flex": null,
            "flex_flow": null,
            "grid_area": null,
            "grid_auto_columns": null,
            "grid_auto_flow": null,
            "grid_auto_rows": null,
            "grid_column": null,
            "grid_gap": null,
            "grid_row": null,
            "grid_template_areas": null,
            "grid_template_columns": null,
            "grid_template_rows": null,
            "height": null,
            "justify_content": null,
            "justify_items": null,
            "left": null,
            "margin": null,
            "max_height": null,
            "max_width": null,
            "min_height": null,
            "min_width": null,
            "object_fit": null,
            "object_position": null,
            "order": null,
            "overflow": null,
            "overflow_x": null,
            "overflow_y": null,
            "padding": null,
            "right": null,
            "top": null,
            "visibility": null,
            "width": null
          }
        },
        "8191f3376c1545eba0ecb60be5e9c884": {
          "model_module": "@jupyter-widgets/controls",
          "model_name": "ProgressStyleModel",
          "model_module_version": "1.5.0",
          "state": {
            "_model_module": "@jupyter-widgets/controls",
            "_model_module_version": "1.5.0",
            "_model_name": "ProgressStyleModel",
            "_view_count": null,
            "_view_module": "@jupyter-widgets/base",
            "_view_module_version": "1.2.0",
            "_view_name": "StyleView",
            "bar_color": null,
            "description_width": ""
          }
        },
        "3fbbb64fb8804596a82fcf7f9a1f412f": {
          "model_module": "@jupyter-widgets/controls",
          "model_name": "VBoxModel",
          "model_module_version": "1.5.0",
          "state": {
            "_dom_classes": [],
            "_model_module": "@jupyter-widgets/controls",
            "_model_module_version": "1.5.0",
            "_model_name": "VBoxModel",
            "_view_count": null,
            "_view_module": "@jupyter-widgets/controls",
            "_view_module_version": "1.5.0",
            "_view_name": "VBoxView",
            "box_style": "",
            "children": [
              "IPY_MODEL_f097b642ae3e4b2aa6eb4f014a084207",
              "IPY_MODEL_17320ee9cd4947808791b2fe8091a42f"
            ],
            "layout": "IPY_MODEL_477e03cf34764c6eafd1328be2fa2335"
          }
        },
        "f097b642ae3e4b2aa6eb4f014a084207": {
          "model_module": "@jupyter-widgets/controls",
          "model_name": "LabelModel",
          "model_module_version": "1.5.0",
          "state": {
            "_dom_classes": [],
            "_model_module": "@jupyter-widgets/controls",
            "_model_module_version": "1.5.0",
            "_model_name": "LabelModel",
            "_view_count": null,
            "_view_module": "@jupyter-widgets/controls",
            "_view_module_version": "1.5.0",
            "_view_name": "LabelView",
            "description": "",
            "description_tooltip": null,
            "layout": "IPY_MODEL_17b791a698d74cb3966980f66ba16193",
            "placeholder": "​",
            "style": "IPY_MODEL_f532d22a16d1464cb166deefdb35a2bf",
            "value": "0.001 MB of 0.001 MB uploaded (0.000 MB deduped)\r"
          }
        },
        "17320ee9cd4947808791b2fe8091a42f": {
          "model_module": "@jupyter-widgets/controls",
          "model_name": "FloatProgressModel",
          "model_module_version": "1.5.0",
          "state": {
            "_dom_classes": [],
            "_model_module": "@jupyter-widgets/controls",
            "_model_module_version": "1.5.0",
            "_model_name": "FloatProgressModel",
            "_view_count": null,
            "_view_module": "@jupyter-widgets/controls",
            "_view_module_version": "1.5.0",
            "_view_name": "ProgressView",
            "bar_style": "",
            "description": "",
            "description_tooltip": null,
            "layout": "IPY_MODEL_69878cef309441cd89186019546b73a6",
            "max": 1,
            "min": 0,
            "orientation": "horizontal",
            "style": "IPY_MODEL_78716445560e4a9cbc112557e6db6093",
            "value": 1
          }
        },
        "477e03cf34764c6eafd1328be2fa2335": {
          "model_module": "@jupyter-widgets/base",
          "model_name": "LayoutModel",
          "model_module_version": "1.2.0",
          "state": {
            "_model_module": "@jupyter-widgets/base",
            "_model_module_version": "1.2.0",
            "_model_name": "LayoutModel",
            "_view_count": null,
            "_view_module": "@jupyter-widgets/base",
            "_view_module_version": "1.2.0",
            "_view_name": "LayoutView",
            "align_content": null,
            "align_items": null,
            "align_self": null,
            "border": null,
            "bottom": null,
            "display": null,
            "flex": null,
            "flex_flow": null,
            "grid_area": null,
            "grid_auto_columns": null,
            "grid_auto_flow": null,
            "grid_auto_rows": null,
            "grid_column": null,
            "grid_gap": null,
            "grid_row": null,
            "grid_template_areas": null,
            "grid_template_columns": null,
            "grid_template_rows": null,
            "height": null,
            "justify_content": null,
            "justify_items": null,
            "left": null,
            "margin": null,
            "max_height": null,
            "max_width": null,
            "min_height": null,
            "min_width": null,
            "object_fit": null,
            "object_position": null,
            "order": null,
            "overflow": null,
            "overflow_x": null,
            "overflow_y": null,
            "padding": null,
            "right": null,
            "top": null,
            "visibility": null,
            "width": null
          }
        },
        "17b791a698d74cb3966980f66ba16193": {
          "model_module": "@jupyter-widgets/base",
          "model_name": "LayoutModel",
          "model_module_version": "1.2.0",
          "state": {
            "_model_module": "@jupyter-widgets/base",
            "_model_module_version": "1.2.0",
            "_model_name": "LayoutModel",
            "_view_count": null,
            "_view_module": "@jupyter-widgets/base",
            "_view_module_version": "1.2.0",
            "_view_name": "LayoutView",
            "align_content": null,
            "align_items": null,
            "align_self": null,
            "border": null,
            "bottom": null,
            "display": null,
            "flex": null,
            "flex_flow": null,
            "grid_area": null,
            "grid_auto_columns": null,
            "grid_auto_flow": null,
            "grid_auto_rows": null,
            "grid_column": null,
            "grid_gap": null,
            "grid_row": null,
            "grid_template_areas": null,
            "grid_template_columns": null,
            "grid_template_rows": null,
            "height": null,
            "justify_content": null,
            "justify_items": null,
            "left": null,
            "margin": null,
            "max_height": null,
            "max_width": null,
            "min_height": null,
            "min_width": null,
            "object_fit": null,
            "object_position": null,
            "order": null,
            "overflow": null,
            "overflow_x": null,
            "overflow_y": null,
            "padding": null,
            "right": null,
            "top": null,
            "visibility": null,
            "width": null
          }
        },
        "f532d22a16d1464cb166deefdb35a2bf": {
          "model_module": "@jupyter-widgets/controls",
          "model_name": "DescriptionStyleModel",
          "model_module_version": "1.5.0",
          "state": {
            "_model_module": "@jupyter-widgets/controls",
            "_model_module_version": "1.5.0",
            "_model_name": "DescriptionStyleModel",
            "_view_count": null,
            "_view_module": "@jupyter-widgets/base",
            "_view_module_version": "1.2.0",
            "_view_name": "StyleView",
            "description_width": ""
          }
        },
        "69878cef309441cd89186019546b73a6": {
          "model_module": "@jupyter-widgets/base",
          "model_name": "LayoutModel",
          "model_module_version": "1.2.0",
          "state": {
            "_model_module": "@jupyter-widgets/base",
            "_model_module_version": "1.2.0",
            "_model_name": "LayoutModel",
            "_view_count": null,
            "_view_module": "@jupyter-widgets/base",
            "_view_module_version": "1.2.0",
            "_view_name": "LayoutView",
            "align_content": null,
            "align_items": null,
            "align_self": null,
            "border": null,
            "bottom": null,
            "display": null,
            "flex": null,
            "flex_flow": null,
            "grid_area": null,
            "grid_auto_columns": null,
            "grid_auto_flow": null,
            "grid_auto_rows": null,
            "grid_column": null,
            "grid_gap": null,
            "grid_row": null,
            "grid_template_areas": null,
            "grid_template_columns": null,
            "grid_template_rows": null,
            "height": null,
            "justify_content": null,
            "justify_items": null,
            "left": null,
            "margin": null,
            "max_height": null,
            "max_width": null,
            "min_height": null,
            "min_width": null,
            "object_fit": null,
            "object_position": null,
            "order": null,
            "overflow": null,
            "overflow_x": null,
            "overflow_y": null,
            "padding": null,
            "right": null,
            "top": null,
            "visibility": null,
            "width": null
          }
        },
        "78716445560e4a9cbc112557e6db6093": {
          "model_module": "@jupyter-widgets/controls",
          "model_name": "ProgressStyleModel",
          "model_module_version": "1.5.0",
          "state": {
            "_model_module": "@jupyter-widgets/controls",
            "_model_module_version": "1.5.0",
            "_model_name": "ProgressStyleModel",
            "_view_count": null,
            "_view_module": "@jupyter-widgets/base",
            "_view_module_version": "1.2.0",
            "_view_name": "StyleView",
            "bar_color": null,
            "description_width": ""
          }
        },
        "afd45a491df54d3b81b1a43d525562f5": {
          "model_module": "@jupyter-widgets/controls",
          "model_name": "VBoxModel",
          "model_module_version": "1.5.0",
          "state": {
            "_dom_classes": [],
            "_model_module": "@jupyter-widgets/controls",
            "_model_module_version": "1.5.0",
            "_model_name": "VBoxModel",
            "_view_count": null,
            "_view_module": "@jupyter-widgets/controls",
            "_view_module_version": "1.5.0",
            "_view_name": "VBoxView",
            "box_style": "",
            "children": [
              "IPY_MODEL_35a028acbdf64ec28f1e8e015ebba164",
              "IPY_MODEL_40878fc5f9ff44ba85b01568495120ff"
            ],
            "layout": "IPY_MODEL_bddcea84e3e0471d845ed3341be30d49"
          }
        },
        "35a028acbdf64ec28f1e8e015ebba164": {
          "model_module": "@jupyter-widgets/controls",
          "model_name": "LabelModel",
          "model_module_version": "1.5.0",
          "state": {
            "_dom_classes": [],
            "_model_module": "@jupyter-widgets/controls",
            "_model_module_version": "1.5.0",
            "_model_name": "LabelModel",
            "_view_count": null,
            "_view_module": "@jupyter-widgets/controls",
            "_view_module_version": "1.5.0",
            "_view_name": "LabelView",
            "description": "",
            "description_tooltip": null,
            "layout": "IPY_MODEL_79dcaef23feb4f50953dd52b8ec7a33f",
            "placeholder": "​",
            "style": "IPY_MODEL_a89885a2f3174745b7dea23130f5bb48",
            "value": "0.001 MB of 0.013 MB uploaded (0.000 MB deduped)\r"
          }
        },
        "40878fc5f9ff44ba85b01568495120ff": {
          "model_module": "@jupyter-widgets/controls",
          "model_name": "FloatProgressModel",
          "model_module_version": "1.5.0",
          "state": {
            "_dom_classes": [],
            "_model_module": "@jupyter-widgets/controls",
            "_model_module_version": "1.5.0",
            "_model_name": "FloatProgressModel",
            "_view_count": null,
            "_view_module": "@jupyter-widgets/controls",
            "_view_module_version": "1.5.0",
            "_view_name": "ProgressView",
            "bar_style": "",
            "description": "",
            "description_tooltip": null,
            "layout": "IPY_MODEL_e4bd2c8582c14858a07c8828b0a270d9",
            "max": 1,
            "min": 0,
            "orientation": "horizontal",
            "style": "IPY_MODEL_e403ca44fcfc4e2890cb482a8e277fe9",
            "value": 0.0863346292085381
          }
        },
        "bddcea84e3e0471d845ed3341be30d49": {
          "model_module": "@jupyter-widgets/base",
          "model_name": "LayoutModel",
          "model_module_version": "1.2.0",
          "state": {
            "_model_module": "@jupyter-widgets/base",
            "_model_module_version": "1.2.0",
            "_model_name": "LayoutModel",
            "_view_count": null,
            "_view_module": "@jupyter-widgets/base",
            "_view_module_version": "1.2.0",
            "_view_name": "LayoutView",
            "align_content": null,
            "align_items": null,
            "align_self": null,
            "border": null,
            "bottom": null,
            "display": null,
            "flex": null,
            "flex_flow": null,
            "grid_area": null,
            "grid_auto_columns": null,
            "grid_auto_flow": null,
            "grid_auto_rows": null,
            "grid_column": null,
            "grid_gap": null,
            "grid_row": null,
            "grid_template_areas": null,
            "grid_template_columns": null,
            "grid_template_rows": null,
            "height": null,
            "justify_content": null,
            "justify_items": null,
            "left": null,
            "margin": null,
            "max_height": null,
            "max_width": null,
            "min_height": null,
            "min_width": null,
            "object_fit": null,
            "object_position": null,
            "order": null,
            "overflow": null,
            "overflow_x": null,
            "overflow_y": null,
            "padding": null,
            "right": null,
            "top": null,
            "visibility": null,
            "width": null
          }
        },
        "79dcaef23feb4f50953dd52b8ec7a33f": {
          "model_module": "@jupyter-widgets/base",
          "model_name": "LayoutModel",
          "model_module_version": "1.2.0",
          "state": {
            "_model_module": "@jupyter-widgets/base",
            "_model_module_version": "1.2.0",
            "_model_name": "LayoutModel",
            "_view_count": null,
            "_view_module": "@jupyter-widgets/base",
            "_view_module_version": "1.2.0",
            "_view_name": "LayoutView",
            "align_content": null,
            "align_items": null,
            "align_self": null,
            "border": null,
            "bottom": null,
            "display": null,
            "flex": null,
            "flex_flow": null,
            "grid_area": null,
            "grid_auto_columns": null,
            "grid_auto_flow": null,
            "grid_auto_rows": null,
            "grid_column": null,
            "grid_gap": null,
            "grid_row": null,
            "grid_template_areas": null,
            "grid_template_columns": null,
            "grid_template_rows": null,
            "height": null,
            "justify_content": null,
            "justify_items": null,
            "left": null,
            "margin": null,
            "max_height": null,
            "max_width": null,
            "min_height": null,
            "min_width": null,
            "object_fit": null,
            "object_position": null,
            "order": null,
            "overflow": null,
            "overflow_x": null,
            "overflow_y": null,
            "padding": null,
            "right": null,
            "top": null,
            "visibility": null,
            "width": null
          }
        },
        "a89885a2f3174745b7dea23130f5bb48": {
          "model_module": "@jupyter-widgets/controls",
          "model_name": "DescriptionStyleModel",
          "model_module_version": "1.5.0",
          "state": {
            "_model_module": "@jupyter-widgets/controls",
            "_model_module_version": "1.5.0",
            "_model_name": "DescriptionStyleModel",
            "_view_count": null,
            "_view_module": "@jupyter-widgets/base",
            "_view_module_version": "1.2.0",
            "_view_name": "StyleView",
            "description_width": ""
          }
        },
        "e4bd2c8582c14858a07c8828b0a270d9": {
          "model_module": "@jupyter-widgets/base",
          "model_name": "LayoutModel",
          "model_module_version": "1.2.0",
          "state": {
            "_model_module": "@jupyter-widgets/base",
            "_model_module_version": "1.2.0",
            "_model_name": "LayoutModel",
            "_view_count": null,
            "_view_module": "@jupyter-widgets/base",
            "_view_module_version": "1.2.0",
            "_view_name": "LayoutView",
            "align_content": null,
            "align_items": null,
            "align_self": null,
            "border": null,
            "bottom": null,
            "display": null,
            "flex": null,
            "flex_flow": null,
            "grid_area": null,
            "grid_auto_columns": null,
            "grid_auto_flow": null,
            "grid_auto_rows": null,
            "grid_column": null,
            "grid_gap": null,
            "grid_row": null,
            "grid_template_areas": null,
            "grid_template_columns": null,
            "grid_template_rows": null,
            "height": null,
            "justify_content": null,
            "justify_items": null,
            "left": null,
            "margin": null,
            "max_height": null,
            "max_width": null,
            "min_height": null,
            "min_width": null,
            "object_fit": null,
            "object_position": null,
            "order": null,
            "overflow": null,
            "overflow_x": null,
            "overflow_y": null,
            "padding": null,
            "right": null,
            "top": null,
            "visibility": null,
            "width": null
          }
        },
        "e403ca44fcfc4e2890cb482a8e277fe9": {
          "model_module": "@jupyter-widgets/controls",
          "model_name": "ProgressStyleModel",
          "model_module_version": "1.5.0",
          "state": {
            "_model_module": "@jupyter-widgets/controls",
            "_model_module_version": "1.5.0",
            "_model_name": "ProgressStyleModel",
            "_view_count": null,
            "_view_module": "@jupyter-widgets/base",
            "_view_module_version": "1.2.0",
            "_view_name": "StyleView",
            "bar_color": null,
            "description_width": ""
          }
        },
        "b89af2a3b89c40efbd66f6a510047ae2": {
          "model_module": "@jupyter-widgets/controls",
          "model_name": "HBoxModel",
          "model_module_version": "1.5.0",
          "state": {
            "_dom_classes": [],
            "_model_module": "@jupyter-widgets/controls",
            "_model_module_version": "1.5.0",
            "_model_name": "HBoxModel",
            "_view_count": null,
            "_view_module": "@jupyter-widgets/controls",
            "_view_module_version": "1.5.0",
            "_view_name": "HBoxView",
            "box_style": "",
            "children": [
              "IPY_MODEL_4a278b1dbc2a4949a9dac46a6a8ae6a2",
              "IPY_MODEL_471c3df9ddf543bc8ad1d69aa7b9f54c",
              "IPY_MODEL_2cc488202ad24725bcb8ec51e3b8e3ea"
            ],
            "layout": "IPY_MODEL_cb2d2704941142f6995bc047ebcbcc04"
          }
        },
        "4a278b1dbc2a4949a9dac46a6a8ae6a2": {
          "model_module": "@jupyter-widgets/controls",
          "model_name": "HTMLModel",
          "model_module_version": "1.5.0",
          "state": {
            "_dom_classes": [],
            "_model_module": "@jupyter-widgets/controls",
            "_model_module_version": "1.5.0",
            "_model_name": "HTMLModel",
            "_view_count": null,
            "_view_module": "@jupyter-widgets/controls",
            "_view_module_version": "1.5.0",
            "_view_name": "HTMLView",
            "description": "",
            "description_tooltip": null,
            "layout": "IPY_MODEL_336db43593824bd0979a9affa9ec4f8c",
            "placeholder": "​",
            "style": "IPY_MODEL_9e0e669bdab14fd288c372e6695fb9af",
            "value": "Downloading (…)lve/main/config.json: 100%"
          }
        },
        "471c3df9ddf543bc8ad1d69aa7b9f54c": {
          "model_module": "@jupyter-widgets/controls",
          "model_name": "FloatProgressModel",
          "model_module_version": "1.5.0",
          "state": {
            "_dom_classes": [],
            "_model_module": "@jupyter-widgets/controls",
            "_model_module_version": "1.5.0",
            "_model_name": "FloatProgressModel",
            "_view_count": null,
            "_view_module": "@jupyter-widgets/controls",
            "_view_module_version": "1.5.0",
            "_view_name": "ProgressView",
            "bar_style": "success",
            "description": "",
            "description_tooltip": null,
            "layout": "IPY_MODEL_e43e99cdebf04d828fa97866ebab812c",
            "max": 629,
            "min": 0,
            "orientation": "horizontal",
            "style": "IPY_MODEL_2a0fc4249ae0416f87ccfb0a86d95900",
            "value": 629
          }
        },
        "2cc488202ad24725bcb8ec51e3b8e3ea": {
          "model_module": "@jupyter-widgets/controls",
          "model_name": "HTMLModel",
          "model_module_version": "1.5.0",
          "state": {
            "_dom_classes": [],
            "_model_module": "@jupyter-widgets/controls",
            "_model_module_version": "1.5.0",
            "_model_name": "HTMLModel",
            "_view_count": null,
            "_view_module": "@jupyter-widgets/controls",
            "_view_module_version": "1.5.0",
            "_view_name": "HTMLView",
            "description": "",
            "description_tooltip": null,
            "layout": "IPY_MODEL_b33e6da741c84d018590a2611c0a8f2d",
            "placeholder": "​",
            "style": "IPY_MODEL_392d7d6dab9243fa917350ba0bd77283",
            "value": " 629/629 [00:00&lt;00:00, 8.43kB/s]"
          }
        },
        "cb2d2704941142f6995bc047ebcbcc04": {
          "model_module": "@jupyter-widgets/base",
          "model_name": "LayoutModel",
          "model_module_version": "1.2.0",
          "state": {
            "_model_module": "@jupyter-widgets/base",
            "_model_module_version": "1.2.0",
            "_model_name": "LayoutModel",
            "_view_count": null,
            "_view_module": "@jupyter-widgets/base",
            "_view_module_version": "1.2.0",
            "_view_name": "LayoutView",
            "align_content": null,
            "align_items": null,
            "align_self": null,
            "border": null,
            "bottom": null,
            "display": null,
            "flex": null,
            "flex_flow": null,
            "grid_area": null,
            "grid_auto_columns": null,
            "grid_auto_flow": null,
            "grid_auto_rows": null,
            "grid_column": null,
            "grid_gap": null,
            "grid_row": null,
            "grid_template_areas": null,
            "grid_template_columns": null,
            "grid_template_rows": null,
            "height": null,
            "justify_content": null,
            "justify_items": null,
            "left": null,
            "margin": null,
            "max_height": null,
            "max_width": null,
            "min_height": null,
            "min_width": null,
            "object_fit": null,
            "object_position": null,
            "order": null,
            "overflow": null,
            "overflow_x": null,
            "overflow_y": null,
            "padding": null,
            "right": null,
            "top": null,
            "visibility": null,
            "width": null
          }
        },
        "336db43593824bd0979a9affa9ec4f8c": {
          "model_module": "@jupyter-widgets/base",
          "model_name": "LayoutModel",
          "model_module_version": "1.2.0",
          "state": {
            "_model_module": "@jupyter-widgets/base",
            "_model_module_version": "1.2.0",
            "_model_name": "LayoutModel",
            "_view_count": null,
            "_view_module": "@jupyter-widgets/base",
            "_view_module_version": "1.2.0",
            "_view_name": "LayoutView",
            "align_content": null,
            "align_items": null,
            "align_self": null,
            "border": null,
            "bottom": null,
            "display": null,
            "flex": null,
            "flex_flow": null,
            "grid_area": null,
            "grid_auto_columns": null,
            "grid_auto_flow": null,
            "grid_auto_rows": null,
            "grid_column": null,
            "grid_gap": null,
            "grid_row": null,
            "grid_template_areas": null,
            "grid_template_columns": null,
            "grid_template_rows": null,
            "height": null,
            "justify_content": null,
            "justify_items": null,
            "left": null,
            "margin": null,
            "max_height": null,
            "max_width": null,
            "min_height": null,
            "min_width": null,
            "object_fit": null,
            "object_position": null,
            "order": null,
            "overflow": null,
            "overflow_x": null,
            "overflow_y": null,
            "padding": null,
            "right": null,
            "top": null,
            "visibility": null,
            "width": null
          }
        },
        "9e0e669bdab14fd288c372e6695fb9af": {
          "model_module": "@jupyter-widgets/controls",
          "model_name": "DescriptionStyleModel",
          "model_module_version": "1.5.0",
          "state": {
            "_model_module": "@jupyter-widgets/controls",
            "_model_module_version": "1.5.0",
            "_model_name": "DescriptionStyleModel",
            "_view_count": null,
            "_view_module": "@jupyter-widgets/base",
            "_view_module_version": "1.2.0",
            "_view_name": "StyleView",
            "description_width": ""
          }
        },
        "e43e99cdebf04d828fa97866ebab812c": {
          "model_module": "@jupyter-widgets/base",
          "model_name": "LayoutModel",
          "model_module_version": "1.2.0",
          "state": {
            "_model_module": "@jupyter-widgets/base",
            "_model_module_version": "1.2.0",
            "_model_name": "LayoutModel",
            "_view_count": null,
            "_view_module": "@jupyter-widgets/base",
            "_view_module_version": "1.2.0",
            "_view_name": "LayoutView",
            "align_content": null,
            "align_items": null,
            "align_self": null,
            "border": null,
            "bottom": null,
            "display": null,
            "flex": null,
            "flex_flow": null,
            "grid_area": null,
            "grid_auto_columns": null,
            "grid_auto_flow": null,
            "grid_auto_rows": null,
            "grid_column": null,
            "grid_gap": null,
            "grid_row": null,
            "grid_template_areas": null,
            "grid_template_columns": null,
            "grid_template_rows": null,
            "height": null,
            "justify_content": null,
            "justify_items": null,
            "left": null,
            "margin": null,
            "max_height": null,
            "max_width": null,
            "min_height": null,
            "min_width": null,
            "object_fit": null,
            "object_position": null,
            "order": null,
            "overflow": null,
            "overflow_x": null,
            "overflow_y": null,
            "padding": null,
            "right": null,
            "top": null,
            "visibility": null,
            "width": null
          }
        },
        "2a0fc4249ae0416f87ccfb0a86d95900": {
          "model_module": "@jupyter-widgets/controls",
          "model_name": "ProgressStyleModel",
          "model_module_version": "1.5.0",
          "state": {
            "_model_module": "@jupyter-widgets/controls",
            "_model_module_version": "1.5.0",
            "_model_name": "ProgressStyleModel",
            "_view_count": null,
            "_view_module": "@jupyter-widgets/base",
            "_view_module_version": "1.2.0",
            "_view_name": "StyleView",
            "bar_color": null,
            "description_width": ""
          }
        },
        "b33e6da741c84d018590a2611c0a8f2d": {
          "model_module": "@jupyter-widgets/base",
          "model_name": "LayoutModel",
          "model_module_version": "1.2.0",
          "state": {
            "_model_module": "@jupyter-widgets/base",
            "_model_module_version": "1.2.0",
            "_model_name": "LayoutModel",
            "_view_count": null,
            "_view_module": "@jupyter-widgets/base",
            "_view_module_version": "1.2.0",
            "_view_name": "LayoutView",
            "align_content": null,
            "align_items": null,
            "align_self": null,
            "border": null,
            "bottom": null,
            "display": null,
            "flex": null,
            "flex_flow": null,
            "grid_area": null,
            "grid_auto_columns": null,
            "grid_auto_flow": null,
            "grid_auto_rows": null,
            "grid_column": null,
            "grid_gap": null,
            "grid_row": null,
            "grid_template_areas": null,
            "grid_template_columns": null,
            "grid_template_rows": null,
            "height": null,
            "justify_content": null,
            "justify_items": null,
            "left": null,
            "margin": null,
            "max_height": null,
            "max_width": null,
            "min_height": null,
            "min_width": null,
            "object_fit": null,
            "object_position": null,
            "order": null,
            "overflow": null,
            "overflow_x": null,
            "overflow_y": null,
            "padding": null,
            "right": null,
            "top": null,
            "visibility": null,
            "width": null
          }
        },
        "392d7d6dab9243fa917350ba0bd77283": {
          "model_module": "@jupyter-widgets/controls",
          "model_name": "DescriptionStyleModel",
          "model_module_version": "1.5.0",
          "state": {
            "_model_module": "@jupyter-widgets/controls",
            "_model_module_version": "1.5.0",
            "_model_name": "DescriptionStyleModel",
            "_view_count": null,
            "_view_module": "@jupyter-widgets/base",
            "_view_module_version": "1.2.0",
            "_view_name": "StyleView",
            "description_width": ""
          }
        },
        "eca094027e9b433c9fa8fb4868d7f88e": {
          "model_module": "@jupyter-widgets/controls",
          "model_name": "HBoxModel",
          "model_module_version": "1.5.0",
          "state": {
            "_dom_classes": [],
            "_model_module": "@jupyter-widgets/controls",
            "_model_module_version": "1.5.0",
            "_model_name": "HBoxModel",
            "_view_count": null,
            "_view_module": "@jupyter-widgets/controls",
            "_view_module_version": "1.5.0",
            "_view_name": "HBoxView",
            "box_style": "",
            "children": [
              "IPY_MODEL_de9a50329af34a0e868e362ecf9db75e",
              "IPY_MODEL_95e8255ac0f047f7a3a6209c4afdceac",
              "IPY_MODEL_e113c7da1c234b438c6b4c98fe0c89e6"
            ],
            "layout": "IPY_MODEL_b186ba74f2bd4195b5e7ba199a74c93c"
          }
        },
        "de9a50329af34a0e868e362ecf9db75e": {
          "model_module": "@jupyter-widgets/controls",
          "model_name": "HTMLModel",
          "model_module_version": "1.5.0",
          "state": {
            "_dom_classes": [],
            "_model_module": "@jupyter-widgets/controls",
            "_model_module_version": "1.5.0",
            "_model_name": "HTMLModel",
            "_view_count": null,
            "_view_module": "@jupyter-widgets/controls",
            "_view_module_version": "1.5.0",
            "_view_name": "HTMLView",
            "description": "",
            "description_tooltip": null,
            "layout": "IPY_MODEL_53b3f281a78c4759aecec4b7e573ddb8",
            "placeholder": "​",
            "style": "IPY_MODEL_cb4e1496eba449758eb3387eef6c8ef6",
            "value": "Downloading model.safetensors: 100%"
          }
        },
        "95e8255ac0f047f7a3a6209c4afdceac": {
          "model_module": "@jupyter-widgets/controls",
          "model_name": "FloatProgressModel",
          "model_module_version": "1.5.0",
          "state": {
            "_dom_classes": [],
            "_model_module": "@jupyter-widgets/controls",
            "_model_module_version": "1.5.0",
            "_model_name": "FloatProgressModel",
            "_view_count": null,
            "_view_module": "@jupyter-widgets/controls",
            "_view_module_version": "1.5.0",
            "_view_name": "ProgressView",
            "bar_style": "success",
            "description": "",
            "description_tooltip": null,
            "layout": "IPY_MODEL_eecbb1e0e4f14a27bd101c32aa69cf69",
            "max": 267832558,
            "min": 0,
            "orientation": "horizontal",
            "style": "IPY_MODEL_3dd58186d6a5405e95727aa23cb5f1c9",
            "value": 267832558
          }
        },
        "e113c7da1c234b438c6b4c98fe0c89e6": {
          "model_module": "@jupyter-widgets/controls",
          "model_name": "HTMLModel",
          "model_module_version": "1.5.0",
          "state": {
            "_dom_classes": [],
            "_model_module": "@jupyter-widgets/controls",
            "_model_module_version": "1.5.0",
            "_model_name": "HTMLModel",
            "_view_count": null,
            "_view_module": "@jupyter-widgets/controls",
            "_view_module_version": "1.5.0",
            "_view_name": "HTMLView",
            "description": "",
            "description_tooltip": null,
            "layout": "IPY_MODEL_570e61f8cc9a4c9daeb88bc164fdc3b4",
            "placeholder": "​",
            "style": "IPY_MODEL_cabb287eb3e24af18dd740ff18741250",
            "value": " 268M/268M [00:01&lt;00:00, 207MB/s]"
          }
        },
        "b186ba74f2bd4195b5e7ba199a74c93c": {
          "model_module": "@jupyter-widgets/base",
          "model_name": "LayoutModel",
          "model_module_version": "1.2.0",
          "state": {
            "_model_module": "@jupyter-widgets/base",
            "_model_module_version": "1.2.0",
            "_model_name": "LayoutModel",
            "_view_count": null,
            "_view_module": "@jupyter-widgets/base",
            "_view_module_version": "1.2.0",
            "_view_name": "LayoutView",
            "align_content": null,
            "align_items": null,
            "align_self": null,
            "border": null,
            "bottom": null,
            "display": null,
            "flex": null,
            "flex_flow": null,
            "grid_area": null,
            "grid_auto_columns": null,
            "grid_auto_flow": null,
            "grid_auto_rows": null,
            "grid_column": null,
            "grid_gap": null,
            "grid_row": null,
            "grid_template_areas": null,
            "grid_template_columns": null,
            "grid_template_rows": null,
            "height": null,
            "justify_content": null,
            "justify_items": null,
            "left": null,
            "margin": null,
            "max_height": null,
            "max_width": null,
            "min_height": null,
            "min_width": null,
            "object_fit": null,
            "object_position": null,
            "order": null,
            "overflow": null,
            "overflow_x": null,
            "overflow_y": null,
            "padding": null,
            "right": null,
            "top": null,
            "visibility": null,
            "width": null
          }
        },
        "53b3f281a78c4759aecec4b7e573ddb8": {
          "model_module": "@jupyter-widgets/base",
          "model_name": "LayoutModel",
          "model_module_version": "1.2.0",
          "state": {
            "_model_module": "@jupyter-widgets/base",
            "_model_module_version": "1.2.0",
            "_model_name": "LayoutModel",
            "_view_count": null,
            "_view_module": "@jupyter-widgets/base",
            "_view_module_version": "1.2.0",
            "_view_name": "LayoutView",
            "align_content": null,
            "align_items": null,
            "align_self": null,
            "border": null,
            "bottom": null,
            "display": null,
            "flex": null,
            "flex_flow": null,
            "grid_area": null,
            "grid_auto_columns": null,
            "grid_auto_flow": null,
            "grid_auto_rows": null,
            "grid_column": null,
            "grid_gap": null,
            "grid_row": null,
            "grid_template_areas": null,
            "grid_template_columns": null,
            "grid_template_rows": null,
            "height": null,
            "justify_content": null,
            "justify_items": null,
            "left": null,
            "margin": null,
            "max_height": null,
            "max_width": null,
            "min_height": null,
            "min_width": null,
            "object_fit": null,
            "object_position": null,
            "order": null,
            "overflow": null,
            "overflow_x": null,
            "overflow_y": null,
            "padding": null,
            "right": null,
            "top": null,
            "visibility": null,
            "width": null
          }
        },
        "cb4e1496eba449758eb3387eef6c8ef6": {
          "model_module": "@jupyter-widgets/controls",
          "model_name": "DescriptionStyleModel",
          "model_module_version": "1.5.0",
          "state": {
            "_model_module": "@jupyter-widgets/controls",
            "_model_module_version": "1.5.0",
            "_model_name": "DescriptionStyleModel",
            "_view_count": null,
            "_view_module": "@jupyter-widgets/base",
            "_view_module_version": "1.2.0",
            "_view_name": "StyleView",
            "description_width": ""
          }
        },
        "eecbb1e0e4f14a27bd101c32aa69cf69": {
          "model_module": "@jupyter-widgets/base",
          "model_name": "LayoutModel",
          "model_module_version": "1.2.0",
          "state": {
            "_model_module": "@jupyter-widgets/base",
            "_model_module_version": "1.2.0",
            "_model_name": "LayoutModel",
            "_view_count": null,
            "_view_module": "@jupyter-widgets/base",
            "_view_module_version": "1.2.0",
            "_view_name": "LayoutView",
            "align_content": null,
            "align_items": null,
            "align_self": null,
            "border": null,
            "bottom": null,
            "display": null,
            "flex": null,
            "flex_flow": null,
            "grid_area": null,
            "grid_auto_columns": null,
            "grid_auto_flow": null,
            "grid_auto_rows": null,
            "grid_column": null,
            "grid_gap": null,
            "grid_row": null,
            "grid_template_areas": null,
            "grid_template_columns": null,
            "grid_template_rows": null,
            "height": null,
            "justify_content": null,
            "justify_items": null,
            "left": null,
            "margin": null,
            "max_height": null,
            "max_width": null,
            "min_height": null,
            "min_width": null,
            "object_fit": null,
            "object_position": null,
            "order": null,
            "overflow": null,
            "overflow_x": null,
            "overflow_y": null,
            "padding": null,
            "right": null,
            "top": null,
            "visibility": null,
            "width": null
          }
        },
        "3dd58186d6a5405e95727aa23cb5f1c9": {
          "model_module": "@jupyter-widgets/controls",
          "model_name": "ProgressStyleModel",
          "model_module_version": "1.5.0",
          "state": {
            "_model_module": "@jupyter-widgets/controls",
            "_model_module_version": "1.5.0",
            "_model_name": "ProgressStyleModel",
            "_view_count": null,
            "_view_module": "@jupyter-widgets/base",
            "_view_module_version": "1.2.0",
            "_view_name": "StyleView",
            "bar_color": null,
            "description_width": ""
          }
        },
        "570e61f8cc9a4c9daeb88bc164fdc3b4": {
          "model_module": "@jupyter-widgets/base",
          "model_name": "LayoutModel",
          "model_module_version": "1.2.0",
          "state": {
            "_model_module": "@jupyter-widgets/base",
            "_model_module_version": "1.2.0",
            "_model_name": "LayoutModel",
            "_view_count": null,
            "_view_module": "@jupyter-widgets/base",
            "_view_module_version": "1.2.0",
            "_view_name": "LayoutView",
            "align_content": null,
            "align_items": null,
            "align_self": null,
            "border": null,
            "bottom": null,
            "display": null,
            "flex": null,
            "flex_flow": null,
            "grid_area": null,
            "grid_auto_columns": null,
            "grid_auto_flow": null,
            "grid_auto_rows": null,
            "grid_column": null,
            "grid_gap": null,
            "grid_row": null,
            "grid_template_areas": null,
            "grid_template_columns": null,
            "grid_template_rows": null,
            "height": null,
            "justify_content": null,
            "justify_items": null,
            "left": null,
            "margin": null,
            "max_height": null,
            "max_width": null,
            "min_height": null,
            "min_width": null,
            "object_fit": null,
            "object_position": null,
            "order": null,
            "overflow": null,
            "overflow_x": null,
            "overflow_y": null,
            "padding": null,
            "right": null,
            "top": null,
            "visibility": null,
            "width": null
          }
        },
        "cabb287eb3e24af18dd740ff18741250": {
          "model_module": "@jupyter-widgets/controls",
          "model_name": "DescriptionStyleModel",
          "model_module_version": "1.5.0",
          "state": {
            "_model_module": "@jupyter-widgets/controls",
            "_model_module_version": "1.5.0",
            "_model_name": "DescriptionStyleModel",
            "_view_count": null,
            "_view_module": "@jupyter-widgets/base",
            "_view_module_version": "1.2.0",
            "_view_name": "StyleView",
            "description_width": ""
          }
        },
        "b50fbf69c5f44384a7dd3395f74da0c8": {
          "model_module": "@jupyter-widgets/controls",
          "model_name": "HBoxModel",
          "model_module_version": "1.5.0",
          "state": {
            "_dom_classes": [],
            "_model_module": "@jupyter-widgets/controls",
            "_model_module_version": "1.5.0",
            "_model_name": "HBoxModel",
            "_view_count": null,
            "_view_module": "@jupyter-widgets/controls",
            "_view_module_version": "1.5.0",
            "_view_name": "HBoxView",
            "box_style": "",
            "children": [
              "IPY_MODEL_a02a6392ec1f494c8f9c5734b5794489",
              "IPY_MODEL_11523c0f7e534623b80eb76e101945ba",
              "IPY_MODEL_61bf0164503847d5bc1f521a76f5919c"
            ],
            "layout": "IPY_MODEL_8abf5a59c75c420faef643f5e28d8c9b"
          }
        },
        "a02a6392ec1f494c8f9c5734b5794489": {
          "model_module": "@jupyter-widgets/controls",
          "model_name": "HTMLModel",
          "model_module_version": "1.5.0",
          "state": {
            "_dom_classes": [],
            "_model_module": "@jupyter-widgets/controls",
            "_model_module_version": "1.5.0",
            "_model_name": "HTMLModel",
            "_view_count": null,
            "_view_module": "@jupyter-widgets/controls",
            "_view_module_version": "1.5.0",
            "_view_name": "HTMLView",
            "description": "",
            "description_tooltip": null,
            "layout": "IPY_MODEL_05f0dad14f9d49e6aaed3feb8c1dd4a7",
            "placeholder": "​",
            "style": "IPY_MODEL_c09868d5c0b543e68cc26bbc47460441",
            "value": "Downloading (…)okenizer_config.json: 100%"
          }
        },
        "11523c0f7e534623b80eb76e101945ba": {
          "model_module": "@jupyter-widgets/controls",
          "model_name": "FloatProgressModel",
          "model_module_version": "1.5.0",
          "state": {
            "_dom_classes": [],
            "_model_module": "@jupyter-widgets/controls",
            "_model_module_version": "1.5.0",
            "_model_name": "FloatProgressModel",
            "_view_count": null,
            "_view_module": "@jupyter-widgets/controls",
            "_view_module_version": "1.5.0",
            "_view_name": "ProgressView",
            "bar_style": "success",
            "description": "",
            "description_tooltip": null,
            "layout": "IPY_MODEL_abaecb0a04294b7a88002eebdab6f088",
            "max": 48,
            "min": 0,
            "orientation": "horizontal",
            "style": "IPY_MODEL_625a459b0ef947f68be35912b4975157",
            "value": 48
          }
        },
        "61bf0164503847d5bc1f521a76f5919c": {
          "model_module": "@jupyter-widgets/controls",
          "model_name": "HTMLModel",
          "model_module_version": "1.5.0",
          "state": {
            "_dom_classes": [],
            "_model_module": "@jupyter-widgets/controls",
            "_model_module_version": "1.5.0",
            "_model_name": "HTMLModel",
            "_view_count": null,
            "_view_module": "@jupyter-widgets/controls",
            "_view_module_version": "1.5.0",
            "_view_name": "HTMLView",
            "description": "",
            "description_tooltip": null,
            "layout": "IPY_MODEL_caec6caceb1d4be38920f84d4a45ffaa",
            "placeholder": "​",
            "style": "IPY_MODEL_9b925a65b1c1414b90b8c46964474dfa",
            "value": " 48.0/48.0 [00:00&lt;00:00, 2.86kB/s]"
          }
        },
        "8abf5a59c75c420faef643f5e28d8c9b": {
          "model_module": "@jupyter-widgets/base",
          "model_name": "LayoutModel",
          "model_module_version": "1.2.0",
          "state": {
            "_model_module": "@jupyter-widgets/base",
            "_model_module_version": "1.2.0",
            "_model_name": "LayoutModel",
            "_view_count": null,
            "_view_module": "@jupyter-widgets/base",
            "_view_module_version": "1.2.0",
            "_view_name": "LayoutView",
            "align_content": null,
            "align_items": null,
            "align_self": null,
            "border": null,
            "bottom": null,
            "display": null,
            "flex": null,
            "flex_flow": null,
            "grid_area": null,
            "grid_auto_columns": null,
            "grid_auto_flow": null,
            "grid_auto_rows": null,
            "grid_column": null,
            "grid_gap": null,
            "grid_row": null,
            "grid_template_areas": null,
            "grid_template_columns": null,
            "grid_template_rows": null,
            "height": null,
            "justify_content": null,
            "justify_items": null,
            "left": null,
            "margin": null,
            "max_height": null,
            "max_width": null,
            "min_height": null,
            "min_width": null,
            "object_fit": null,
            "object_position": null,
            "order": null,
            "overflow": null,
            "overflow_x": null,
            "overflow_y": null,
            "padding": null,
            "right": null,
            "top": null,
            "visibility": null,
            "width": null
          }
        },
        "05f0dad14f9d49e6aaed3feb8c1dd4a7": {
          "model_module": "@jupyter-widgets/base",
          "model_name": "LayoutModel",
          "model_module_version": "1.2.0",
          "state": {
            "_model_module": "@jupyter-widgets/base",
            "_model_module_version": "1.2.0",
            "_model_name": "LayoutModel",
            "_view_count": null,
            "_view_module": "@jupyter-widgets/base",
            "_view_module_version": "1.2.0",
            "_view_name": "LayoutView",
            "align_content": null,
            "align_items": null,
            "align_self": null,
            "border": null,
            "bottom": null,
            "display": null,
            "flex": null,
            "flex_flow": null,
            "grid_area": null,
            "grid_auto_columns": null,
            "grid_auto_flow": null,
            "grid_auto_rows": null,
            "grid_column": null,
            "grid_gap": null,
            "grid_row": null,
            "grid_template_areas": null,
            "grid_template_columns": null,
            "grid_template_rows": null,
            "height": null,
            "justify_content": null,
            "justify_items": null,
            "left": null,
            "margin": null,
            "max_height": null,
            "max_width": null,
            "min_height": null,
            "min_width": null,
            "object_fit": null,
            "object_position": null,
            "order": null,
            "overflow": null,
            "overflow_x": null,
            "overflow_y": null,
            "padding": null,
            "right": null,
            "top": null,
            "visibility": null,
            "width": null
          }
        },
        "c09868d5c0b543e68cc26bbc47460441": {
          "model_module": "@jupyter-widgets/controls",
          "model_name": "DescriptionStyleModel",
          "model_module_version": "1.5.0",
          "state": {
            "_model_module": "@jupyter-widgets/controls",
            "_model_module_version": "1.5.0",
            "_model_name": "DescriptionStyleModel",
            "_view_count": null,
            "_view_module": "@jupyter-widgets/base",
            "_view_module_version": "1.2.0",
            "_view_name": "StyleView",
            "description_width": ""
          }
        },
        "abaecb0a04294b7a88002eebdab6f088": {
          "model_module": "@jupyter-widgets/base",
          "model_name": "LayoutModel",
          "model_module_version": "1.2.0",
          "state": {
            "_model_module": "@jupyter-widgets/base",
            "_model_module_version": "1.2.0",
            "_model_name": "LayoutModel",
            "_view_count": null,
            "_view_module": "@jupyter-widgets/base",
            "_view_module_version": "1.2.0",
            "_view_name": "LayoutView",
            "align_content": null,
            "align_items": null,
            "align_self": null,
            "border": null,
            "bottom": null,
            "display": null,
            "flex": null,
            "flex_flow": null,
            "grid_area": null,
            "grid_auto_columns": null,
            "grid_auto_flow": null,
            "grid_auto_rows": null,
            "grid_column": null,
            "grid_gap": null,
            "grid_row": null,
            "grid_template_areas": null,
            "grid_template_columns": null,
            "grid_template_rows": null,
            "height": null,
            "justify_content": null,
            "justify_items": null,
            "left": null,
            "margin": null,
            "max_height": null,
            "max_width": null,
            "min_height": null,
            "min_width": null,
            "object_fit": null,
            "object_position": null,
            "order": null,
            "overflow": null,
            "overflow_x": null,
            "overflow_y": null,
            "padding": null,
            "right": null,
            "top": null,
            "visibility": null,
            "width": null
          }
        },
        "625a459b0ef947f68be35912b4975157": {
          "model_module": "@jupyter-widgets/controls",
          "model_name": "ProgressStyleModel",
          "model_module_version": "1.5.0",
          "state": {
            "_model_module": "@jupyter-widgets/controls",
            "_model_module_version": "1.5.0",
            "_model_name": "ProgressStyleModel",
            "_view_count": null,
            "_view_module": "@jupyter-widgets/base",
            "_view_module_version": "1.2.0",
            "_view_name": "StyleView",
            "bar_color": null,
            "description_width": ""
          }
        },
        "caec6caceb1d4be38920f84d4a45ffaa": {
          "model_module": "@jupyter-widgets/base",
          "model_name": "LayoutModel",
          "model_module_version": "1.2.0",
          "state": {
            "_model_module": "@jupyter-widgets/base",
            "_model_module_version": "1.2.0",
            "_model_name": "LayoutModel",
            "_view_count": null,
            "_view_module": "@jupyter-widgets/base",
            "_view_module_version": "1.2.0",
            "_view_name": "LayoutView",
            "align_content": null,
            "align_items": null,
            "align_self": null,
            "border": null,
            "bottom": null,
            "display": null,
            "flex": null,
            "flex_flow": null,
            "grid_area": null,
            "grid_auto_columns": null,
            "grid_auto_flow": null,
            "grid_auto_rows": null,
            "grid_column": null,
            "grid_gap": null,
            "grid_row": null,
            "grid_template_areas": null,
            "grid_template_columns": null,
            "grid_template_rows": null,
            "height": null,
            "justify_content": null,
            "justify_items": null,
            "left": null,
            "margin": null,
            "max_height": null,
            "max_width": null,
            "min_height": null,
            "min_width": null,
            "object_fit": null,
            "object_position": null,
            "order": null,
            "overflow": null,
            "overflow_x": null,
            "overflow_y": null,
            "padding": null,
            "right": null,
            "top": null,
            "visibility": null,
            "width": null
          }
        },
        "9b925a65b1c1414b90b8c46964474dfa": {
          "model_module": "@jupyter-widgets/controls",
          "model_name": "DescriptionStyleModel",
          "model_module_version": "1.5.0",
          "state": {
            "_model_module": "@jupyter-widgets/controls",
            "_model_module_version": "1.5.0",
            "_model_name": "DescriptionStyleModel",
            "_view_count": null,
            "_view_module": "@jupyter-widgets/base",
            "_view_module_version": "1.2.0",
            "_view_name": "StyleView",
            "description_width": ""
          }
        },
        "ee1abdede6724d11aeb248b160672b6f": {
          "model_module": "@jupyter-widgets/controls",
          "model_name": "HBoxModel",
          "model_module_version": "1.5.0",
          "state": {
            "_dom_classes": [],
            "_model_module": "@jupyter-widgets/controls",
            "_model_module_version": "1.5.0",
            "_model_name": "HBoxModel",
            "_view_count": null,
            "_view_module": "@jupyter-widgets/controls",
            "_view_module_version": "1.5.0",
            "_view_name": "HBoxView",
            "box_style": "",
            "children": [
              "IPY_MODEL_9c2a07b0cfdc4ae8a56194f896995c32",
              "IPY_MODEL_80666a1b79144277a6cf0b0a7179431d",
              "IPY_MODEL_e2c70aa2c7d449a78960b0c053a7adb2"
            ],
            "layout": "IPY_MODEL_0ffaa9188e6f4632aec0b2dba4ef5eaf"
          }
        },
        "9c2a07b0cfdc4ae8a56194f896995c32": {
          "model_module": "@jupyter-widgets/controls",
          "model_name": "HTMLModel",
          "model_module_version": "1.5.0",
          "state": {
            "_dom_classes": [],
            "_model_module": "@jupyter-widgets/controls",
            "_model_module_version": "1.5.0",
            "_model_name": "HTMLModel",
            "_view_count": null,
            "_view_module": "@jupyter-widgets/controls",
            "_view_module_version": "1.5.0",
            "_view_name": "HTMLView",
            "description": "",
            "description_tooltip": null,
            "layout": "IPY_MODEL_77636486215f45c68a44cf90dd620e8f",
            "placeholder": "​",
            "style": "IPY_MODEL_881e5e352eb14916ad10d09871b04394",
            "value": "Downloading (…)solve/main/vocab.txt: 100%"
          }
        },
        "80666a1b79144277a6cf0b0a7179431d": {
          "model_module": "@jupyter-widgets/controls",
          "model_name": "FloatProgressModel",
          "model_module_version": "1.5.0",
          "state": {
            "_dom_classes": [],
            "_model_module": "@jupyter-widgets/controls",
            "_model_module_version": "1.5.0",
            "_model_name": "FloatProgressModel",
            "_view_count": null,
            "_view_module": "@jupyter-widgets/controls",
            "_view_module_version": "1.5.0",
            "_view_name": "ProgressView",
            "bar_style": "success",
            "description": "",
            "description_tooltip": null,
            "layout": "IPY_MODEL_1e47ab0653b940a7b1eab32de2ab7a81",
            "max": 231508,
            "min": 0,
            "orientation": "horizontal",
            "style": "IPY_MODEL_407a15fa8475485e9056df5dd15c7230",
            "value": 231508
          }
        },
        "e2c70aa2c7d449a78960b0c053a7adb2": {
          "model_module": "@jupyter-widgets/controls",
          "model_name": "HTMLModel",
          "model_module_version": "1.5.0",
          "state": {
            "_dom_classes": [],
            "_model_module": "@jupyter-widgets/controls",
            "_model_module_version": "1.5.0",
            "_model_name": "HTMLModel",
            "_view_count": null,
            "_view_module": "@jupyter-widgets/controls",
            "_view_module_version": "1.5.0",
            "_view_name": "HTMLView",
            "description": "",
            "description_tooltip": null,
            "layout": "IPY_MODEL_655ec0cc401b47fc9155b001c8c590e8",
            "placeholder": "​",
            "style": "IPY_MODEL_17fac65af5a8463dacf6932e81521d4f",
            "value": " 232k/232k [00:00&lt;00:00, 3.98MB/s]"
          }
        },
        "0ffaa9188e6f4632aec0b2dba4ef5eaf": {
          "model_module": "@jupyter-widgets/base",
          "model_name": "LayoutModel",
          "model_module_version": "1.2.0",
          "state": {
            "_model_module": "@jupyter-widgets/base",
            "_model_module_version": "1.2.0",
            "_model_name": "LayoutModel",
            "_view_count": null,
            "_view_module": "@jupyter-widgets/base",
            "_view_module_version": "1.2.0",
            "_view_name": "LayoutView",
            "align_content": null,
            "align_items": null,
            "align_self": null,
            "border": null,
            "bottom": null,
            "display": null,
            "flex": null,
            "flex_flow": null,
            "grid_area": null,
            "grid_auto_columns": null,
            "grid_auto_flow": null,
            "grid_auto_rows": null,
            "grid_column": null,
            "grid_gap": null,
            "grid_row": null,
            "grid_template_areas": null,
            "grid_template_columns": null,
            "grid_template_rows": null,
            "height": null,
            "justify_content": null,
            "justify_items": null,
            "left": null,
            "margin": null,
            "max_height": null,
            "max_width": null,
            "min_height": null,
            "min_width": null,
            "object_fit": null,
            "object_position": null,
            "order": null,
            "overflow": null,
            "overflow_x": null,
            "overflow_y": null,
            "padding": null,
            "right": null,
            "top": null,
            "visibility": null,
            "width": null
          }
        },
        "77636486215f45c68a44cf90dd620e8f": {
          "model_module": "@jupyter-widgets/base",
          "model_name": "LayoutModel",
          "model_module_version": "1.2.0",
          "state": {
            "_model_module": "@jupyter-widgets/base",
            "_model_module_version": "1.2.0",
            "_model_name": "LayoutModel",
            "_view_count": null,
            "_view_module": "@jupyter-widgets/base",
            "_view_module_version": "1.2.0",
            "_view_name": "LayoutView",
            "align_content": null,
            "align_items": null,
            "align_self": null,
            "border": null,
            "bottom": null,
            "display": null,
            "flex": null,
            "flex_flow": null,
            "grid_area": null,
            "grid_auto_columns": null,
            "grid_auto_flow": null,
            "grid_auto_rows": null,
            "grid_column": null,
            "grid_gap": null,
            "grid_row": null,
            "grid_template_areas": null,
            "grid_template_columns": null,
            "grid_template_rows": null,
            "height": null,
            "justify_content": null,
            "justify_items": null,
            "left": null,
            "margin": null,
            "max_height": null,
            "max_width": null,
            "min_height": null,
            "min_width": null,
            "object_fit": null,
            "object_position": null,
            "order": null,
            "overflow": null,
            "overflow_x": null,
            "overflow_y": null,
            "padding": null,
            "right": null,
            "top": null,
            "visibility": null,
            "width": null
          }
        },
        "881e5e352eb14916ad10d09871b04394": {
          "model_module": "@jupyter-widgets/controls",
          "model_name": "DescriptionStyleModel",
          "model_module_version": "1.5.0",
          "state": {
            "_model_module": "@jupyter-widgets/controls",
            "_model_module_version": "1.5.0",
            "_model_name": "DescriptionStyleModel",
            "_view_count": null,
            "_view_module": "@jupyter-widgets/base",
            "_view_module_version": "1.2.0",
            "_view_name": "StyleView",
            "description_width": ""
          }
        },
        "1e47ab0653b940a7b1eab32de2ab7a81": {
          "model_module": "@jupyter-widgets/base",
          "model_name": "LayoutModel",
          "model_module_version": "1.2.0",
          "state": {
            "_model_module": "@jupyter-widgets/base",
            "_model_module_version": "1.2.0",
            "_model_name": "LayoutModel",
            "_view_count": null,
            "_view_module": "@jupyter-widgets/base",
            "_view_module_version": "1.2.0",
            "_view_name": "LayoutView",
            "align_content": null,
            "align_items": null,
            "align_self": null,
            "border": null,
            "bottom": null,
            "display": null,
            "flex": null,
            "flex_flow": null,
            "grid_area": null,
            "grid_auto_columns": null,
            "grid_auto_flow": null,
            "grid_auto_rows": null,
            "grid_column": null,
            "grid_gap": null,
            "grid_row": null,
            "grid_template_areas": null,
            "grid_template_columns": null,
            "grid_template_rows": null,
            "height": null,
            "justify_content": null,
            "justify_items": null,
            "left": null,
            "margin": null,
            "max_height": null,
            "max_width": null,
            "min_height": null,
            "min_width": null,
            "object_fit": null,
            "object_position": null,
            "order": null,
            "overflow": null,
            "overflow_x": null,
            "overflow_y": null,
            "padding": null,
            "right": null,
            "top": null,
            "visibility": null,
            "width": null
          }
        },
        "407a15fa8475485e9056df5dd15c7230": {
          "model_module": "@jupyter-widgets/controls",
          "model_name": "ProgressStyleModel",
          "model_module_version": "1.5.0",
          "state": {
            "_model_module": "@jupyter-widgets/controls",
            "_model_module_version": "1.5.0",
            "_model_name": "ProgressStyleModel",
            "_view_count": null,
            "_view_module": "@jupyter-widgets/base",
            "_view_module_version": "1.2.0",
            "_view_name": "StyleView",
            "bar_color": null,
            "description_width": ""
          }
        },
        "655ec0cc401b47fc9155b001c8c590e8": {
          "model_module": "@jupyter-widgets/base",
          "model_name": "LayoutModel",
          "model_module_version": "1.2.0",
          "state": {
            "_model_module": "@jupyter-widgets/base",
            "_model_module_version": "1.2.0",
            "_model_name": "LayoutModel",
            "_view_count": null,
            "_view_module": "@jupyter-widgets/base",
            "_view_module_version": "1.2.0",
            "_view_name": "LayoutView",
            "align_content": null,
            "align_items": null,
            "align_self": null,
            "border": null,
            "bottom": null,
            "display": null,
            "flex": null,
            "flex_flow": null,
            "grid_area": null,
            "grid_auto_columns": null,
            "grid_auto_flow": null,
            "grid_auto_rows": null,
            "grid_column": null,
            "grid_gap": null,
            "grid_row": null,
            "grid_template_areas": null,
            "grid_template_columns": null,
            "grid_template_rows": null,
            "height": null,
            "justify_content": null,
            "justify_items": null,
            "left": null,
            "margin": null,
            "max_height": null,
            "max_width": null,
            "min_height": null,
            "min_width": null,
            "object_fit": null,
            "object_position": null,
            "order": null,
            "overflow": null,
            "overflow_x": null,
            "overflow_y": null,
            "padding": null,
            "right": null,
            "top": null,
            "visibility": null,
            "width": null
          }
        },
        "17fac65af5a8463dacf6932e81521d4f": {
          "model_module": "@jupyter-widgets/controls",
          "model_name": "DescriptionStyleModel",
          "model_module_version": "1.5.0",
          "state": {
            "_model_module": "@jupyter-widgets/controls",
            "_model_module_version": "1.5.0",
            "_model_name": "DescriptionStyleModel",
            "_view_count": null,
            "_view_module": "@jupyter-widgets/base",
            "_view_module_version": "1.2.0",
            "_view_name": "StyleView",
            "description_width": ""
          }
        }
      }
    }
  },
  "cells": [
    {
      "cell_type": "markdown",
      "metadata": {
        "id": "view-in-github",
        "colab_type": "text"
      },
      "source": [
        "<a href=\"https://colab.research.google.com/github/PIRomanCod/DataSciense_HW/blob/main/HW_11_RNN_refactored%2Btransformers.ipynb\" target=\"_parent\"><img src=\"https://colab.research.google.com/assets/colab-badge.svg\" alt=\"Open In Colab\"/></a>"
      ]
    },
    {
      "cell_type": "markdown",
      "source": [
        "# В якості домашнього завдання вам пропонується створити рекурентну нейронну мережу за допомогою механізмів Keras, яка буде класифікувати рецензії із датасету imdb.\n",
        "\n",
        "На відміну від прикладу в модулі 9 ми використаємо рекурентну нейронну мережу. Поекспериментуйте з будовою мережі - RNN, LSTM, двостороння та глибока.\n",
        "\n",
        "Порівняйте результати та зробіть висновки."
      ],
      "metadata": {
        "id": "MjgQ2OgDWT2_"
      }
    },
    {
      "cell_type": "markdown",
      "source": [
        "## Імпорти"
      ],
      "metadata": {
        "id": "GFZ0W4BVWant"
      }
    },
    {
      "cell_type": "code",
      "execution_count": null,
      "metadata": {
        "colab": {
          "base_uri": "https://localhost:8080/"
        },
        "id": "V7rTd8rdWMam",
        "outputId": "fd924fc6-ef19-4f0a-cc5d-57d61698024c"
      },
      "outputs": [
        {
          "output_type": "stream",
          "name": "stdout",
          "text": [
            "Collecting wandb\n",
            "  Downloading wandb-0.15.8-py3-none-any.whl (2.1 MB)\n",
            "\u001b[2K     \u001b[90m━━━━━━━━━━━━━━━━━━━━━━━━━━━━━━━━━━━━━━━━\u001b[0m \u001b[32m2.1/2.1 MB\u001b[0m \u001b[31m9.7 MB/s\u001b[0m eta \u001b[36m0:00:00\u001b[0m\n",
            "\u001b[?25hRequirement already satisfied: Click!=8.0.0,>=7.1 in /usr/local/lib/python3.10/dist-packages (from wandb) (8.1.7)\n",
            "Collecting GitPython!=3.1.29,>=1.0.0 (from wandb)\n",
            "  Downloading GitPython-3.1.32-py3-none-any.whl (188 kB)\n",
            "\u001b[2K     \u001b[90m━━━━━━━━━━━━━━━━━━━━━━━━━━━━━━━━━━━━━━\u001b[0m \u001b[32m188.5/188.5 kB\u001b[0m \u001b[31m13.1 MB/s\u001b[0m eta \u001b[36m0:00:00\u001b[0m\n",
            "\u001b[?25hRequirement already satisfied: requests<3,>=2.0.0 in /usr/local/lib/python3.10/dist-packages (from wandb) (2.31.0)\n",
            "Requirement already satisfied: psutil>=5.0.0 in /usr/local/lib/python3.10/dist-packages (from wandb) (5.9.5)\n",
            "Collecting sentry-sdk>=1.0.0 (from wandb)\n",
            "  Downloading sentry_sdk-1.29.2-py2.py3-none-any.whl (215 kB)\n",
            "\u001b[2K     \u001b[90m━━━━━━━━━━━━━━━━━━━━━━━━━━━━━━━━━━━━━━\u001b[0m \u001b[32m215.6/215.6 kB\u001b[0m \u001b[31m10.2 MB/s\u001b[0m eta \u001b[36m0:00:00\u001b[0m\n",
            "\u001b[?25hCollecting docker-pycreds>=0.4.0 (from wandb)\n",
            "  Downloading docker_pycreds-0.4.0-py2.py3-none-any.whl (9.0 kB)\n",
            "Requirement already satisfied: PyYAML in /usr/local/lib/python3.10/dist-packages (from wandb) (6.0.1)\n",
            "Collecting pathtools (from wandb)\n",
            "  Downloading pathtools-0.1.2.tar.gz (11 kB)\n",
            "  Preparing metadata (setup.py) ... \u001b[?25l\u001b[?25hdone\n",
            "Collecting setproctitle (from wandb)\n",
            "  Downloading setproctitle-1.3.2-cp310-cp310-manylinux_2_5_x86_64.manylinux1_x86_64.manylinux_2_17_x86_64.manylinux2014_x86_64.whl (30 kB)\n",
            "Requirement already satisfied: setuptools in /usr/local/lib/python3.10/dist-packages (from wandb) (67.7.2)\n",
            "Requirement already satisfied: appdirs>=1.4.3 in /usr/local/lib/python3.10/dist-packages (from wandb) (1.4.4)\n",
            "Requirement already satisfied: protobuf!=4.21.0,<5,>=3.19.0 in /usr/local/lib/python3.10/dist-packages (from wandb) (3.20.3)\n",
            "Requirement already satisfied: six>=1.4.0 in /usr/local/lib/python3.10/dist-packages (from docker-pycreds>=0.4.0->wandb) (1.16.0)\n",
            "Collecting gitdb<5,>=4.0.1 (from GitPython!=3.1.29,>=1.0.0->wandb)\n",
            "  Downloading gitdb-4.0.10-py3-none-any.whl (62 kB)\n",
            "\u001b[2K     \u001b[90m━━━━━━━━━━━━━━━━━━━━━━━━━━━━━━━━━━━━━━━━\u001b[0m \u001b[32m62.7/62.7 kB\u001b[0m \u001b[31m7.9 MB/s\u001b[0m eta \u001b[36m0:00:00\u001b[0m\n",
            "\u001b[?25hRequirement already satisfied: charset-normalizer<4,>=2 in /usr/local/lib/python3.10/dist-packages (from requests<3,>=2.0.0->wandb) (3.2.0)\n",
            "Requirement already satisfied: idna<4,>=2.5 in /usr/local/lib/python3.10/dist-packages (from requests<3,>=2.0.0->wandb) (3.4)\n",
            "Requirement already satisfied: urllib3<3,>=1.21.1 in /usr/local/lib/python3.10/dist-packages (from requests<3,>=2.0.0->wandb) (2.0.4)\n",
            "Requirement already satisfied: certifi>=2017.4.17 in /usr/local/lib/python3.10/dist-packages (from requests<3,>=2.0.0->wandb) (2023.7.22)\n",
            "Collecting smmap<6,>=3.0.1 (from gitdb<5,>=4.0.1->GitPython!=3.1.29,>=1.0.0->wandb)\n",
            "  Downloading smmap-5.0.0-py3-none-any.whl (24 kB)\n",
            "Building wheels for collected packages: pathtools\n",
            "  Building wheel for pathtools (setup.py) ... \u001b[?25l\u001b[?25hdone\n",
            "  Created wheel for pathtools: filename=pathtools-0.1.2-py3-none-any.whl size=8791 sha256=2430eed56cd60b82020c564097fe6a3e3c329d45549790ec45ce249aa22c841f\n",
            "  Stored in directory: /root/.cache/pip/wheels/e7/f3/22/152153d6eb222ee7a56ff8617d80ee5207207a8c00a7aab794\n",
            "Successfully built pathtools\n",
            "Installing collected packages: pathtools, smmap, setproctitle, sentry-sdk, docker-pycreds, gitdb, GitPython, wandb\n",
            "Successfully installed GitPython-3.1.32 docker-pycreds-0.4.0 gitdb-4.0.10 pathtools-0.1.2 sentry-sdk-1.29.2 setproctitle-1.3.2 smmap-5.0.0 wandb-0.15.8\n"
          ]
        }
      ],
      "source": [
        "!pip install wandb"
      ]
    },
    {
      "cell_type": "code",
      "source": [
        "import os\n",
        "import random\n",
        "\n",
        "import numpy as np\n",
        "import pandas as pd\n",
        "import matplotlib.pyplot as plt\n",
        "import seaborn as sns\n",
        "import tensorflow as tf\n",
        "from keras.models import Sequential, Model\n",
        "from keras.layers import Dense, Dropout, Embedding, SimpleRNN, GRU, LSTM, Bidirectional\n",
        "from keras.datasets import imdb\n",
        "from keras.utils import pad_sequences\n",
        "from keras.callbacks import EarlyStopping, ModelCheckpoint\n",
        "from keras.optimizers import Adam, SGD\n",
        "from keras.metrics import Accuracy\n",
        "from keras.models import load_model\n",
        "\n",
        "from sklearn.metrics import confusion_matrix\n",
        "\n",
        "import wandb\n",
        "from wandb.keras import WandbMetricsLogger\n"
      ],
      "metadata": {
        "id": "kIGITsiwWgl3"
      },
      "execution_count": null,
      "outputs": []
    },
    {
      "cell_type": "markdown",
      "source": [
        "## Встановлення констант та налаштування"
      ],
      "metadata": {
        "id": "pzjHt9r2X0rZ"
      }
    },
    {
      "cell_type": "code",
      "source": [
        "max_features = 10000  # кількість слів, що розглядаються як особливості\n",
        "maxlen = 500  # обмеження кількості слів в тексті\n",
        "batch_size = 128\n",
        "n_epochs = 15\n",
        "lr = 0.001\n",
        "validation_split = 0.2"
      ],
      "metadata": {
        "id": "-gDx-fT9XRJc"
      },
      "execution_count": null,
      "outputs": []
    },
    {
      "cell_type": "code",
      "source": [
        "best_of_models = {}"
      ],
      "metadata": {
        "id": "zo25eeKYw5bA"
      },
      "execution_count": null,
      "outputs": []
    },
    {
      "cell_type": "code",
      "source": [
        "path = \"/content/drive/MyDrive/Colab_Notebooks/HW_11_data\""
      ],
      "metadata": {
        "id": "hsWIdUSMYygz"
      },
      "execution_count": null,
      "outputs": []
    },
    {
      "cell_type": "code",
      "source": [
        "def set_seed(seed_value):\n",
        "    random.seed(seed_value)\n",
        "    np.random.seed(seed_value)\n",
        "    tf.random.set_seed(seed_value)\n",
        "    os.environ[\"PYTHONHASHSEED\"] = str(seed_value)\n",
        "    os.environ[\"TF_DETERMINISTIC_OPS\"] = \"true\"\n",
        "\n",
        "\n",
        "set_seed(42)"
      ],
      "metadata": {
        "id": "TXXl4tf_XzfC"
      },
      "execution_count": null,
      "outputs": []
    },
    {
      "cell_type": "code",
      "source": [
        "(train_data, train_labels), (test_data, test_labels) = imdb.load_data(num_words=max_features)"
      ],
      "metadata": {
        "colab": {
          "base_uri": "https://localhost:8080/"
        },
        "id": "jMNavEjyXeCd",
        "outputId": "5cc2c1f4-9372-4313-faa9-12fdc5cbb47b"
      },
      "execution_count": null,
      "outputs": [
        {
          "output_type": "stream",
          "name": "stdout",
          "text": [
            "Downloading data from https://storage.googleapis.com/tensorflow/tf-keras-datasets/imdb.npz\n",
            "17464789/17464789 [==============================] - 0s 0us/step\n"
          ]
        }
      ]
    },
    {
      "cell_type": "code",
      "source": [
        "# Подивимося розміри наборів даних\n",
        "train_data.shape, train_labels.shape, test_data.shape, test_labels.shape"
      ],
      "metadata": {
        "colab": {
          "base_uri": "https://localhost:8080/"
        },
        "id": "vb0Ho1QSa3Cl",
        "outputId": "261da3a9-a8c6-40fc-88c6-0d97c53bdd55"
      },
      "execution_count": null,
      "outputs": [
        {
          "output_type": "execute_result",
          "data": {
            "text/plain": [
              "((25000,), (25000,), (25000,), (25000,))"
            ]
          },
          "metadata": {},
          "execution_count": 8
        }
      ]
    },
    {
      "cell_type": "code",
      "source": [
        "# Передпроцесинг послідовних даних:\n",
        "# Застосування заздалегідь обраної максимальної довжини до послідовних даних тренувального та тестового наборів\n",
        "\n",
        "input_train = pad_sequences(train_data, maxlen=maxlen)\n",
        "input_test = pad_sequences(test_data, maxlen=maxlen)"
      ],
      "metadata": {
        "id": "Z2E6ltAzXgjH"
      },
      "execution_count": null,
      "outputs": []
    },
    {
      "cell_type": "code",
      "source": [
        "# Ще раз подивимося на розміри ф'ючерів, що будуть подаватися до моделі\n",
        "input_train.shape, input_test.shape"
      ],
      "metadata": {
        "colab": {
          "base_uri": "https://localhost:8080/"
        },
        "id": "mbKzmC8rar_R",
        "outputId": "b42f71df-b928-440f-d777-fd643a736f88"
      },
      "execution_count": null,
      "outputs": [
        {
          "output_type": "execute_result",
          "data": {
            "text/plain": [
              "((25000, 500), (25000, 500))"
            ]
          },
          "metadata": {},
          "execution_count": 10
        }
      ]
    },
    {
      "cell_type": "markdown",
      "source": [
        "## Словник для трансформацій до людскої мови"
      ],
      "metadata": {
        "id": "m-4W3IKJYJZI"
      }
    },
    {
      "cell_type": "code",
      "source": [
        "word_index = imdb.get_word_index()"
      ],
      "metadata": {
        "colab": {
          "base_uri": "https://localhost:8080/"
        },
        "id": "n_doSK1EYUAv",
        "outputId": "9c2e7718-70c3-47ca-bd9e-48d0fd425187"
      },
      "execution_count": null,
      "outputs": [
        {
          "output_type": "stream",
          "name": "stdout",
          "text": [
            "Downloading data from https://storage.googleapis.com/tensorflow/tf-keras-datasets/imdb_word_index.json\n",
            "1641221/1641221 [==============================] - 0s 0us/step\n"
          ]
        }
      ]
    },
    {
      "cell_type": "markdown",
      "source": [
        "### Подивимося зразок даних, що будуть подані до мережі у оригінальному вигляді"
      ],
      "metadata": {
        "id": "tNLndVUUaCkX"
      }
    },
    {
      "cell_type": "code",
      "source": [
        "print(train_data[0])"
      ],
      "metadata": {
        "colab": {
          "base_uri": "https://localhost:8080/"
        },
        "id": "34i0npCrZxsW",
        "outputId": "8b57599d-62a1-4085-fc41-93a751c84c63"
      },
      "execution_count": null,
      "outputs": [
        {
          "output_type": "stream",
          "name": "stdout",
          "text": [
            "[1, 14, 22, 16, 43, 530, 973, 1622, 1385, 65, 458, 4468, 66, 3941, 4, 173, 36, 256, 5, 25, 100, 43, 838, 112, 50, 670, 2, 9, 35, 480, 284, 5, 150, 4, 172, 112, 167, 2, 336, 385, 39, 4, 172, 4536, 1111, 17, 546, 38, 13, 447, 4, 192, 50, 16, 6, 147, 2025, 19, 14, 22, 4, 1920, 4613, 469, 4, 22, 71, 87, 12, 16, 43, 530, 38, 76, 15, 13, 1247, 4, 22, 17, 515, 17, 12, 16, 626, 18, 2, 5, 62, 386, 12, 8, 316, 8, 106, 5, 4, 2223, 5244, 16, 480, 66, 3785, 33, 4, 130, 12, 16, 38, 619, 5, 25, 124, 51, 36, 135, 48, 25, 1415, 33, 6, 22, 12, 215, 28, 77, 52, 5, 14, 407, 16, 82, 2, 8, 4, 107, 117, 5952, 15, 256, 4, 2, 7, 3766, 5, 723, 36, 71, 43, 530, 476, 26, 400, 317, 46, 7, 4, 2, 1029, 13, 104, 88, 4, 381, 15, 297, 98, 32, 2071, 56, 26, 141, 6, 194, 7486, 18, 4, 226, 22, 21, 134, 476, 26, 480, 5, 144, 30, 5535, 18, 51, 36, 28, 224, 92, 25, 104, 4, 226, 65, 16, 38, 1334, 88, 12, 16, 283, 5, 16, 4472, 113, 103, 32, 15, 16, 5345, 19, 178, 32]\n"
          ]
        }
      ]
    },
    {
      "cell_type": "code",
      "source": [
        "word_index = imdb.get_word_index()\n",
        "reverse_word_index = {value: key for key, value in word_index.items()}"
      ],
      "metadata": {
        "id": "imj4aH27YU9c"
      },
      "execution_count": null,
      "outputs": []
    },
    {
      "cell_type": "markdown",
      "source": [
        "### А тепер у вигляді речення"
      ],
      "metadata": {
        "id": "Szk68X4EaQi5"
      }
    },
    {
      "cell_type": "code",
      "source": [
        "decoded_review = ' '.join([reverse_word_index.get(i - 3, '?') for i in train_data[0]])\n",
        "decoded_review"
      ],
      "metadata": {
        "colab": {
          "base_uri": "https://localhost:8080/",
          "height": 123
        },
        "id": "a3MxshFsYU0y",
        "outputId": "5c84931e-6457-4cee-faba-6c64d5cfdaa8"
      },
      "execution_count": null,
      "outputs": [
        {
          "output_type": "execute_result",
          "data": {
            "text/plain": [
              "\"? this film was just brilliant casting location scenery story direction everyone's really suited the part they played and you could just imagine being there robert ? is an amazing actor and now the same being director ? father came from the same scottish island as myself so i loved the fact there was a real connection with this film the witty remarks throughout the film were great it was just brilliant so much that i bought the film as soon as it was released for ? and would recommend it to everyone to watch and the fly fishing was amazing really cried at the end it was so sad and you know what they say if you cry at a film it must have been good and this definitely was also ? to the two little boy's that played the ? of norman and paul they were just brilliant children are often left out of the ? list i think because the stars that play them all grown up are such a big profile for the whole film but these children are amazing and should be praised for what they have done don't you think the whole story was so lovely because it was true and was someone's life after all that was shared with us all\""
            ],
            "application/vnd.google.colaboratory.intrinsic+json": {
              "type": "string"
            }
          },
          "metadata": {},
          "execution_count": 14
        }
      ]
    },
    {
      "cell_type": "markdown",
      "source": [
        "## Створимо 5 моделей та навчимо їх, збережемо результати та виберемо найкращу з них для подальшого використання"
      ],
      "metadata": {
        "id": "nDsOPqy0kPWA"
      }
    },
    {
      "cell_type": "code",
      "source": [
        "# Створення списку моделей та їх імен\n",
        "models = []\n",
        "model_names = ['SimpleRNN', 'RNN_GRU', 'RNN_LSTM', 'BRNN', 'Deep_BRNN']"
      ],
      "metadata": {
        "id": "TujhsceUj5w1"
      },
      "execution_count": null,
      "outputs": []
    },
    {
      "cell_type": "code",
      "source": [
        "# Створення та навчання моделей\n",
        "for model_name in model_names:\n",
        "    wandb.init(project=f\"HW_11_{model_name}\", config={\"lr\": lr, \"n_epochs\": n_epochs, \"batch_size\": batch_size})\n",
        "\n",
        "    model = Sequential()\n",
        "    model.add(Embedding(max_features, 32))\n",
        "\n",
        "    if model_name == 'SimpleRNN':\n",
        "        model.add(SimpleRNN(32))\n",
        "    elif model_name == 'RNN_GRU':\n",
        "        model.add(GRU(32))\n",
        "    elif model_name == 'RNN_LSTM':\n",
        "        model.add(LSTM(32))\n",
        "    elif model_name == 'BRNN':\n",
        "        model.add(Bidirectional(LSTM(32)))\n",
        "    elif model_name == 'Deep_BRNN':\n",
        "        model.add(Bidirectional(LSTM(32, return_sequences=True)))\n",
        "        model.add(Bidirectional(LSTM(32)))\n",
        "\n",
        "    model.add(Dense(1, activation='sigmoid'))\n",
        "\n",
        "    early_stopping_callback = EarlyStopping(monitor='val_accuracy', patience=5, mode='max', verbose=1)\n",
        "    model_checkpoint_callback = ModelCheckpoint(\n",
        "        path+f'/HW_11_best_model_{model_name}.h5',\n",
        "        monitor='val_accuracy',\n",
        "        mode='max',\n",
        "        save_best_only=True,\n",
        "        verbose=1\n",
        "    )\n",
        "    callbacks = [early_stopping_callback, model_checkpoint_callback, WandbMetricsLogger()]\n",
        "\n",
        "    model.compile(optimizer=Adam(learning_rate=lr), loss='binary_crossentropy', metrics=['accuracy'])\n",
        "    model.summary()\n",
        "\n",
        "    history = model.fit(\n",
        "        input_train, train_labels,\n",
        "        epochs=n_epochs,\n",
        "        batch_size=batch_size,\n",
        "        validation_split=validation_split,\n",
        "        callbacks=callbacks\n",
        "    )\n",
        "\n",
        "    best_model = load_model(path+f'/HW_11_best_model_{model_name}.h5')\n",
        "    test_loss, test_accuracy = best_model.evaluate(input_test, test_labels)\n",
        "    models.append(best_model)\n",
        "\n",
        "    plt.plot(history.history['accuracy'], label='Точність на тренуванні')\n",
        "    plt.plot(history.history['val_accuracy'], label='Точність на валідації')\n",
        "    plt.plot(history.history['loss'], label='Втрати на тренуванні')\n",
        "    plt.plot(history.history['val_loss'], label='Втрати на валідації')\n",
        "    plt.legend()\n",
        "    plt.show()\n",
        "\n",
        "    best_of_models.update({model_name: test_accuracy})\n",
        "\n",
        "    print(f\"Best model {model_name} - Loss: {test_loss:.4f}, Accuracy: {test_accuracy:.4f}\")\n"
      ],
      "metadata": {
        "colab": {
          "base_uri": "https://localhost:8080/",
          "height": 1000,
          "referenced_widgets": [
            "0fc3d0cc068647d7a60afd3ede46023d",
            "2ceb63c99e8541e682e43c724cc0df84",
            "b9324443efd64573be87404e1eaade8c",
            "12245f02455e49f78d8d72fef05d396b",
            "856fc55a20ca4ce3a5105ef6ba3dae2c",
            "29371e6f4587462e960358b738f704ba",
            "dff0d9e4d6b64c8f9bda06eb8abcc89e",
            "8191f3376c1545eba0ecb60be5e9c884",
            "3fbbb64fb8804596a82fcf7f9a1f412f",
            "f097b642ae3e4b2aa6eb4f014a084207",
            "17320ee9cd4947808791b2fe8091a42f",
            "477e03cf34764c6eafd1328be2fa2335",
            "17b791a698d74cb3966980f66ba16193",
            "f532d22a16d1464cb166deefdb35a2bf",
            "69878cef309441cd89186019546b73a6",
            "78716445560e4a9cbc112557e6db6093",
            "afd45a491df54d3b81b1a43d525562f5",
            "35a028acbdf64ec28f1e8e015ebba164",
            "40878fc5f9ff44ba85b01568495120ff",
            "bddcea84e3e0471d845ed3341be30d49",
            "79dcaef23feb4f50953dd52b8ec7a33f",
            "a89885a2f3174745b7dea23130f5bb48",
            "e4bd2c8582c14858a07c8828b0a270d9",
            "e403ca44fcfc4e2890cb482a8e277fe9"
          ]
        },
        "id": "RPuIoDG9j-9T",
        "outputId": "899d5090-90fd-4618-da65-8486afd0d2fe"
      },
      "execution_count": null,
      "outputs": [
        {
          "output_type": "display_data",
          "data": {
            "text/plain": [
              "<IPython.core.display.HTML object>"
            ],
            "text/html": [
              "Finishing last run (ID:8mnu8oe1) before initializing another..."
            ]
          },
          "metadata": {}
        },
        {
          "output_type": "display_data",
          "data": {
            "text/plain": [
              "<IPython.core.display.HTML object>"
            ],
            "text/html": [
              "Waiting for W&B process to finish... <strong style=\"color:green\">(success).</strong>"
            ]
          },
          "metadata": {}
        },
        {
          "output_type": "display_data",
          "data": {
            "text/plain": [
              "<IPython.core.display.HTML object>"
            ],
            "text/html": [
              " View run <strong style=\"color:#cdcd00\">golden-lake-3</strong> at: <a href='https://wandb.ai/4751413/HW_11_SimpleRNN/runs/8mnu8oe1' target=\"_blank\">https://wandb.ai/4751413/HW_11_SimpleRNN/runs/8mnu8oe1</a><br/>Synced 5 W&B file(s), 0 media file(s), 0 artifact file(s) and 0 other file(s)"
            ]
          },
          "metadata": {}
        },
        {
          "output_type": "display_data",
          "data": {
            "text/plain": [
              "<IPython.core.display.HTML object>"
            ],
            "text/html": [
              "Find logs at: <code>./wandb/run-20230824_133108-8mnu8oe1/logs</code>"
            ]
          },
          "metadata": {}
        },
        {
          "output_type": "display_data",
          "data": {
            "text/plain": [
              "<IPython.core.display.HTML object>"
            ],
            "text/html": [
              "Successfully finished last run (ID:8mnu8oe1). Initializing new run:<br/>"
            ]
          },
          "metadata": {}
        },
        {
          "output_type": "display_data",
          "data": {
            "text/plain": [
              "<IPython.core.display.HTML object>"
            ],
            "text/html": [
              "Tracking run with wandb version 0.15.8"
            ]
          },
          "metadata": {}
        },
        {
          "output_type": "display_data",
          "data": {
            "text/plain": [
              "<IPython.core.display.HTML object>"
            ],
            "text/html": [
              "Run data is saved locally in <code>/content/wandb/run-20230824_133136-5uilyez2</code>"
            ]
          },
          "metadata": {}
        },
        {
          "output_type": "display_data",
          "data": {
            "text/plain": [
              "<IPython.core.display.HTML object>"
            ],
            "text/html": [
              "Syncing run <strong><a href='https://wandb.ai/4751413/HW_11_SimpleRNN/runs/5uilyez2' target=\"_blank\">jolly-vortex-4</a></strong> to <a href='https://wandb.ai/4751413/HW_11_SimpleRNN' target=\"_blank\">Weights & Biases</a> (<a href='https://wandb.me/run' target=\"_blank\">docs</a>)<br/>"
            ]
          },
          "metadata": {}
        },
        {
          "output_type": "display_data",
          "data": {
            "text/plain": [
              "<IPython.core.display.HTML object>"
            ],
            "text/html": [
              " View project at <a href='https://wandb.ai/4751413/HW_11_SimpleRNN' target=\"_blank\">https://wandb.ai/4751413/HW_11_SimpleRNN</a>"
            ]
          },
          "metadata": {}
        },
        {
          "output_type": "display_data",
          "data": {
            "text/plain": [
              "<IPython.core.display.HTML object>"
            ],
            "text/html": [
              " View run at <a href='https://wandb.ai/4751413/HW_11_SimpleRNN/runs/5uilyez2' target=\"_blank\">https://wandb.ai/4751413/HW_11_SimpleRNN/runs/5uilyez2</a>"
            ]
          },
          "metadata": {}
        },
        {
          "output_type": "stream",
          "name": "stdout",
          "text": [
            "Model: \"sequential_7\"\n",
            "_________________________________________________________________\n",
            " Layer (type)                Output Shape              Param #   \n",
            "=================================================================\n",
            " embedding_7 (Embedding)     (None, None, 32)          320000    \n",
            "                                                                 \n",
            " simple_rnn_3 (SimpleRNN)    (None, 32)                2080      \n",
            "                                                                 \n",
            " dense_7 (Dense)             (None, 1)                 33        \n",
            "                                                                 \n",
            "=================================================================\n",
            "Total params: 322,113\n",
            "Trainable params: 322,113\n",
            "Non-trainable params: 0\n",
            "_________________________________________________________________\n",
            "Epoch 1/15\n",
            "157/157 [==============================] - ETA: 0s - loss: 0.5658 - accuracy: 0.7052\n",
            "Epoch 1: val_accuracy improved from -inf to 0.80800, saving model to /content/drive/MyDrive/Colab_Notebooks/HW_11_data/HW_11_best_model_SimpleRNN.h5\n",
            "157/157 [==============================] - 95s 599ms/step - loss: 0.5658 - accuracy: 0.7052 - val_loss: 0.4389 - val_accuracy: 0.8080\n",
            "Epoch 2/15\n",
            "157/157 [==============================] - ETA: 0s - loss: 0.3448 - accuracy: 0.8604\n",
            "Epoch 2: val_accuracy improved from 0.80800 to 0.84020, saving model to /content/drive/MyDrive/Colab_Notebooks/HW_11_data/HW_11_best_model_SimpleRNN.h5\n",
            "157/157 [==============================] - 86s 548ms/step - loss: 0.3448 - accuracy: 0.8604 - val_loss: 0.3809 - val_accuracy: 0.8402\n",
            "Epoch 3/15\n",
            "157/157 [==============================] - ETA: 0s - loss: 0.2434 - accuracy: 0.9086\n",
            "Epoch 3: val_accuracy improved from 0.84020 to 0.85900, saving model to /content/drive/MyDrive/Colab_Notebooks/HW_11_data/HW_11_best_model_SimpleRNN.h5\n",
            "157/157 [==============================] - 88s 564ms/step - loss: 0.2434 - accuracy: 0.9086 - val_loss: 0.3491 - val_accuracy: 0.8590\n",
            "Epoch 4/15\n",
            "157/157 [==============================] - ETA: 0s - loss: 0.1809 - accuracy: 0.9353\n",
            "Epoch 4: val_accuracy improved from 0.85900 to 0.86680, saving model to /content/drive/MyDrive/Colab_Notebooks/HW_11_data/HW_11_best_model_SimpleRNN.h5\n",
            "157/157 [==============================] - 87s 554ms/step - loss: 0.1809 - accuracy: 0.9353 - val_loss: 0.3514 - val_accuracy: 0.8668\n",
            "Epoch 5/15\n",
            "157/157 [==============================] - ETA: 0s - loss: 0.1329 - accuracy: 0.9548\n",
            "Epoch 5: val_accuracy did not improve from 0.86680\n",
            "157/157 [==============================] - 87s 555ms/step - loss: 0.1329 - accuracy: 0.9548 - val_loss: 0.3968 - val_accuracy: 0.8526\n",
            "Epoch 6/15\n",
            "157/157 [==============================] - ETA: 0s - loss: 0.0869 - accuracy: 0.9736\n",
            "Epoch 6: val_accuracy did not improve from 0.86680\n",
            "157/157 [==============================] - 88s 559ms/step - loss: 0.0869 - accuracy: 0.9736 - val_loss: 0.4444 - val_accuracy: 0.8334\n",
            "Epoch 7/15\n",
            "157/157 [==============================] - ETA: 0s - loss: 0.0555 - accuracy: 0.9834\n",
            "Epoch 7: val_accuracy did not improve from 0.86680\n",
            "157/157 [==============================] - 86s 551ms/step - loss: 0.0555 - accuracy: 0.9834 - val_loss: 0.4946 - val_accuracy: 0.8362\n",
            "Epoch 8/15\n",
            "157/157 [==============================] - ETA: 0s - loss: 0.0711 - accuracy: 0.9769\n",
            "Epoch 8: val_accuracy did not improve from 0.86680\n",
            "157/157 [==============================] - 85s 543ms/step - loss: 0.0711 - accuracy: 0.9769 - val_loss: 0.5245 - val_accuracy: 0.8226\n",
            "Epoch 9/15\n",
            "157/157 [==============================] - ETA: 0s - loss: 0.0337 - accuracy: 0.9916\n",
            "Epoch 9: val_accuracy did not improve from 0.86680\n",
            "157/157 [==============================] - 89s 568ms/step - loss: 0.0337 - accuracy: 0.9916 - val_loss: 0.6036 - val_accuracy: 0.8418\n",
            "Epoch 9: early stopping\n",
            "782/782 [==============================] - 35s 44ms/step - loss: 0.3723 - accuracy: 0.8547\n"
          ]
        },
        {
          "output_type": "display_data",
          "data": {
            "text/plain": [
              "<Figure size 640x480 with 1 Axes>"
            ],
            "image/png": "[encoded data removed]"
          },
          "metadata": {}
        },
        {
          "output_type": "stream",
          "name": "stdout",
          "text": [
            "Best model SimpleRNN - Loss: 0.3723, Accuracy: 0.8547\n"
          ]
        },
        {
          "output_type": "display_data",
          "data": {
            "text/plain": [
              "<IPython.core.display.HTML object>"
            ],
            "text/html": [
              "Finishing last run (ID:5uilyez2) before initializing another..."
            ]
          },
          "metadata": {}
        },
        {
          "output_type": "display_data",
          "data": {
            "text/plain": [
              "<IPython.core.display.HTML object>"
            ],
            "text/html": [
              "Waiting for W&B process to finish... <strong style=\"color:green\">(success).</strong>"
            ]
          },
          "metadata": {}
        },
        {
          "output_type": "display_data",
          "data": {
            "text/plain": [
              "VBox(children=(Label(value='0.001 MB of 0.001 MB uploaded (0.000 MB deduped)\\r'), FloatProgress(value=1.0, max…"
            ],
            "application/vnd.jupyter.widget-view+json": {
              "version_major": 2,
              "version_minor": 0,
              "model_id": "0fc3d0cc068647d7a60afd3ede46023d"
            }
          },
          "metadata": {}
        },
        {
          "output_type": "display_data",
          "data": {
            "text/plain": [
              "<IPython.core.display.HTML object>"
            ],
            "text/html": [
              "<style>\n",
              "    table.wandb td:nth-child(1) { padding: 0 10px; text-align: left ; width: auto;} td:nth-child(2) {text-align: left ; width: 100%}\n",
              "    .wandb-row { display: flex; flex-direction: row; flex-wrap: wrap; justify-content: flex-start; width: 100% }\n",
              "    .wandb-col { display: flex; flex-direction: column; flex-basis: 100%; flex: 1; padding: 10px; }\n",
              "    </style>\n",
              "<div class=\"wandb-row\"><div class=\"wandb-col\"><h3>Run history:</h3><br/><table class=\"wandb\"><tr><td>epoch/accuracy</td><td>▁▅▆▇▇████</td></tr><tr><td>epoch/epoch</td><td>▁▂▃▄▅▅▆▇█</td></tr><tr><td>epoch/learning_rate</td><td>▁▁▁▁▁▁▁▁▁</td></tr><tr><td>epoch/loss</td><td>█▅▄▃▂▂▁▁▁</td></tr><tr><td>epoch/val_accuracy</td><td>▁▅▇█▆▄▄▃▅</td></tr><tr><td>epoch/val_loss</td><td>▃▂▁▁▂▄▅▆█</td></tr></table><br/></div><div class=\"wandb-col\"><h3>Run summary:</h3><br/><table class=\"wandb\"><tr><td>epoch/accuracy</td><td>0.99155</td></tr><tr><td>epoch/epoch</td><td>8</td></tr><tr><td>epoch/learning_rate</td><td>0.001</td></tr><tr><td>epoch/loss</td><td>0.0337</td></tr><tr><td>epoch/val_accuracy</td><td>0.8418</td></tr><tr><td>epoch/val_loss</td><td>0.60356</td></tr></table><br/></div></div>"
            ]
          },
          "metadata": {}
        },
        {
          "output_type": "display_data",
          "data": {
            "text/plain": [
              "<IPython.core.display.HTML object>"
            ],
            "text/html": [
              " View run <strong style=\"color:#cdcd00\">jolly-vortex-4</strong> at: <a href='https://wandb.ai/4751413/HW_11_SimpleRNN/runs/5uilyez2' target=\"_blank\">https://wandb.ai/4751413/HW_11_SimpleRNN/runs/5uilyez2</a><br/>Synced 5 W&B file(s), 0 media file(s), 0 artifact file(s) and 0 other file(s)"
            ]
          },
          "metadata": {}
        },
        {
          "output_type": "display_data",
          "data": {
            "text/plain": [
              "<IPython.core.display.HTML object>"
            ],
            "text/html": [
              "Find logs at: <code>./wandb/run-20230824_133136-5uilyez2/logs</code>"
            ]
          },
          "metadata": {}
        },
        {
          "output_type": "display_data",
          "data": {
            "text/plain": [
              "<IPython.core.display.HTML object>"
            ],
            "text/html": [
              "Successfully finished last run (ID:5uilyez2). Initializing new run:<br/>"
            ]
          },
          "metadata": {}
        },
        {
          "output_type": "display_data",
          "data": {
            "text/plain": [
              "<IPython.core.display.HTML object>"
            ],
            "text/html": [
              "Tracking run with wandb version 0.15.8"
            ]
          },
          "metadata": {}
        },
        {
          "output_type": "display_data",
          "data": {
            "text/plain": [
              "<IPython.core.display.HTML object>"
            ],
            "text/html": [
              "Run data is saved locally in <code>/content/wandb/run-20230824_134536-p2pegkvh</code>"
            ]
          },
          "metadata": {}
        },
        {
          "output_type": "display_data",
          "data": {
            "text/plain": [
              "<IPython.core.display.HTML object>"
            ],
            "text/html": [
              "Syncing run <strong><a href='https://wandb.ai/4751413/HW_11_RNN_GRU/runs/p2pegkvh' target=\"_blank\">lucky-spaceship-4</a></strong> to <a href='https://wandb.ai/4751413/HW_11_RNN_GRU' target=\"_blank\">Weights & Biases</a> (<a href='https://wandb.me/run' target=\"_blank\">docs</a>)<br/>"
            ]
          },
          "metadata": {}
        },
        {
          "output_type": "display_data",
          "data": {
            "text/plain": [
              "<IPython.core.display.HTML object>"
            ],
            "text/html": [
              " View project at <a href='https://wandb.ai/4751413/HW_11_RNN_GRU' target=\"_blank\">https://wandb.ai/4751413/HW_11_RNN_GRU</a>"
            ]
          },
          "metadata": {}
        },
        {
          "output_type": "display_data",
          "data": {
            "text/plain": [
              "<IPython.core.display.HTML object>"
            ],
            "text/html": [
              " View run at <a href='https://wandb.ai/4751413/HW_11_RNN_GRU/runs/p2pegkvh' target=\"_blank\">https://wandb.ai/4751413/HW_11_RNN_GRU/runs/p2pegkvh</a>"
            ]
          },
          "metadata": {}
        },
        {
          "output_type": "stream",
          "name": "stdout",
          "text": [
            "Model: \"sequential_8\"\n",
            "_________________________________________________________________\n",
            " Layer (type)                Output Shape              Param #   \n",
            "=================================================================\n",
            " embedding_8 (Embedding)     (None, None, 32)          320000    \n",
            "                                                                 \n",
            " gru_1 (GRU)                 (None, 32)                6336      \n",
            "                                                                 \n",
            " dense_8 (Dense)             (None, 1)                 33        \n",
            "                                                                 \n",
            "=================================================================\n",
            "Total params: 326,369\n",
            "Trainable params: 326,369\n",
            "Non-trainable params: 0\n",
            "_________________________________________________________________\n",
            "Epoch 1/15\n",
            "157/157 [==============================] - ETA: 0s - loss: 0.5992 - accuracy: 0.6636\n",
            "Epoch 1: val_accuracy improved from -inf to 0.79020, saving model to /content/drive/MyDrive/Colab_Notebooks/HW_11_data/HW_11_best_model_RNN_GRU.h5\n",
            "157/157 [==============================] - 7s 29ms/step - loss: 0.5992 - accuracy: 0.6636 - val_loss: 0.4416 - val_accuracy: 0.7902\n",
            "Epoch 2/15\n",
            "156/157 [============================>.] - ETA: 0s - loss: 0.3172 - accuracy: 0.8676\n",
            "Epoch 2: val_accuracy improved from 0.79020 to 0.86020, saving model to /content/drive/MyDrive/Colab_Notebooks/HW_11_data/HW_11_best_model_RNN_GRU.h5\n",
            "157/157 [==============================] - 4s 24ms/step - loss: 0.3170 - accuracy: 0.8676 - val_loss: 0.3427 - val_accuracy: 0.8602\n",
            "Epoch 3/15\n",
            "155/157 [============================>.] - ETA: 0s - loss: 0.2175 - accuracy: 0.9168\n",
            "Epoch 3: val_accuracy improved from 0.86020 to 0.87160, saving model to /content/drive/MyDrive/Colab_Notebooks/HW_11_data/HW_11_best_model_RNN_GRU.h5\n",
            "157/157 [==============================] - 4s 25ms/step - loss: 0.2172 - accuracy: 0.9170 - val_loss: 0.3290 - val_accuracy: 0.8716\n",
            "Epoch 4/15\n",
            "155/157 [============================>.] - ETA: 0s - loss: 0.1663 - accuracy: 0.9411\n",
            "Epoch 4: val_accuracy did not improve from 0.87160\n",
            "157/157 [==============================] - 4s 27ms/step - loss: 0.1666 - accuracy: 0.9408 - val_loss: 0.3431 - val_accuracy: 0.8674\n",
            "Epoch 5/15\n",
            "157/157 [==============================] - ETA: 0s - loss: 0.1452 - accuracy: 0.9493\n",
            "Epoch 5: val_accuracy did not improve from 0.87160\n",
            "157/157 [==============================] - 4s 23ms/step - loss: 0.1452 - accuracy: 0.9493 - val_loss: 0.3838 - val_accuracy: 0.8690\n",
            "Epoch 6/15\n",
            "157/157 [==============================] - ETA: 0s - loss: 0.1328 - accuracy: 0.9543\n",
            "Epoch 6: val_accuracy did not improve from 0.87160\n",
            "157/157 [==============================] - 4s 23ms/step - loss: 0.1328 - accuracy: 0.9543 - val_loss: 0.4178 - val_accuracy: 0.8630\n",
            "Epoch 7/15\n",
            "156/157 [============================>.] - ETA: 0s - loss: 0.1045 - accuracy: 0.9657\n",
            "Epoch 7: val_accuracy did not improve from 0.87160\n",
            "157/157 [==============================] - 5s 29ms/step - loss: 0.1044 - accuracy: 0.9657 - val_loss: 0.4397 - val_accuracy: 0.8636\n",
            "Epoch 8/15\n",
            "155/157 [============================>.] - ETA: 0s - loss: 0.0862 - accuracy: 0.9725\n",
            "Epoch 8: val_accuracy did not improve from 0.87160\n",
            "157/157 [==============================] - 4s 23ms/step - loss: 0.0860 - accuracy: 0.9725 - val_loss: 0.4704 - val_accuracy: 0.8592\n",
            "Epoch 8: early stopping\n",
            "782/782 [==============================] - 6s 8ms/step - loss: 0.3383 - accuracy: 0.8662\n"
          ]
        },
        {
          "output_type": "display_data",
          "data": {
            "text/plain": [
              "<Figure size 640x480 with 1 Axes>"
            ],
            "image/png": "[encoded data removed]"
          },
          "metadata": {}
        },
        {
          "output_type": "stream",
          "name": "stdout",
          "text": [
            "Best model RNN_GRU - Loss: 0.3383, Accuracy: 0.8662\n"
          ]
        },
        {
          "output_type": "display_data",
          "data": {
            "text/plain": [
              "<IPython.core.display.HTML object>"
            ],
            "text/html": [
              "Finishing last run (ID:p2pegkvh) before initializing another..."
            ]
          },
          "metadata": {}
        },
        {
          "output_type": "display_data",
          "data": {
            "text/plain": [
              "<IPython.core.display.HTML object>"
            ],
            "text/html": [
              "Waiting for W&B process to finish... <strong style=\"color:green\">(success).</strong>"
            ]
          },
          "metadata": {}
        },
        {
          "output_type": "display_data",
          "data": {
            "text/plain": [
              "<IPython.core.display.HTML object>"
            ],
            "text/html": [
              "<style>\n",
              "    table.wandb td:nth-child(1) { padding: 0 10px; text-align: left ; width: auto;} td:nth-child(2) {text-align: left ; width: 100%}\n",
              "    .wandb-row { display: flex; flex-direction: row; flex-wrap: wrap; justify-content: flex-start; width: 100% }\n",
              "    .wandb-col { display: flex; flex-direction: column; flex-basis: 100%; flex: 1; padding: 10px; }\n",
              "    </style>\n",
              "<div class=\"wandb-row\"><div class=\"wandb-col\"><h3>Run history:</h3><br/><table class=\"wandb\"><tr><td>epoch/accuracy</td><td>▁▆▇▇▇███</td></tr><tr><td>epoch/epoch</td><td>▁▂▃▄▅▆▇█</td></tr><tr><td>epoch/learning_rate</td><td>▁▁▁▁▁▁▁▁</td></tr><tr><td>epoch/loss</td><td>█▄▃▂▂▂▁▁</td></tr><tr><td>epoch/val_accuracy</td><td>▁▇███▇▇▇</td></tr><tr><td>epoch/val_loss</td><td>▇▂▁▂▄▅▆█</td></tr></table><br/></div><div class=\"wandb-col\"><h3>Run summary:</h3><br/><table class=\"wandb\"><tr><td>epoch/accuracy</td><td>0.97255</td></tr><tr><td>epoch/epoch</td><td>7</td></tr><tr><td>epoch/learning_rate</td><td>0.001</td></tr><tr><td>epoch/loss</td><td>0.08603</td></tr><tr><td>epoch/val_accuracy</td><td>0.8592</td></tr><tr><td>epoch/val_loss</td><td>0.47044</td></tr></table><br/></div></div>"
            ]
          },
          "metadata": {}
        },
        {
          "output_type": "display_data",
          "data": {
            "text/plain": [
              "<IPython.core.display.HTML object>"
            ],
            "text/html": [
              " View run <strong style=\"color:#cdcd00\">lucky-spaceship-4</strong> at: <a href='https://wandb.ai/4751413/HW_11_RNN_GRU/runs/p2pegkvh' target=\"_blank\">https://wandb.ai/4751413/HW_11_RNN_GRU/runs/p2pegkvh</a><br/>Synced 5 W&B file(s), 0 media file(s), 0 artifact file(s) and 0 other file(s)"
            ]
          },
          "metadata": {}
        },
        {
          "output_type": "display_data",
          "data": {
            "text/plain": [
              "<IPython.core.display.HTML object>"
            ],
            "text/html": [
              "Find logs at: <code>./wandb/run-20230824_134536-p2pegkvh/logs</code>"
            ]
          },
          "metadata": {}
        },
        {
          "output_type": "display_data",
          "data": {
            "text/plain": [
              "<IPython.core.display.HTML object>"
            ],
            "text/html": [
              "Successfully finished last run (ID:p2pegkvh). Initializing new run:<br/>"
            ]
          },
          "metadata": {}
        },
        {
          "output_type": "display_data",
          "data": {
            "text/plain": [
              "<IPython.core.display.HTML object>"
            ],
            "text/html": [
              "Tracking run with wandb version 0.15.8"
            ]
          },
          "metadata": {}
        },
        {
          "output_type": "display_data",
          "data": {
            "text/plain": [
              "<IPython.core.display.HTML object>"
            ],
            "text/html": [
              "Run data is saved locally in <code>/content/wandb/run-20230824_134625-rd0ta3ks</code>"
            ]
          },
          "metadata": {}
        },
        {
          "output_type": "display_data",
          "data": {
            "text/plain": [
              "<IPython.core.display.HTML object>"
            ],
            "text/html": [
              "Syncing run <strong><a href='https://wandb.ai/4751413/HW_11_RNN_LSTM/runs/rd0ta3ks' target=\"_blank\">azure-mountain-4</a></strong> to <a href='https://wandb.ai/4751413/HW_11_RNN_LSTM' target=\"_blank\">Weights & Biases</a> (<a href='https://wandb.me/run' target=\"_blank\">docs</a>)<br/>"
            ]
          },
          "metadata": {}
        },
        {
          "output_type": "display_data",
          "data": {
            "text/plain": [
              "<IPython.core.display.HTML object>"
            ],
            "text/html": [
              " View project at <a href='https://wandb.ai/4751413/HW_11_RNN_LSTM' target=\"_blank\">https://wandb.ai/4751413/HW_11_RNN_LSTM</a>"
            ]
          },
          "metadata": {}
        },
        {
          "output_type": "display_data",
          "data": {
            "text/plain": [
              "<IPython.core.display.HTML object>"
            ],
            "text/html": [
              " View run at <a href='https://wandb.ai/4751413/HW_11_RNN_LSTM/runs/rd0ta3ks' target=\"_blank\">https://wandb.ai/4751413/HW_11_RNN_LSTM/runs/rd0ta3ks</a>"
            ]
          },
          "metadata": {}
        },
        {
          "output_type": "stream",
          "name": "stdout",
          "text": [
            "Model: \"sequential_9\"\n",
            "_________________________________________________________________\n",
            " Layer (type)                Output Shape              Param #   \n",
            "=================================================================\n",
            " embedding_9 (Embedding)     (None, None, 32)          320000    \n",
            "                                                                 \n",
            " lstm_4 (LSTM)               (None, 32)                8320      \n",
            "                                                                 \n",
            " dense_9 (Dense)             (None, 1)                 33        \n",
            "                                                                 \n",
            "=================================================================\n",
            "Total params: 328,353\n",
            "Trainable params: 328,353\n",
            "Non-trainable params: 0\n",
            "_________________________________________________________________\n",
            "Epoch 1/15\n",
            "156/157 [============================>.] - ETA: 0s - loss: 0.5270 - accuracy: 0.7330\n",
            "Epoch 1: val_accuracy improved from -inf to 0.86080, saving model to /content/drive/MyDrive/Colab_Notebooks/HW_11_data/HW_11_best_model_RNN_LSTM.h5\n",
            "157/157 [==============================] - 6s 30ms/step - loss: 0.5267 - accuracy: 0.7332 - val_loss: 0.3401 - val_accuracy: 0.8608\n",
            "Epoch 2/15\n",
            "156/157 [============================>.] - ETA: 0s - loss: 0.2682 - accuracy: 0.8961\n",
            "Epoch 2: val_accuracy improved from 0.86080 to 0.87880, saving model to /content/drive/MyDrive/Colab_Notebooks/HW_11_data/HW_11_best_model_RNN_LSTM.h5\n",
            "157/157 [==============================] - 5s 29ms/step - loss: 0.2681 - accuracy: 0.8960 - val_loss: 0.2964 - val_accuracy: 0.8788\n",
            "Epoch 3/15\n",
            "156/157 [============================>.] - ETA: 0s - loss: 0.1900 - accuracy: 0.9332\n",
            "Epoch 3: val_accuracy did not improve from 0.87880\n",
            "157/157 [==============================] - 4s 24ms/step - loss: 0.1900 - accuracy: 0.9332 - val_loss: 0.3170 - val_accuracy: 0.8764\n",
            "Epoch 4/15\n",
            "155/157 [============================>.] - ETA: 0s - loss: 0.1475 - accuracy: 0.9504\n",
            "Epoch 4: val_accuracy did not improve from 0.87880\n",
            "157/157 [==============================] - 4s 24ms/step - loss: 0.1479 - accuracy: 0.9503 - val_loss: 0.3120 - val_accuracy: 0.8746\n",
            "Epoch 5/15\n",
            "156/157 [============================>.] - ETA: 0s - loss: 0.1131 - accuracy: 0.9636\n",
            "Epoch 5: val_accuracy did not improve from 0.87880\n",
            "157/157 [==============================] - 5s 31ms/step - loss: 0.1129 - accuracy: 0.9636 - val_loss: 0.3877 - val_accuracy: 0.8752\n",
            "Epoch 6/15\n",
            "156/157 [============================>.] - ETA: 0s - loss: 0.0906 - accuracy: 0.9721\n",
            "Epoch 6: val_accuracy did not improve from 0.87880\n",
            "157/157 [==============================] - 4s 24ms/step - loss: 0.0906 - accuracy: 0.9721 - val_loss: 0.3931 - val_accuracy: 0.8736\n",
            "Epoch 7/15\n",
            "157/157 [==============================] - ETA: 0s - loss: 0.0809 - accuracy: 0.9747\n",
            "Epoch 7: val_accuracy did not improve from 0.87880\n",
            "157/157 [==============================] - 4s 24ms/step - loss: 0.0809 - accuracy: 0.9747 - val_loss: 0.4379 - val_accuracy: 0.8682\n",
            "Epoch 7: early stopping\n",
            "782/782 [==============================] - 8s 9ms/step - loss: 0.3044 - accuracy: 0.8702\n"
          ]
        },
        {
          "output_type": "display_data",
          "data": {
            "text/plain": [
              "<Figure size 640x480 with 1 Axes>"
            ],
            "image/png": "[encoded data removed]"
          },
          "metadata": {}
        },
        {
          "output_type": "stream",
          "name": "stdout",
          "text": [
            "Best model RNN_LSTM - Loss: 0.3044, Accuracy: 0.8702\n"
          ]
        },
        {
          "output_type": "display_data",
          "data": {
            "text/plain": [
              "<IPython.core.display.HTML object>"
            ],
            "text/html": [
              "Finishing last run (ID:rd0ta3ks) before initializing another..."
            ]
          },
          "metadata": {}
        },
        {
          "output_type": "display_data",
          "data": {
            "text/plain": [
              "<IPython.core.display.HTML object>"
            ],
            "text/html": [
              "Waiting for W&B process to finish... <strong style=\"color:green\">(success).</strong>"
            ]
          },
          "metadata": {}
        },
        {
          "output_type": "display_data",
          "data": {
            "text/plain": [
              "VBox(children=(Label(value='0.001 MB of 0.001 MB uploaded (0.000 MB deduped)\\r'), FloatProgress(value=1.0, max…"
            ],
            "application/vnd.jupyter.widget-view+json": {
              "version_major": 2,
              "version_minor": 0,
              "model_id": "3fbbb64fb8804596a82fcf7f9a1f412f"
            }
          },
          "metadata": {}
        },
        {
          "output_type": "display_data",
          "data": {
            "text/plain": [
              "<IPython.core.display.HTML object>"
            ],
            "text/html": [
              "<style>\n",
              "    table.wandb td:nth-child(1) { padding: 0 10px; text-align: left ; width: auto;} td:nth-child(2) {text-align: left ; width: 100%}\n",
              "    .wandb-row { display: flex; flex-direction: row; flex-wrap: wrap; justify-content: flex-start; width: 100% }\n",
              "    .wandb-col { display: flex; flex-direction: column; flex-basis: 100%; flex: 1; padding: 10px; }\n",
              "    </style>\n",
              "<div class=\"wandb-row\"><div class=\"wandb-col\"><h3>Run history:</h3><br/><table class=\"wandb\"><tr><td>epoch/accuracy</td><td>▁▆▇▇███</td></tr><tr><td>epoch/epoch</td><td>▁▂▃▅▆▇█</td></tr><tr><td>epoch/learning_rate</td><td>▁▁▁▁▁▁▁</td></tr><tr><td>epoch/loss</td><td>█▄▃▂▂▁▁</td></tr><tr><td>epoch/val_accuracy</td><td>▁█▇▆▇▆▄</td></tr><tr><td>epoch/val_loss</td><td>▃▁▂▂▆▆█</td></tr></table><br/></div><div class=\"wandb-col\"><h3>Run summary:</h3><br/><table class=\"wandb\"><tr><td>epoch/accuracy</td><td>0.97465</td></tr><tr><td>epoch/epoch</td><td>6</td></tr><tr><td>epoch/learning_rate</td><td>0.001</td></tr><tr><td>epoch/loss</td><td>0.08085</td></tr><tr><td>epoch/val_accuracy</td><td>0.8682</td></tr><tr><td>epoch/val_loss</td><td>0.4379</td></tr></table><br/></div></div>"
            ]
          },
          "metadata": {}
        },
        {
          "output_type": "display_data",
          "data": {
            "text/plain": [
              "<IPython.core.display.HTML object>"
            ],
            "text/html": [
              " View run <strong style=\"color:#cdcd00\">azure-mountain-4</strong> at: <a href='https://wandb.ai/4751413/HW_11_RNN_LSTM/runs/rd0ta3ks' target=\"_blank\">https://wandb.ai/4751413/HW_11_RNN_LSTM/runs/rd0ta3ks</a><br/>Synced 5 W&B file(s), 0 media file(s), 0 artifact file(s) and 0 other file(s)"
            ]
          },
          "metadata": {}
        },
        {
          "output_type": "display_data",
          "data": {
            "text/plain": [
              "<IPython.core.display.HTML object>"
            ],
            "text/html": [
              "Find logs at: <code>./wandb/run-20230824_134625-rd0ta3ks/logs</code>"
            ]
          },
          "metadata": {}
        },
        {
          "output_type": "display_data",
          "data": {
            "text/plain": [
              "<IPython.core.display.HTML object>"
            ],
            "text/html": [
              "Successfully finished last run (ID:rd0ta3ks). Initializing new run:<br/>"
            ]
          },
          "metadata": {}
        },
        {
          "output_type": "display_data",
          "data": {
            "text/plain": [
              "<IPython.core.display.HTML object>"
            ],
            "text/html": [
              "Tracking run with wandb version 0.15.8"
            ]
          },
          "metadata": {}
        },
        {
          "output_type": "display_data",
          "data": {
            "text/plain": [
              "<IPython.core.display.HTML object>"
            ],
            "text/html": [
              "Run data is saved locally in <code>/content/wandb/run-20230824_134721-qttddcgq</code>"
            ]
          },
          "metadata": {}
        },
        {
          "output_type": "display_data",
          "data": {
            "text/plain": [
              "<IPython.core.display.HTML object>"
            ],
            "text/html": [
              "Syncing run <strong><a href='https://wandb.ai/4751413/HW_11_BRNN/runs/qttddcgq' target=\"_blank\">snowy-waterfall-4</a></strong> to <a href='https://wandb.ai/4751413/HW_11_BRNN' target=\"_blank\">Weights & Biases</a> (<a href='https://wandb.me/run' target=\"_blank\">docs</a>)<br/>"
            ]
          },
          "metadata": {}
        },
        {
          "output_type": "display_data",
          "data": {
            "text/plain": [
              "<IPython.core.display.HTML object>"
            ],
            "text/html": [
              " View project at <a href='https://wandb.ai/4751413/HW_11_BRNN' target=\"_blank\">https://wandb.ai/4751413/HW_11_BRNN</a>"
            ]
          },
          "metadata": {}
        },
        {
          "output_type": "display_data",
          "data": {
            "text/plain": [
              "<IPython.core.display.HTML object>"
            ],
            "text/html": [
              " View run at <a href='https://wandb.ai/4751413/HW_11_BRNN/runs/qttddcgq' target=\"_blank\">https://wandb.ai/4751413/HW_11_BRNN/runs/qttddcgq</a>"
            ]
          },
          "metadata": {}
        },
        {
          "output_type": "stream",
          "name": "stdout",
          "text": [
            "Model: \"sequential_10\"\n",
            "_________________________________________________________________\n",
            " Layer (type)                Output Shape              Param #   \n",
            "=================================================================\n",
            " embedding_10 (Embedding)    (None, None, 32)          320000    \n",
            "                                                                 \n",
            " bidirectional_3 (Bidirectio  (None, 64)               16640     \n",
            " nal)                                                            \n",
            "                                                                 \n",
            " dense_10 (Dense)            (None, 1)                 65        \n",
            "                                                                 \n",
            "=================================================================\n",
            "Total params: 336,705\n",
            "Trainable params: 336,705\n",
            "Non-trainable params: 0\n",
            "_________________________________________________________________\n",
            "Epoch 1/15\n",
            "156/157 [============================>.] - ETA: 0s - loss: 0.5211 - accuracy: 0.7293\n",
            "Epoch 1: val_accuracy improved from -inf to 0.85000, saving model to /content/drive/MyDrive/Colab_Notebooks/HW_11_data/HW_11_best_model_BRNN.h5\n",
            "157/157 [==============================] - 11s 43ms/step - loss: 0.5208 - accuracy: 0.7296 - val_loss: 0.3658 - val_accuracy: 0.8500\n",
            "Epoch 2/15\n",
            "157/157 [==============================] - ETA: 0s - loss: 0.2729 - accuracy: 0.8953\n",
            "Epoch 2: val_accuracy did not improve from 0.85000\n",
            "157/157 [==============================] - 7s 43ms/step - loss: 0.2729 - accuracy: 0.8953 - val_loss: 0.3635 - val_accuracy: 0.8442\n",
            "Epoch 3/15\n",
            "157/157 [==============================] - ETA: 0s - loss: 0.1966 - accuracy: 0.9299\n",
            "Epoch 3: val_accuracy improved from 0.85000 to 0.87920, saving model to /content/drive/MyDrive/Colab_Notebooks/HW_11_data/HW_11_best_model_BRNN.h5\n",
            "157/157 [==============================] - 6s 37ms/step - loss: 0.1966 - accuracy: 0.9299 - val_loss: 0.2905 - val_accuracy: 0.8792\n",
            "Epoch 4/15\n",
            "157/157 [==============================] - ETA: 0s - loss: 0.1585 - accuracy: 0.9460\n",
            "Epoch 4: val_accuracy did not improve from 0.87920\n",
            "157/157 [==============================] - 7s 46ms/step - loss: 0.1585 - accuracy: 0.9460 - val_loss: 0.3183 - val_accuracy: 0.8782\n",
            "Epoch 5/15\n",
            "157/157 [==============================] - ETA: 0s - loss: 0.1165 - accuracy: 0.9628\n",
            "Epoch 5: val_accuracy improved from 0.87920 to 0.88500, saving model to /content/drive/MyDrive/Colab_Notebooks/HW_11_data/HW_11_best_model_BRNN.h5\n",
            "157/157 [==============================] - 6s 38ms/step - loss: 0.1165 - accuracy: 0.9628 - val_loss: 0.3523 - val_accuracy: 0.8850\n",
            "Epoch 6/15\n",
            "157/157 [==============================] - ETA: 0s - loss: 0.0971 - accuracy: 0.9703\n",
            "Epoch 6: val_accuracy did not improve from 0.88500\n",
            "157/157 [==============================] - 7s 45ms/step - loss: 0.0971 - accuracy: 0.9703 - val_loss: 0.3664 - val_accuracy: 0.8798\n",
            "Epoch 7/15\n",
            "156/157 [============================>.] - ETA: 0s - loss: 0.0783 - accuracy: 0.9772\n",
            "Epoch 7: val_accuracy did not improve from 0.88500\n",
            "157/157 [==============================] - 6s 39ms/step - loss: 0.0783 - accuracy: 0.9772 - val_loss: 0.4103 - val_accuracy: 0.8758\n",
            "Epoch 8/15\n",
            "157/157 [==============================] - ETA: 0s - loss: 0.0611 - accuracy: 0.9831\n",
            "Epoch 8: val_accuracy did not improve from 0.88500\n",
            "157/157 [==============================] - 6s 41ms/step - loss: 0.0611 - accuracy: 0.9831 - val_loss: 0.4619 - val_accuracy: 0.8754\n",
            "Epoch 9/15\n",
            "157/157 [==============================] - ETA: 0s - loss: 0.0621 - accuracy: 0.9815\n",
            "Epoch 9: val_accuracy did not improve from 0.88500\n",
            "157/157 [==============================] - 6s 38ms/step - loss: 0.0621 - accuracy: 0.9815 - val_loss: 0.4539 - val_accuracy: 0.8696\n",
            "Epoch 10/15\n",
            "156/157 [============================>.] - ETA: 0s - loss: 0.0560 - accuracy: 0.9827\n",
            "Epoch 10: val_accuracy did not improve from 0.88500\n",
            "157/157 [==============================] - 7s 44ms/step - loss: 0.0559 - accuracy: 0.9827 - val_loss: 0.4955 - val_accuracy: 0.8462\n",
            "Epoch 10: early stopping\n",
            "782/782 [==============================] - 12s 15ms/step - loss: 0.3969 - accuracy: 0.8650\n"
          ]
        },
        {
          "output_type": "display_data",
          "data": {
            "text/plain": [
              "<Figure size 640x480 with 1 Axes>"
            ],
            "image/png": "[encoded data removed]"
          },
          "metadata": {}
        },
        {
          "output_type": "stream",
          "name": "stdout",
          "text": [
            "Best model BRNN - Loss: 0.3969, Accuracy: 0.8650\n"
          ]
        },
        {
          "output_type": "display_data",
          "data": {
            "text/plain": [
              "<IPython.core.display.HTML object>"
            ],
            "text/html": [
              "Finishing last run (ID:qttddcgq) before initializing another..."
            ]
          },
          "metadata": {}
        },
        {
          "output_type": "display_data",
          "data": {
            "text/plain": [
              "<IPython.core.display.HTML object>"
            ],
            "text/html": [
              "Waiting for W&B process to finish... <strong style=\"color:green\">(success).</strong>"
            ]
          },
          "metadata": {}
        },
        {
          "output_type": "display_data",
          "data": {
            "text/plain": [
              "VBox(children=(Label(value='0.001 MB of 0.013 MB uploaded (0.000 MB deduped)\\r'), FloatProgress(value=0.086334…"
            ],
            "application/vnd.jupyter.widget-view+json": {
              "version_major": 2,
              "version_minor": 0,
              "model_id": "afd45a491df54d3b81b1a43d525562f5"
            }
          },
          "metadata": {}
        },
        {
          "output_type": "display_data",
          "data": {
            "text/plain": [
              "<IPython.core.display.HTML object>"
            ],
            "text/html": [
              "<style>\n",
              "    table.wandb td:nth-child(1) { padding: 0 10px; text-align: left ; width: auto;} td:nth-child(2) {text-align: left ; width: 100%}\n",
              "    .wandb-row { display: flex; flex-direction: row; flex-wrap: wrap; justify-content: flex-start; width: 100% }\n",
              "    .wandb-col { display: flex; flex-direction: column; flex-basis: 100%; flex: 1; padding: 10px; }\n",
              "    </style>\n",
              "<div class=\"wandb-row\"><div class=\"wandb-col\"><h3>Run history:</h3><br/><table class=\"wandb\"><tr><td>epoch/accuracy</td><td>▁▆▇▇▇█████</td></tr><tr><td>epoch/epoch</td><td>▁▂▃▃▄▅▆▆▇█</td></tr><tr><td>epoch/learning_rate</td><td>▁▁▁▁▁▁▁▁▁▁</td></tr><tr><td>epoch/loss</td><td>█▄▃▃▂▂▁▁▁▁</td></tr><tr><td>epoch/val_accuracy</td><td>▂▁▇▇█▇▆▆▅▁</td></tr><tr><td>epoch/val_loss</td><td>▄▃▁▂▃▄▅▇▇█</td></tr></table><br/></div><div class=\"wandb-col\"><h3>Run summary:</h3><br/><table class=\"wandb\"><tr><td>epoch/accuracy</td><td>0.9827</td></tr><tr><td>epoch/epoch</td><td>9</td></tr><tr><td>epoch/learning_rate</td><td>0.001</td></tr><tr><td>epoch/loss</td><td>0.05592</td></tr><tr><td>epoch/val_accuracy</td><td>0.8462</td></tr><tr><td>epoch/val_loss</td><td>0.4955</td></tr></table><br/></div></div>"
            ]
          },
          "metadata": {}
        },
        {
          "output_type": "display_data",
          "data": {
            "text/plain": [
              "<IPython.core.display.HTML object>"
            ],
            "text/html": [
              " View run <strong style=\"color:#cdcd00\">snowy-waterfall-4</strong> at: <a href='https://wandb.ai/4751413/HW_11_BRNN/runs/qttddcgq' target=\"_blank\">https://wandb.ai/4751413/HW_11_BRNN/runs/qttddcgq</a><br/>Synced 5 W&B file(s), 0 media file(s), 0 artifact file(s) and 0 other file(s)"
            ]
          },
          "metadata": {}
        },
        {
          "output_type": "display_data",
          "data": {
            "text/plain": [
              "<IPython.core.display.HTML object>"
            ],
            "text/html": [
              "Find logs at: <code>./wandb/run-20230824_134721-qttddcgq/logs</code>"
            ]
          },
          "metadata": {}
        },
        {
          "output_type": "display_data",
          "data": {
            "text/plain": [
              "<IPython.core.display.HTML object>"
            ],
            "text/html": [
              "Successfully finished last run (ID:qttddcgq). Initializing new run:<br/>"
            ]
          },
          "metadata": {}
        },
        {
          "output_type": "display_data",
          "data": {
            "text/plain": [
              "<IPython.core.display.HTML object>"
            ],
            "text/html": [
              "Tracking run with wandb version 0.15.8"
            ]
          },
          "metadata": {}
        },
        {
          "output_type": "display_data",
          "data": {
            "text/plain": [
              "<IPython.core.display.HTML object>"
            ],
            "text/html": [
              "Run data is saved locally in <code>/content/wandb/run-20230824_134916-wclx6y35</code>"
            ]
          },
          "metadata": {}
        },
        {
          "output_type": "display_data",
          "data": {
            "text/plain": [
              "<IPython.core.display.HTML object>"
            ],
            "text/html": [
              "Syncing run <strong><a href='https://wandb.ai/4751413/HW_11_Deep_BRNN/runs/wclx6y35' target=\"_blank\">efficient-dust-4</a></strong> to <a href='https://wandb.ai/4751413/HW_11_Deep_BRNN' target=\"_blank\">Weights & Biases</a> (<a href='https://wandb.me/run' target=\"_blank\">docs</a>)<br/>"
            ]
          },
          "metadata": {}
        },
        {
          "output_type": "display_data",
          "data": {
            "text/plain": [
              "<IPython.core.display.HTML object>"
            ],
            "text/html": [
              " View project at <a href='https://wandb.ai/4751413/HW_11_Deep_BRNN' target=\"_blank\">https://wandb.ai/4751413/HW_11_Deep_BRNN</a>"
            ]
          },
          "metadata": {}
        },
        {
          "output_type": "display_data",
          "data": {
            "text/plain": [
              "<IPython.core.display.HTML object>"
            ],
            "text/html": [
              " View run at <a href='https://wandb.ai/4751413/HW_11_Deep_BRNN/runs/wclx6y35' target=\"_blank\">https://wandb.ai/4751413/HW_11_Deep_BRNN/runs/wclx6y35</a>"
            ]
          },
          "metadata": {}
        },
        {
          "output_type": "stream",
          "name": "stdout",
          "text": [
            "Model: \"sequential_11\"\n",
            "_________________________________________________________________\n",
            " Layer (type)                Output Shape              Param #   \n",
            "=================================================================\n",
            " embedding_11 (Embedding)    (None, None, 32)          320000    \n",
            "                                                                 \n",
            " bidirectional_4 (Bidirectio  (None, None, 64)         16640     \n",
            " nal)                                                            \n",
            "                                                                 \n",
            " bidirectional_5 (Bidirectio  (None, 64)               24832     \n",
            " nal)                                                            \n",
            "                                                                 \n",
            " dense_11 (Dense)            (None, 1)                 65        \n",
            "                                                                 \n",
            "=================================================================\n",
            "Total params: 361,537\n",
            "Trainable params: 361,537\n",
            "Non-trainable params: 0\n",
            "_________________________________________________________________\n",
            "Epoch 1/15\n",
            "157/157 [==============================] - ETA: 0s - loss: 0.4904 - accuracy: 0.7390\n",
            "Epoch 1: val_accuracy improved from -inf to 0.86100, saving model to /content/drive/MyDrive/Colab_Notebooks/HW_11_data/HW_11_best_model_Deep_BRNN.h5\n",
            "157/157 [==============================] - 20s 86ms/step - loss: 0.4904 - accuracy: 0.7390 - val_loss: 0.3310 - val_accuracy: 0.8610\n",
            "Epoch 2/15\n",
            "157/157 [==============================] - ETA: 0s - loss: 0.2329 - accuracy: 0.9112\n",
            "Epoch 2: val_accuracy improved from 0.86100 to 0.88000, saving model to /content/drive/MyDrive/Colab_Notebooks/HW_11_data/HW_11_best_model_Deep_BRNN.h5\n",
            "157/157 [==============================] - 12s 75ms/step - loss: 0.2329 - accuracy: 0.9112 - val_loss: 0.2896 - val_accuracy: 0.8800\n",
            "Epoch 3/15\n",
            "157/157 [==============================] - ETA: 0s - loss: 0.1497 - accuracy: 0.9473\n",
            "Epoch 3: val_accuracy did not improve from 0.88000\n",
            "157/157 [==============================] - 11s 71ms/step - loss: 0.1497 - accuracy: 0.9473 - val_loss: 0.3639 - val_accuracy: 0.8572\n",
            "Epoch 4/15\n",
            "157/157 [==============================] - ETA: 0s - loss: 0.1060 - accuracy: 0.9664\n",
            "Epoch 4: val_accuracy did not improve from 0.88000\n",
            "157/157 [==============================] - 11s 73ms/step - loss: 0.1060 - accuracy: 0.9664 - val_loss: 0.4157 - val_accuracy: 0.8704\n",
            "Epoch 5/15\n",
            "157/157 [==============================] - ETA: 0s - loss: 0.0779 - accuracy: 0.9772\n",
            "Epoch 5: val_accuracy did not improve from 0.88000\n",
            "157/157 [==============================] - 12s 75ms/step - loss: 0.0779 - accuracy: 0.9772 - val_loss: 0.4636 - val_accuracy: 0.8596\n",
            "Epoch 6/15\n",
            "157/157 [==============================] - ETA: 0s - loss: 0.0624 - accuracy: 0.9818\n",
            "Epoch 6: val_accuracy did not improve from 0.88000\n",
            "157/157 [==============================] - 11s 72ms/step - loss: 0.0624 - accuracy: 0.9818 - val_loss: 0.4760 - val_accuracy: 0.8628\n",
            "Epoch 7/15\n",
            "157/157 [==============================] - ETA: 0s - loss: 0.0547 - accuracy: 0.9848\n",
            "Epoch 7: val_accuracy did not improve from 0.88000\n",
            "157/157 [==============================] - 11s 72ms/step - loss: 0.0547 - accuracy: 0.9848 - val_loss: 0.6057 - val_accuracy: 0.8536\n",
            "Epoch 7: early stopping\n",
            "782/782 [==============================] - 22s 26ms/step - loss: 0.3023 - accuracy: 0.8724\n"
          ]
        },
        {
          "output_type": "display_data",
          "data": {
            "text/plain": [
              "<Figure size 640x480 with 1 Axes>"
            ],
            "image/png": "[encoded data removed]"
          },
          "metadata": {}
        },
        {
          "output_type": "stream",
          "name": "stdout",
          "text": [
            "Best model Deep_BRNN - Loss: 0.3023, Accuracy: 0.8724\n"
          ]
        }
      ]
    },
    {
      "cell_type": "markdown",
      "source": [
        "## Висновок для рекурентних мереж\n",
        "\n"
      ],
      "metadata": {
        "id": "fJyG7iJlmUBj"
      }
    },
    {
      "cell_type": "code",
      "source": [
        "print(\"Результати тестів всіх побудованих моделей\")\n",
        "for item in best_of_models.items():\n",
        "  print(item)"
      ],
      "metadata": {
        "colab": {
          "base_uri": "https://localhost:8080/"
        },
        "id": "mFFMzPXivsDP",
        "outputId": "d25f9211-a444-483f-f311-309b51e165b7"
      },
      "execution_count": null,
      "outputs": [
        {
          "output_type": "stream",
          "name": "stdout",
          "text": [
            "Результати тестів всіх побудованих моделей\n",
            "('SimpleRNN', 0.8547199964523315)\n",
            "('RNN_GRU', 0.8661999702453613)\n",
            "('RNN_LSTM', 0.870199978351593)\n",
            "('BRNN', 0.8650000095367432)\n",
            "('Deep_BRNN', 0.8723999857902527)\n"
          ]
        }
      ]
    },
    {
      "cell_type": "markdown",
      "source": [
        "## Спробуємо тест на реальних зразках"
      ],
      "metadata": {
        "id": "piWoviKClnfX"
      }
    },
    {
      "cell_type": "code",
      "source": [
        "# Список нових відгуків для перевірки\n",
        "new_reviews = [\n",
        "    \"this movie was absolutely amazing!\",\n",
        "    \"i didn't like this film at all. worst movie!\",\n",
        "    \"the acting and storyline were both fantastic.\",\n",
        "    \"terrible movie, waste of time.\",\n",
        "    \"a must-watch for all movie lovers!\",\n",
        "    \"I was blown away by how good this movie was.\",\n",
        "    \"The direction and storytelling were not top-notch. waste\",\n",
        "    \"This movie was more all my expectations. The performances were outstanding\",\n",
        "    \"full lie\",\n",
        "]\n",
        "\n",
        "# Мітки для нових відгуків\n",
        "labels = [1, 0, 1, 0, 1, 1, 0, 1, 0]\n"
      ],
      "metadata": {
        "id": "nC_8p7lPmkUY"
      },
      "execution_count": null,
      "outputs": []
    },
    {
      "cell_type": "code",
      "source": [
        "\n",
        "# Токенізація та векторизація нових відгуків\n",
        "new_reviews_tokenized = [[word_index.get(word, -2) + 3 for word in review.split(\" \")] for review in new_reviews]\n",
        "new_reviews_vector = pad_sequences(new_reviews_tokenized, maxlen=maxlen)\n",
        "\n",
        "# Перевірка кожної моделі на нових відгуках\n",
        "for model, model_name in zip(models, model_names):\n",
        "    results = model.predict(new_reviews_vector)\n",
        "    binary_results = [1 if result > 0.5 else 0 for result in results]\n",
        "    correct_predictions = sum([1 for predicted, actual in zip(binary_results, labels) if predicted == actual])\n",
        "\n",
        "    print(f\"Results for {model_name}:\")\n",
        "    for review, binary_result in zip(new_reviews, binary_results):\n",
        "        print(f\"Review: '{review}' - Binary Result: {binary_result}\")\n",
        "\n",
        "    print(f\"Correct predictions: {correct_predictions} out of {len(new_reviews)}\\n\")\n",
        "\n",
        "    # Побудова матриці плутанини та її візуалізація\n",
        "    confusion_mat = confusion_matrix(labels, binary_results)\n",
        "    sns.set(font_scale=1.2)\n",
        "    sns.heatmap(confusion_mat, annot=True, fmt=\"d\", cmap=\"Oranges\", linewidths=1, linecolor=\"black\",\n",
        "                xticklabels=[\"Predicted Negative\", \"Predicted Positive\"],\n",
        "                yticklabels=[\"Actual Negative\", \"Actual Positive\"])\n",
        "    plt.xlabel(\"Predicted\")\n",
        "    plt.ylabel(\"Actual\")\n",
        "    plt.title(f\"Confusion Matrix - {model_name}\")\n",
        "    plt.show()"
      ],
      "metadata": {
        "id": "poJE1tTkiyKX"
      },
      "execution_count": null,
      "outputs": []
    },
    {
      "cell_type": "code",
      "source": [
        "# Закінчення відправки даних до Weights & Biases\n",
        "wandb.finish()"
      ],
      "metadata": {
        "colab": {
          "base_uri": "https://localhost:8080/",
          "height": 309
        },
        "id": "Bbi8KH_Zmo-B",
        "outputId": "f7c1f060-fb59-4bb3-da66-c2d444c79ff3"
      },
      "execution_count": null,
      "outputs": [
        {
          "output_type": "display_data",
          "data": {
            "text/plain": [
              "<IPython.core.display.HTML object>"
            ],
            "text/html": [
              "Waiting for W&B process to finish... <strong style=\"color:green\">(success).</strong>"
            ]
          },
          "metadata": {}
        },
        {
          "output_type": "display_data",
          "data": {
            "text/plain": [
              "<IPython.core.display.HTML object>"
            ],
            "text/html": [
              "<style>\n",
              "    table.wandb td:nth-child(1) { padding: 0 10px; text-align: left ; width: auto;} td:nth-child(2) {text-align: left ; width: 100%}\n",
              "    .wandb-row { display: flex; flex-direction: row; flex-wrap: wrap; justify-content: flex-start; width: 100% }\n",
              "    .wandb-col { display: flex; flex-direction: column; flex-basis: 100%; flex: 1; padding: 10px; }\n",
              "    </style>\n",
              "<div class=\"wandb-row\"><div class=\"wandb-col\"><h3>Run history:</h3><br/><table class=\"wandb\"><tr><td>epoch/accuracy</td><td>▁▅▇▇████</td></tr><tr><td>epoch/epoch</td><td>▁▂▃▄▅▆▇█</td></tr><tr><td>epoch/learning_rate</td><td>▁▁▁▁▁▁▁▁</td></tr><tr><td>epoch/loss</td><td>█▅▃▂▂▁▁▁</td></tr><tr><td>epoch/val_accuracy</td><td>▁▆█▇▇▇▇▇</td></tr><tr><td>epoch/val_loss</td><td>▄▂▁▃▄▆▆█</td></tr></table><br/></div><div class=\"wandb-col\"><h3>Run summary:</h3><br/><table class=\"wandb\"><tr><td>epoch/accuracy</td><td>0.98634</td></tr><tr><td>epoch/epoch</td><td>7</td></tr><tr><td>epoch/learning_rate</td><td>0.001</td></tr><tr><td>epoch/loss</td><td>0.05372</td></tr><tr><td>epoch/val_accuracy</td><td>0.868</td></tr><tr><td>epoch/val_loss</td><td>0.52779</td></tr></table><br/></div></div>"
            ]
          },
          "metadata": {}
        },
        {
          "output_type": "display_data",
          "data": {
            "text/plain": [
              "<IPython.core.display.HTML object>"
            ],
            "text/html": [
              " View run <strong style=\"color:#cdcd00\">confused-leaf-3</strong> at: <a href='https://wandb.ai/4751413/HW_11_Deep_BRNN/runs/dmcfi9lo' target=\"_blank\">https://wandb.ai/4751413/HW_11_Deep_BRNN/runs/dmcfi9lo</a><br/>Synced 5 W&B file(s), 0 media file(s), 0 artifact file(s) and 0 other file(s)"
            ]
          },
          "metadata": {}
        },
        {
          "output_type": "display_data",
          "data": {
            "text/plain": [
              "<IPython.core.display.HTML object>"
            ],
            "text/html": [
              "Find logs at: <code>./wandb/run-20230824_130323-dmcfi9lo/logs</code>"
            ]
          },
          "metadata": {}
        }
      ]
    },
    {
      "cell_type": "markdown",
      "source": [
        "## Після висновку - на нових сгенерованих відгуках тільки RNN_GRU (9 із 9), Deep_BRNN (8 із 9) та BRNN (7 із 9) показали результативність, інші дуже заоверфітилися"
      ],
      "metadata": {
        "id": "Z58GhUBpbuwP"
      }
    },
    {
      "cell_type": "markdown",
      "source": [
        "#  Спробуємо використати трансформери для вирішення задачі"
      ],
      "metadata": {
        "id": "gzh0ToDc_uRU"
      }
    },
    {
      "cell_type": "code",
      "source": [
        "!pip install transformers"
      ],
      "metadata": {
        "colab": {
          "base_uri": "https://localhost:8080/"
        },
        "id": "B__oYe1w_ukF",
        "outputId": "6646f060-527f-447c-d8aa-67004da93825"
      },
      "execution_count": null,
      "outputs": [
        {
          "output_type": "stream",
          "name": "stdout",
          "text": [
            "Collecting transformers\n",
            "  Downloading transformers-4.32.0-py3-none-any.whl (7.5 MB)\n",
            "\u001b[2K     \u001b[90m━━━━━━━━━━━━━━━━━━━━━━━━━━━━━━━━━━━━━━━━\u001b[0m \u001b[32m7.5/7.5 MB\u001b[0m \u001b[31m20.4 MB/s\u001b[0m eta \u001b[36m0:00:00\u001b[0m\n",
            "\u001b[?25hRequirement already satisfied: filelock in /usr/local/lib/python3.10/dist-packages (from transformers) (3.12.2)\n",
            "Collecting huggingface-hub<1.0,>=0.15.1 (from transformers)\n",
            "  Downloading huggingface_hub-0.16.4-py3-none-any.whl (268 kB)\n",
            "\u001b[2K     \u001b[90m━━━━━━━━━━━━━━━━━━━━━━━━━━━━━━━━━━━━━━\u001b[0m \u001b[32m268.8/268.8 kB\u001b[0m \u001b[31m25.9 MB/s\u001b[0m eta \u001b[36m0:00:00\u001b[0m\n",
            "\u001b[?25hRequirement already satisfied: numpy>=1.17 in /usr/local/lib/python3.10/dist-packages (from transformers) (1.23.5)\n",
            "Requirement already satisfied: packaging>=20.0 in /usr/local/lib/python3.10/dist-packages (from transformers) (23.1)\n",
            "Requirement already satisfied: pyyaml>=5.1 in /usr/local/lib/python3.10/dist-packages (from transformers) (6.0.1)\n",
            "Requirement already satisfied: regex!=2019.12.17 in /usr/local/lib/python3.10/dist-packages (from transformers) (2023.6.3)\n",
            "Requirement already satisfied: requests in /usr/local/lib/python3.10/dist-packages (from transformers) (2.31.0)\n",
            "Collecting tokenizers!=0.11.3,<0.14,>=0.11.1 (from transformers)\n",
            "  Downloading tokenizers-0.13.3-cp310-cp310-manylinux_2_17_x86_64.manylinux2014_x86_64.whl (7.8 MB)\n",
            "\u001b[2K     \u001b[90m━━━━━━━━━━━━━━━━━━━━━━━━━━━━━━━━━━━━━━━━\u001b[0m \u001b[32m7.8/7.8 MB\u001b[0m \u001b[31m42.1 MB/s\u001b[0m eta \u001b[36m0:00:00\u001b[0m\n",
            "\u001b[?25hCollecting safetensors>=0.3.1 (from transformers)\n",
            "  Downloading safetensors-0.3.3-cp310-cp310-manylinux_2_17_x86_64.manylinux2014_x86_64.whl (1.3 MB)\n",
            "\u001b[2K     \u001b[90m━━━━━━━━━━━━━━━━━━━━━━━━━━━━━━━━━━━━━━━━\u001b[0m \u001b[32m1.3/1.3 MB\u001b[0m \u001b[31m50.6 MB/s\u001b[0m eta \u001b[36m0:00:00\u001b[0m\n",
            "\u001b[?25hRequirement already satisfied: tqdm>=4.27 in /usr/local/lib/python3.10/dist-packages (from transformers) (4.66.1)\n",
            "Requirement already satisfied: fsspec in /usr/local/lib/python3.10/dist-packages (from huggingface-hub<1.0,>=0.15.1->transformers) (2023.6.0)\n",
            "Requirement already satisfied: typing-extensions>=3.7.4.3 in /usr/local/lib/python3.10/dist-packages (from huggingface-hub<1.0,>=0.15.1->transformers) (4.7.1)\n",
            "Requirement already satisfied: charset-normalizer<4,>=2 in /usr/local/lib/python3.10/dist-packages (from requests->transformers) (3.2.0)\n",
            "Requirement already satisfied: idna<4,>=2.5 in /usr/local/lib/python3.10/dist-packages (from requests->transformers) (3.4)\n",
            "Requirement already satisfied: urllib3<3,>=1.21.1 in /usr/local/lib/python3.10/dist-packages (from requests->transformers) (2.0.4)\n",
            "Requirement already satisfied: certifi>=2017.4.17 in /usr/local/lib/python3.10/dist-packages (from requests->transformers) (2023.7.22)\n",
            "Installing collected packages: tokenizers, safetensors, huggingface-hub, transformers\n",
            "Successfully installed huggingface-hub-0.16.4 safetensors-0.3.3 tokenizers-0.13.3 transformers-4.32.0\n"
          ]
        }
      ]
    },
    {
      "cell_type": "code",
      "source": [
        "from transformers import pipeline"
      ],
      "metadata": {
        "id": "zMvKkG0m_6Ja"
      },
      "execution_count": null,
      "outputs": []
    },
    {
      "cell_type": "code",
      "source": [
        "pipe = pipeline(\"sentiment-analysis\")"
      ],
      "metadata": {
        "colab": {
          "base_uri": "https://localhost:8080/",
          "height": 180,
          "referenced_widgets": [
            "b89af2a3b89c40efbd66f6a510047ae2",
            "4a278b1dbc2a4949a9dac46a6a8ae6a2",
            "471c3df9ddf543bc8ad1d69aa7b9f54c",
            "2cc488202ad24725bcb8ec51e3b8e3ea",
            "cb2d2704941142f6995bc047ebcbcc04",
            "336db43593824bd0979a9affa9ec4f8c",
            "9e0e669bdab14fd288c372e6695fb9af",
            "e43e99cdebf04d828fa97866ebab812c",
            "2a0fc4249ae0416f87ccfb0a86d95900",
            "b33e6da741c84d018590a2611c0a8f2d",
            "392d7d6dab9243fa917350ba0bd77283",
            "eca094027e9b433c9fa8fb4868d7f88e",
            "de9a50329af34a0e868e362ecf9db75e",
            "95e8255ac0f047f7a3a6209c4afdceac",
            "e113c7da1c234b438c6b4c98fe0c89e6",
            "b186ba74f2bd4195b5e7ba199a74c93c",
            "53b3f281a78c4759aecec4b7e573ddb8",
            "cb4e1496eba449758eb3387eef6c8ef6",
            "eecbb1e0e4f14a27bd101c32aa69cf69",
            "3dd58186d6a5405e95727aa23cb5f1c9",
            "570e61f8cc9a4c9daeb88bc164fdc3b4",
            "cabb287eb3e24af18dd740ff18741250",
            "b50fbf69c5f44384a7dd3395f74da0c8",
            "a02a6392ec1f494c8f9c5734b5794489",
            "11523c0f7e534623b80eb76e101945ba",
            "61bf0164503847d5bc1f521a76f5919c",
            "8abf5a59c75c420faef643f5e28d8c9b",
            "05f0dad14f9d49e6aaed3feb8c1dd4a7",
            "c09868d5c0b543e68cc26bbc47460441",
            "abaecb0a04294b7a88002eebdab6f088",
            "625a459b0ef947f68be35912b4975157",
            "caec6caceb1d4be38920f84d4a45ffaa",
            "9b925a65b1c1414b90b8c46964474dfa",
            "ee1abdede6724d11aeb248b160672b6f",
            "9c2a07b0cfdc4ae8a56194f896995c32",
            "80666a1b79144277a6cf0b0a7179431d",
            "e2c70aa2c7d449a78960b0c053a7adb2",
            "0ffaa9188e6f4632aec0b2dba4ef5eaf",
            "77636486215f45c68a44cf90dd620e8f",
            "881e5e352eb14916ad10d09871b04394",
            "1e47ab0653b940a7b1eab32de2ab7a81",
            "407a15fa8475485e9056df5dd15c7230",
            "655ec0cc401b47fc9155b001c8c590e8",
            "17fac65af5a8463dacf6932e81521d4f"
          ]
        },
        "id": "NCWoNQHY_6Ou",
        "outputId": "24f47919-1ae5-45c7-e1de-c8a7db9027d7"
      },
      "execution_count": null,
      "outputs": [
        {
          "output_type": "stream",
          "name": "stderr",
          "text": [
            "No model was supplied, defaulted to distilbert-base-uncased-finetuned-sst-2-english and revision af0f99b (https://huggingface.co/distilbert-base-uncased-finetuned-sst-2-english).\n",
            "Using a pipeline without specifying a model name and revision in production is not recommended.\n"
          ]
        },
        {
          "output_type": "display_data",
          "data": {
            "text/plain": [
              "Downloading (…)lve/main/config.json:   0%|          | 0.00/629 [00:00<?, ?B/s]"
            ],
            "application/vnd.jupyter.widget-view+json": {
              "version_major": 2,
              "version_minor": 0,
              "model_id": "b89af2a3b89c40efbd66f6a510047ae2"
            }
          },
          "metadata": {}
        },
        {
          "output_type": "display_data",
          "data": {
            "text/plain": [
              "Downloading model.safetensors:   0%|          | 0.00/268M [00:00<?, ?B/s]"
            ],
            "application/vnd.jupyter.widget-view+json": {
              "version_major": 2,
              "version_minor": 0,
              "model_id": "eca094027e9b433c9fa8fb4868d7f88e"
            }
          },
          "metadata": {}
        },
        {
          "output_type": "display_data",
          "data": {
            "text/plain": [
              "Downloading (…)okenizer_config.json:   0%|          | 0.00/48.0 [00:00<?, ?B/s]"
            ],
            "application/vnd.jupyter.widget-view+json": {
              "version_major": 2,
              "version_minor": 0,
              "model_id": "b50fbf69c5f44384a7dd3395f74da0c8"
            }
          },
          "metadata": {}
        },
        {
          "output_type": "display_data",
          "data": {
            "text/plain": [
              "Downloading (…)solve/main/vocab.txt:   0%|          | 0.00/232k [00:00<?, ?B/s]"
            ],
            "application/vnd.jupyter.widget-view+json": {
              "version_major": 2,
              "version_minor": 0,
              "model_id": "ee1abdede6724d11aeb248b160672b6f"
            }
          },
          "metadata": {}
        }
      ]
    },
    {
      "cell_type": "code",
      "source": [
        "# Перевіримо на рандомному висловлюванні\n",
        "pipe(\"life can be easier\")"
      ],
      "metadata": {
        "colab": {
          "base_uri": "https://localhost:8080/"
        },
        "id": "mmt-NARP_6Rv",
        "outputId": "ecc25011-2146-4339-f1c3-a323c8d58443"
      },
      "execution_count": null,
      "outputs": [
        {
          "output_type": "execute_result",
          "data": {
            "text/plain": [
              "[{'label': 'NEGATIVE', 'score': 0.9435901641845703}]"
            ]
          },
          "metadata": {},
          "execution_count": 18
        }
      ]
    },
    {
      "cell_type": "code",
      "source": [
        "# Приведемо до потрібного стану тестову вібірку\n",
        "input_test[0]"
      ],
      "metadata": {
        "colab": {
          "base_uri": "https://localhost:8080/"
        },
        "id": "Dza-RW2TAWwz",
        "outputId": "1b8078ae-a8c2-4aad-c66f-2e836fb049fc"
      },
      "execution_count": null,
      "outputs": [
        {
          "output_type": "execute_result",
          "data": {
            "text/plain": [
              "array([   0,    0,    0,    0,    0,    0,    0,    0,    0,    0,    0,\n",
              "          0,    0,    0,    0,    0,    0,    0,    0,    0,    0,    0,\n",
              "          0,    0,    0,    0,    0,    0,    0,    0,    0,    0,    0,\n",
              "          0,    0,    0,    0,    0,    0,    0,    0,    0,    0,    0,\n",
              "          0,    0,    0,    0,    0,    0,    0,    0,    0,    0,    0,\n",
              "          0,    0,    0,    0,    0,    0,    0,    0,    0,    0,    0,\n",
              "          0,    0,    0,    0,    0,    0,    0,    0,    0,    0,    0,\n",
              "          0,    0,    0,    0,    0,    0,    0,    0,    0,    0,    0,\n",
              "          0,    0,    0,    0,    0,    0,    0,    0,    0,    0,    0,\n",
              "          0,    0,    0,    0,    0,    0,    0,    0,    0,    0,    0,\n",
              "          0,    0,    0,    0,    0,    0,    0,    0,    0,    0,    0,\n",
              "          0,    0,    0,    0,    0,    0,    0,    0,    0,    0,    0,\n",
              "          0,    0,    0,    0,    0,    0,    0,    0,    0,    0,    0,\n",
              "          0,    0,    0,    0,    0,    0,    0,    0,    0,    0,    0,\n",
              "          0,    0,    0,    0,    0,    0,    0,    0,    0,    0,    0,\n",
              "          0,    0,    0,    0,    0,    0,    0,    0,    0,    0,    0,\n",
              "          0,    0,    0,    0,    0,    0,    0,    0,    0,    0,    0,\n",
              "          0,    0,    0,    0,    0,    0,    0,    0,    0,    0,    0,\n",
              "          0,    0,    0,    0,    0,    0,    0,    0,    0,    0,    0,\n",
              "          0,    0,    0,    0,    0,    0,    0,    0,    0,    0,    0,\n",
              "          0,    0,    0,    0,    0,    0,    0,    0,    0,    0,    0,\n",
              "          0,    0,    0,    0,    0,    0,    0,    0,    0,    0,    0,\n",
              "          0,    0,    0,    0,    0,    0,    0,    0,    0,    0,    0,\n",
              "          0,    0,    0,    0,    0,    0,    0,    0,    0,    0,    0,\n",
              "          0,    0,    0,    0,    0,    0,    0,    0,    0,    0,    0,\n",
              "          0,    0,    0,    0,    0,    0,    0,    0,    0,    0,    0,\n",
              "          0,    0,    0,    0,    0,    0,    0,    0,    0,    0,    0,\n",
              "          0,    0,    0,    0,    0,    0,    0,    0,    0,    0,    0,\n",
              "          0,    0,    0,    0,    0,    0,    0,    0,    0,    0,    0,\n",
              "          0,    0,    0,    0,    0,    0,    0,    0,    0,    0,    0,\n",
              "          0,    0,    0,    0,    0,    0,    0,    0,    0,    0,    0,\n",
              "          0,    0,    0,    0,    0,    0,    0,    0,    0,    0,    0,\n",
              "          0,    0,    0,    0,    0,    0,    0,    0,    0,    0,    0,\n",
              "          0,    0,    0,    0,    0,    0,    0,    0,    0,    0,    0,\n",
              "          0,    0,    0,    0,    0,    0,    0,    0,    0,    0,    0,\n",
              "          0,    0,    0,    0,    0,    0,    0,    0,    0,    0,    0,\n",
              "          0,    0,    0,    0,    0,    0,    0,    0,    0,    0,    0,\n",
              "          0,    0,    0,    0,    0,    0,    0,    0,    0,    0,    0,\n",
              "          0,    0,    0,    0,    0,    0,    0,    0,    0,    0,    0,\n",
              "          0,    0,    0,    1,  591,  202,   14,   31,    6,  717,   10,\n",
              "         10,    2,    2,    5,    4,  360,    7,    4,  177, 5760,  394,\n",
              "        354,    4,  123,    9, 1035, 1035, 1035,   10,   10,   13,   92,\n",
              "        124,   89,  488, 7944,  100,   28, 1668,   14,   31,   23,   27,\n",
              "       7479,   29,  220,  468,    8,  124,   14,  286,  170,    8,  157,\n",
              "         46,    5,   27,  239,   16,  179,    2,   38,   32,   25, 7944,\n",
              "        451,  202,   14,    6,  717], dtype=int32)"
            ]
          },
          "metadata": {},
          "execution_count": 20
        }
      ]
    },
    {
      "cell_type": "code",
      "source": [
        "test_labels[0]"
      ],
      "metadata": {
        "colab": {
          "base_uri": "https://localhost:8080/"
        },
        "id": "uZIzbBtIBMEU",
        "outputId": "de618a2c-3099-4bf5-9f3f-bc07d4a2312b"
      },
      "execution_count": null,
      "outputs": [
        {
          "output_type": "execute_result",
          "data": {
            "text/plain": [
              "0"
            ]
          },
          "metadata": {},
          "execution_count": 21
        }
      ]
    },
    {
      "cell_type": "code",
      "source": [
        "import re"
      ],
      "metadata": {
        "id": "DQfe-BcaVaGi"
      },
      "execution_count": null,
      "outputs": []
    },
    {
      "cell_type": "code",
      "source": [
        "decoded_test = []\n",
        "for sentense in input_test:\n",
        "  decoded_review = ' '.join([reverse_word_index.get(i - 3, '.') for i in sentense]) #if i != 0\n",
        "  clean_text = re.sub(r'[^\\w\\s]', '', decoded_review)\n",
        "  decoded_test.append(clean_text)"
      ],
      "metadata": {
        "id": "E0e9oOfGDUnO"
      },
      "execution_count": null,
      "outputs": []
    },
    {
      "cell_type": "code",
      "source": [
        "len(decoded_test)"
      ],
      "metadata": {
        "colab": {
          "base_uri": "https://localhost:8080/"
        },
        "id": "VDsyIAmBEKQh",
        "outputId": "bc863c5c-0ed4-4ac6-9b00-14563953e647"
      },
      "execution_count": null,
      "outputs": [
        {
          "output_type": "execute_result",
          "data": {
            "text/plain": [
              "25000"
            ]
          },
          "metadata": {},
          "execution_count": 54
        }
      ]
    },
    {
      "cell_type": "code",
      "source": [
        "# Подивимося на випадковий відгук\n",
        "decoded_test[20000], test_labels[20000]"
      ],
      "metadata": {
        "colab": {
          "base_uri": "https://localhost:8080/"
        },
        "id": "_UmoEKYnEKXz",
        "outputId": "f2e6a8f5-c634-458a-be10-26bc13d20629"
      },
      "execution_count": null,
      "outputs": [
        {
          "output_type": "execute_result",
          "data": {
            "text/plain": [
              "('                                                                                                                                                                                                                                                                                                              the concept of this movie is pretty compelling zombie children climbing out of an abandoned mine to seek revenge for their deaths in the backwoods of  cool the problem i had with the movie is the lack of creativity when dealing with the zombies the makers could have really  this film up with some terror like imagery a la the ring such as stop action reverse camera walking or stuff like that when the zombie children are  through the woods they look like a bunch of 9 year olds walking to a  in west philadelphia instead of pick  and  they could have easily been carrying baseball bats and  why would i fear these little kids anyone could just run away in a straight line to safety also who in their right mind would have stayed one night with their children in that creepy run down house the moment i opened that front door and looked around i would have said  hmm  hmm son go start the car im going around back to pee on a bush and then were out of here totally unbelievable movie dont waste your time',\n",
              " 0)"
            ]
          },
          "metadata": {},
          "execution_count": 58
        }
      ]
    },
    {
      "cell_type": "code",
      "source": [
        "# Перевіримо на самостійно сформованих відгуках\n",
        "res1 = []\n",
        "true_res1 = []\n",
        "\n",
        "# Проганяємо відгуки через pipeline та порівнюємо результати з мітками\n",
        "for text, label in zip(new_reviews, labels):\n",
        "    analysis = pipe(text[:1200])[0]  # Виконуємо аналіз для поточного відгука\n",
        "    predicted_label = 1 if analysis['label'] == 'POSITIVE' else 0  # Перетворюємо мітку в 1 або 0\n",
        "    res1.append(predicted_label)\n",
        "    true_res1.append(label)\n",
        "\n",
        "# Порівнюємо отримані результати з дійсними мітками\n",
        "correct_predictions = [predicted == true for predicted, true in zip(res1, true_res1)]\n",
        "\n",
        "# Обчислюємо точність\n",
        "accuracy = sum(correct_predictions) / len(correct_predictions)\n",
        "\n",
        "print(\"Accuracy:\", accuracy)"
      ],
      "metadata": {
        "colab": {
          "base_uri": "https://localhost:8080/"
        },
        "id": "grQWDvYHQWiW",
        "outputId": "06c9c1c3-70fa-4339-cd64-9fd165ebf4cc"
      },
      "execution_count": null,
      "outputs": [
        {
          "output_type": "stream",
          "name": "stdout",
          "text": [
            "Accuracy: 1.0\n"
          ]
        }
      ]
    },
    {
      "cell_type": "code",
      "source": [
        "# Перевіримо прогнавши тестову вибірку через pipeline\n",
        "res = []\n",
        "true_res = []\n",
        "\n",
        "# Проганяємо відгуки через pipeline та порівнюємо результати з мітками (перші 1000 відгуків)\n",
        "for text, label in zip(decoded_test, test_labels):\n",
        "    analysis = pipe(text[:1000])[0]  # Виконуємо аналіз для поточного відгука, зрізаючи його довжину щоб не падав pipeline (перевищення 512 токенів)\n",
        "    predicted_label = 1 if analysis['label'] == 'POSITIVE' else 0  # Перетворюємо мітку в 1 або 0\n",
        "    res.append(predicted_label)\n",
        "    true_res.append(label)\n",
        "\n",
        "# Порівнюємо отримані результати з дійсними мітками\n",
        "correct_predictions = [predicted == true for predicted, true in zip(res, true_res)]\n",
        "\n",
        "# Обчислюємо точність\n",
        "accuracy = sum(correct_predictions) / len(correct_predictions)\n",
        "\n",
        "print(\"Accuracy:\", accuracy)"
      ],
      "metadata": {
        "colab": {
          "base_uri": "https://localhost:8080/"
        },
        "id": "ET5bCm5GMcKe",
        "outputId": "11cc71a6-b095-4125-d716-5e0a839d2d3e"
      },
      "execution_count": null,
      "outputs": [
        {
          "output_type": "stream",
          "name": "stdout",
          "text": [
            "Accuracy: 0.84272\n"
          ]
        }
      ]
    },
    {
      "cell_type": "markdown",
      "source": [
        "## Суб висновок\n",
        "\n",
        "pipeline \"sentiment-analysis\" з парку трансформерів не потребує навчання, при подачі відгуків майже миттево надає відповідь з точністю до 100%.\n",
        "\n",
        "Перевірка на тестовій вибірці потребувала трансформування датасету до людської мови, та фільтрації, тому що частина слов не війшла до списку найуживаніших, та мусор заважав оцінці, проте це зайняло багато часу - близько 40 хвилин, та надало точність - 84.3%."
      ],
      "metadata": {
        "id": "c-sBoxc9aIx4"
      }
    },
    {
      "cell_type": "markdown",
      "source": [
        "# Після всього - існує багато способів вирішення задач семантичного аналізу мови, як класичних: ліс рішень, рекурентні мережі, так більш модернові - трансформери, що мають високу швидкість та результативність. Вибір рішення залежить від конкретної задачі, уподобань розробника, та вимог замовника"
      ],
      "metadata": {
        "id": "FavksO2vdJCd"
      }
    }
  ]
}