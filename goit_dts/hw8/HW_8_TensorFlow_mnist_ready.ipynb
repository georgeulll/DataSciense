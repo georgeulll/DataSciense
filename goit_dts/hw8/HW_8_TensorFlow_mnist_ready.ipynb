{
  "cells": [
    {
      "cell_type": "markdown",
      "metadata": {
        "id": "view-in-github",
        "colab_type": "text"
      },
      "source": [
        "<a href=\"https://colab.research.google.com/github/PIRomanCod/DataSciense_HW/blob/main/HW_8_TensorFlow_mnist_ready.ipynb\" target=\"_parent\"><img src=\"https://colab.research.google.com/assets/colab-badge.svg\" alt=\"Open In Colab\"/></a>"
      ]
    },
    {
      "cell_type": "markdown",
      "metadata": {
        "id": "b0Yf4NBJUSNM"
      },
      "source": [
        "## Техзавдання - Создание нейронной сети\n",
        "\n"
      ]
    },
    {
      "cell_type": "markdown",
      "metadata": {
        "id": "CrlVa_UHLBuJ"
      },
      "source": [
        "В этом задании мы создадим полносвязную нейронную сеть используя при этом низкоуровневые механизмы tensorflow.\n",
        "\n",
        "Архитектутра нейросети представлена на следующем рисунке. Как видите, в ней имеется один входной слой, два скрытых, а так же выходной слой. В качестве активационной функции в скрытых слоях будет использоваться сигмоида. На выходном слое мы используем softmax.\n",
        "\n",
        "Часть кода по созданию сети уже написана, от вас требуется заполнить пропуски в указанных местах."
      ]
    },
    {
      "cell_type": "markdown",
      "metadata": {
        "id": "01rZWUu0USNQ"
      },
      "source": [
        "### Архитектура нейронной сети\n",
        "\n",
        "<img src=\"http://cs231n.github.io/assets/nn1/neural_net2.jpeg\" alt=\"nn\" style=\"width: 400px;\"/>\n"
      ]
    },
    {
      "cell_type": "markdown",
      "metadata": {
        "id": "LLvIZ705Qw_V"
      },
      "source": [
        "### О датасете MNIST\n",
        "\n",
        "Данную нейросеть мы будем обучать на датасете MNIST. Этот датасет представляет собой большое количество изображений рукописных цифр размером $28 \\times 28$ пикселей. Каждый пиксель принимает значение от 0 до 255.\n",
        "\n",
        "Как и раньше датасет будет разеделен на обучающую и тестовую выборки. При этом мы выполним нормализацию всех изображений, чтобы значения пикселей находились в промежутке от 0 до 1, разделив яркость каждого пикселя на 255.\n",
        "\n",
        "Кроме того, архитектура нейронной сети ожидает на вход вектор. В нашем же случае каждый объект выборки представляет собой матрицу. Что же делать? В этом задании мы \"растянем\" матрицу $28 \\times 28$, получив при этом вектор, состоящей из 784 элементов.\n",
        "\n",
        "![MNIST Dataset](https://www.researchgate.net/profile/Steven-Young-5/publication/306056875/figure/fig1/AS:393921575309346@1470929630835/Example-images-from-the-MNIST-dataset.png)\n",
        "\n",
        "Больше информации о датасете можно найти [здесь](http://yann.lecun.com/exdb/mnist/)."
      ]
    },
    {
      "cell_type": "markdown",
      "metadata": {
        "id": "Miat6U_uLBuL"
      },
      "source": [
        "## Імпорти та встановлення констант"
      ]
    },
    {
      "cell_type": "code",
      "execution_count": 1,
      "metadata": {
        "id": "il_0_5OyUSNR"
      },
      "outputs": [],
      "source": [
        "import tensorflow as tf\n",
        "import numpy as np\n",
        "import pandas as pd\n",
        "import matplotlib.pyplot as plt\n",
        "import random\n",
        "import seaborn as sns\n",
        "from sklearn.metrics import confusion_matrix"
      ]
    },
    {
      "cell_type": "code",
      "execution_count": 2,
      "metadata": {
        "id": "cd-1_abTUSNS"
      },
      "outputs": [],
      "source": [
        "num_classes = 10 # общее количество классов, в нашем случае это цифры от 0 до 9\n",
        "num_features = 784 # количество атрибутов входного вектора 28 * 28 = 784\n",
        "\n",
        "learning_rate = 0.001 # скорость обучения нейронной сети\n",
        "training_steps = 3000 # максимальное число эпох\n",
        "batch_size = 256 # пересчитывать веса сети мы будем не на всей выборке, а на ее случайном подможестве из batch_size элементов\n",
        "display_step = 100 # каждые 100 итераций мы будем показывать текущее значение функции потерь и точности\n",
        "\n",
        "n_hidden_1 = 128 # количество нейронов 1-го слоя\n",
        "n_hidden_2 = 256 # количество нейронов 2-го слоя"
      ]
    },
    {
      "cell_type": "markdown",
      "metadata": {
        "id": "xEj6eMKHLBuN"
      },
      "source": [
        "## Завантаження даних, їх попередній аналіз та перетворення до належного стану"
      ]
    },
    {
      "cell_type": "code",
      "execution_count": 3,
      "metadata": {
        "id": "pGTXiRyTUSNT",
        "colab": {
          "base_uri": "https://localhost:8080/"
        },
        "outputId": "efae7b08-9c82-4db5-ba96-b7849fe530b0"
      },
      "outputs": [
        {
          "output_type": "stream",
          "name": "stdout",
          "text": [
            "Downloading data from https://storage.googleapis.com/tensorflow/tf-keras-datasets/mnist.npz\n",
            "11490434/11490434 [==============================] - 0s 0us/step\n"
          ]
        }
      ],
      "source": [
        "from tensorflow.keras.datasets import mnist\n",
        "\n",
        "# Загружаем датасет\n",
        "(x_train, y_train), (x_test, y_test) = mnist.load_data()\n",
        "\n"
      ]
    },
    {
      "cell_type": "code",
      "execution_count": 4,
      "metadata": {
        "colab": {
          "base_uri": "https://localhost:8080/"
        },
        "id": "rh0CcSXmLBuO",
        "outputId": "b1dd12b5-679e-4913-9737-85b060c0228d"
      },
      "outputs": [
        {
          "output_type": "execute_result",
          "data": {
            "text/plain": [
              "((60000, 28, 28), (10000, 28, 28))"
            ]
          },
          "metadata": {},
          "execution_count": 4
        }
      ],
      "source": [
        "x_train.shape, x_test.shape"
      ]
    },
    {
      "cell_type": "code",
      "execution_count": 5,
      "metadata": {
        "colab": {
          "base_uri": "https://localhost:8080/"
        },
        "id": "VvYNqus7LBuP",
        "outputId": "f0fab6d0-02c1-4155-f877-9cf8cbc49eb5"
      },
      "outputs": [
        {
          "output_type": "execute_result",
          "data": {
            "text/plain": [
              "array([[[0, 0, 0, ..., 0, 0, 0],\n",
              "        [0, 0, 0, ..., 0, 0, 0],\n",
              "        [0, 0, 0, ..., 0, 0, 0],\n",
              "        ...,\n",
              "        [0, 0, 0, ..., 0, 0, 0],\n",
              "        [0, 0, 0, ..., 0, 0, 0],\n",
              "        [0, 0, 0, ..., 0, 0, 0]],\n",
              "\n",
              "       [[0, 0, 0, ..., 0, 0, 0],\n",
              "        [0, 0, 0, ..., 0, 0, 0],\n",
              "        [0, 0, 0, ..., 0, 0, 0],\n",
              "        ...,\n",
              "        [0, 0, 0, ..., 0, 0, 0],\n",
              "        [0, 0, 0, ..., 0, 0, 0],\n",
              "        [0, 0, 0, ..., 0, 0, 0]],\n",
              "\n",
              "       [[0, 0, 0, ..., 0, 0, 0],\n",
              "        [0, 0, 0, ..., 0, 0, 0],\n",
              "        [0, 0, 0, ..., 0, 0, 0],\n",
              "        ...,\n",
              "        [0, 0, 0, ..., 0, 0, 0],\n",
              "        [0, 0, 0, ..., 0, 0, 0],\n",
              "        [0, 0, 0, ..., 0, 0, 0]],\n",
              "\n",
              "       ...,\n",
              "\n",
              "       [[0, 0, 0, ..., 0, 0, 0],\n",
              "        [0, 0, 0, ..., 0, 0, 0],\n",
              "        [0, 0, 0, ..., 0, 0, 0],\n",
              "        ...,\n",
              "        [0, 0, 0, ..., 0, 0, 0],\n",
              "        [0, 0, 0, ..., 0, 0, 0],\n",
              "        [0, 0, 0, ..., 0, 0, 0]],\n",
              "\n",
              "       [[0, 0, 0, ..., 0, 0, 0],\n",
              "        [0, 0, 0, ..., 0, 0, 0],\n",
              "        [0, 0, 0, ..., 0, 0, 0],\n",
              "        ...,\n",
              "        [0, 0, 0, ..., 0, 0, 0],\n",
              "        [0, 0, 0, ..., 0, 0, 0],\n",
              "        [0, 0, 0, ..., 0, 0, 0]],\n",
              "\n",
              "       [[0, 0, 0, ..., 0, 0, 0],\n",
              "        [0, 0, 0, ..., 0, 0, 0],\n",
              "        [0, 0, 0, ..., 0, 0, 0],\n",
              "        ...,\n",
              "        [0, 0, 0, ..., 0, 0, 0],\n",
              "        [0, 0, 0, ..., 0, 0, 0],\n",
              "        [0, 0, 0, ..., 0, 0, 0]]], dtype=uint8)"
            ]
          },
          "metadata": {},
          "execution_count": 5
        }
      ],
      "source": [
        "x_train"
      ]
    },
    {
      "cell_type": "code",
      "execution_count": 6,
      "metadata": {
        "colab": {
          "base_uri": "https://localhost:8080/"
        },
        "id": "9dNMIQddLBuQ",
        "outputId": "3acd8ac8-ee8c-46c2-cf4d-08d1c12883d3"
      },
      "outputs": [
        {
          "output_type": "execute_result",
          "data": {
            "text/plain": [
              "array([5, 0, 4, ..., 5, 6, 8], dtype=uint8)"
            ]
          },
          "metadata": {},
          "execution_count": 6
        }
      ],
      "source": [
        "y_train"
      ]
    },
    {
      "cell_type": "code",
      "execution_count": 7,
      "metadata": {
        "colab": {
          "base_uri": "https://localhost:8080/"
        },
        "id": "hfpchwUJLBuQ",
        "outputId": "c367e1b7-9f14-4171-ef73-5295b23b546d"
      },
      "outputs": [
        {
          "output_type": "execute_result",
          "data": {
            "text/plain": [
              "((60000,), (10000,))"
            ]
          },
          "metadata": {},
          "execution_count": 7
        }
      ],
      "source": [
        "y_train.shape, y_test.shape"
      ]
    },
    {
      "cell_type": "code",
      "execution_count": 8,
      "metadata": {
        "colab": {
          "base_uri": "https://localhost:8080/",
          "height": 452
        },
        "id": "jRWFCT53LBuQ",
        "outputId": "9fbe7dde-104d-4f0b-f6d4-554e42069db7"
      },
      "outputs": [
        {
          "output_type": "display_data",
          "data": {
            "text/plain": [
              "<Figure size 640x480 with 2 Axes>"
            ],
            "image/png": "[encoded data removed]"
          },
          "metadata": {}
        }
      ],
      "source": [
        "num = 2221\n",
        "plt.figure()\n",
        "plt.imshow(x_train[num])\n",
        "plt.colorbar()\n",
        "plt.grid(False)\n",
        "plt.title(f'Це - {y_train[num]}')\n",
        "plt.show()"
      ]
    },
    {
      "cell_type": "code",
      "execution_count": 9,
      "metadata": {
        "id": "_EEBPn41LBuQ"
      },
      "outputs": [],
      "source": [
        "# Нормализуем значения пикселей\n",
        "x_train, x_test = x_train / 255., x_test / 255."
      ]
    },
    {
      "cell_type": "markdown",
      "metadata": {
        "id": "k2SOUkInLBuR"
      },
      "source": [
        "Відобразимо перші 25 єкземпярів з датасету"
      ]
    },
    {
      "cell_type": "code",
      "execution_count": 10,
      "metadata": {
        "colab": {
          "base_uri": "https://localhost:8080/",
          "height": 826
        },
        "id": "j1xeAjQqLBuR",
        "outputId": "54e3f3c0-e30a-4aca-c31b-ac952af1904a"
      },
      "outputs": [
        {
          "output_type": "display_data",
          "data": {
            "text/plain": [
              "<Figure size 1000x1000 with 25 Axes>"
            ],
            "image/png": "[encoded data removed]"
          },
          "metadata": {}
        }
      ],
      "source": [
        "plt.figure(figsize=(10,10))\n",
        "for i in range(25):\n",
        "    plt.subplot(5,5,i+1)\n",
        "    plt.xticks([])\n",
        "    plt.yticks([])\n",
        "    plt.grid(False)\n",
        "    plt.imshow(x_train[i], cmap=plt.cm.binary)\n",
        "    plt.xlabel(y_train[i])\n",
        "plt.show()"
      ]
    },
    {
      "cell_type": "code",
      "execution_count": 11,
      "metadata": {
        "id": "xDtl9Gn4LBuR"
      },
      "outputs": [],
      "source": [
        "# Преобразуем целочисленные пиксели к типа float32\n",
        "x_train, x_test = np.array(x_train, np.float32), np.array(x_test, np.float32)\n",
        "\n",
        "# Преобразуем матрицы размером 28x28 пикселей в вектор из 784 элементов\n",
        "x_train, x_test = x_train.reshape([-1, num_features]), x_test.reshape([-1, num_features])\n",
        "\n",
        "# Перемешаем тренировочные данные\n",
        "train_data = tf.data.Dataset.from_tensor_slices((x_train, y_train))\n",
        "train_data = train_data.repeat().shuffle(5000).batch(batch_size).prefetch(1)"
      ]
    },
    {
      "cell_type": "markdown",
      "metadata": {
        "id": "1wMrvwNKLBuR"
      },
      "source": [
        "## Створення нейромережі, функції втрат, та її навчання"
      ]
    },
    {
      "cell_type": "code",
      "execution_count": 12,
      "metadata": {
        "id": "FkRmCQjnUSNV"
      },
      "outputs": [],
      "source": [
        "# Создадим нейронную сеть\n",
        "\n",
        "class DenseLayer(tf.Module):\n",
        "    def __init__(self, in_features, out_features, name=None):\n",
        "        super().__init__(name=name)\n",
        "        self.weights = tf.Variable(tf.random.normal([in_features, out_features]))\n",
        "        self.biases = tf.Variable(tf.zeros([out_features]))\n",
        "\n",
        "    def __call__(self, x):\n",
        "        return tf.matmul(x, self.weights) + self.biases\n",
        "\n",
        "\n",
        "class NN(tf.Module):\n",
        "  def __init__(self, name=None):\n",
        "    super().__init__(name=name)\n",
        "    # Первый слой, состоящий из 128 нейронов\n",
        "    self.layer1 = DenseLayer(num_features, n_hidden_1)\n",
        "\n",
        "    # Второй слой, состоящий из 256 нейронов\n",
        "    self.layer2 = DenseLayer(n_hidden_1, n_hidden_2)\n",
        "\n",
        "    # Выходной слой\n",
        "    self.out_layer = DenseLayer(n_hidden_2, num_classes)\n",
        "\n",
        "  def __call__(self, x):\n",
        "    x = self.layer1(x)\n",
        "    x = tf.nn.relu(x)\n",
        "    x = self.layer2(x)\n",
        "    x = tf.nn.sigmoid(x)\n",
        "\n",
        "    # Помните что для выхода нейронной сети мы применяем к выходу функцию softmax.\n",
        "    # Делаем мы это для того, чтобы\n",
        "    # выход нейронной сети принимал значения от 0 до 1 в соответствии с вероятностью\n",
        "    # принадлежности входного объекта к одному из 10 классов\n",
        "\n",
        "    x = self.out_layer(x)\n",
        "    return tf.nn.softmax(x)"
      ]
    },
    {
      "cell_type": "code",
      "execution_count": 13,
      "metadata": {
        "id": "LIf3o7VAUSNV"
      },
      "outputs": [],
      "source": [
        "# В качестве функции ошибки в данном случае удобно взять кросс-энтропию\n",
        "def cross_entropy(y_pred, y_true):\n",
        "    # Encode label to a one hot vector.\n",
        "    y_true = tf.one_hot(y_true, depth=num_classes)\n",
        "\n",
        "    # Clip prediction values to avoid log(0) error.\n",
        "    y_pred = tf.clip_by_value(y_pred, 1e-9, 1.)\n",
        "\n",
        "    # Вычисление кросс-энтропии\n",
        "    return tf.reduce_mean(-tf.reduce_sum(y_true * tf.math.log(y_pred)))\n",
        "\n",
        "# В качестве метрики качества используем точность\n",
        "def accuracy(y_pred, y_true):\n",
        "    correct_prediction = tf.equal(tf.argmax(y_pred, 1), tf.cast(y_true, tf.int64))\n",
        "    return tf.reduce_mean(tf.cast(correct_prediction, tf.float32), axis=-1)"
      ]
    },
    {
      "cell_type": "code",
      "execution_count": 14,
      "metadata": {
        "id": "MQeT1yatUSNW"
      },
      "outputs": [],
      "source": [
        "# Создадим экзампляр нейронной сети\n",
        "neural_net = NN(name=\"mnist\")\n",
        "\n",
        "# Функция обучения нейросети\n",
        "def train(nn, input_x, output_y):\n",
        "  # Для подгонки весов сети будем использовать стохастический градиентный спуск\n",
        "  optimizer = tf.optimizers.SGD(learning_rate)\n",
        "\n",
        "  # Активация автоматического дифференцирования\n",
        "  with tf.GradientTape() as g:\n",
        "    pred = nn(input_x)\n",
        "    loss = cross_entropy(pred, output_y)\n",
        "\n",
        "    # Создадим оптимизируемых список параметров\n",
        "    trainable_variables = nn.trainable_variables\n",
        "\n",
        "    # Вычислим по ним значение градиента\n",
        "    gradients = g.gradient(loss, trainable_variables)\n",
        "\n",
        "    # Модифицируем параметры\n",
        "    optimizer.apply_gradients(zip(gradients, trainable_variables))"
      ]
    },
    {
      "cell_type": "code",
      "execution_count": null,
      "metadata": {
        "id": "fnyns9lBfpQZ",
        "colab": {
          "base_uri": "https://localhost:8080/"
        },
        "outputId": "81f59d06-683d-4cc6-d147-ccbf7c6c5e62"
      },
      "outputs": [
        {
          "output_type": "stream",
          "name": "stderr",
          "text": [
            "WARNING:tensorflow:5 out of the last 5 calls to <function _BaseOptimizer._update_step_xla at 0x780bb3700790> triggered tf.function retracing. Tracing is expensive and the excessive number of tracings could be due to (1) creating @tf.function repeatedly in a loop, (2) passing tensors with different shapes, (3) passing Python objects instead of tensors. For (1), please define your @tf.function outside of the loop. For (2), @tf.function has reduce_retracing=True option that can avoid unnecessary retracing. For (3), please refer to https://www.tensorflow.org/guide/function#controlling_retracing and https://www.tensorflow.org/api_docs/python/tf/function for  more details.\n",
            "WARNING:tensorflow:6 out of the last 6 calls to <function _BaseOptimizer._update_step_xla at 0x780bb3700790> triggered tf.function retracing. Tracing is expensive and the excessive number of tracings could be due to (1) creating @tf.function repeatedly in a loop, (2) passing tensors with different shapes, (3) passing Python objects instead of tensors. For (1), please define your @tf.function outside of the loop. For (2), @tf.function has reduce_retracing=True option that can avoid unnecessary retracing. For (3), please refer to https://www.tensorflow.org/guide/function#controlling_retracing and https://www.tensorflow.org/api_docs/python/tf/function for  more details.\n"
          ]
        },
        {
          "output_type": "stream",
          "name": "stdout",
          "text": [
            "Шаг: 100, Потери: 225.8584, Точность: 0.7734\n",
            "Шаг: 200, Потери: 168.9062, Точность: 0.8164\n",
            "Шаг: 300, Потери: 173.3657, Точность: 0.7852\n",
            "Шаг: 400, Потери: 177.1717, Точность: 0.8555\n",
            "Шаг: 500, Потери: 131.0486, Точность: 0.8750\n",
            "Шаг: 600, Потери: 158.8673, Точность: 0.8477\n",
            "Шаг: 700, Потери: 114.0739, Точность: 0.8672\n",
            "Шаг: 800, Потери: 114.1835, Точность: 0.8711\n",
            "Шаг: 900, Потери: 130.4962, Точность: 0.8711\n",
            "Шаг: 1000, Потери: 110.8566, Точность: 0.8867\n",
            "Шаг: 1100, Потери: 89.8804, Точность: 0.9180\n",
            "Шаг: 1200, Потери: 90.8872, Точность: 0.9180\n",
            "Шаг: 1300, Потери: 107.1264, Точность: 0.8906\n",
            "Шаг: 1400, Потери: 50.9554, Точность: 0.9336\n",
            "Шаг: 1500, Потери: 79.8906, Точность: 0.9219\n",
            "Шаг: 1600, Потери: 121.2337, Точность: 0.8906\n",
            "Шаг: 1700, Потери: 96.2655, Точность: 0.9141\n",
            "Шаг: 1800, Потери: 68.0551, Точность: 0.9258\n",
            "Шаг: 1900, Потери: 55.9146, Точность: 0.9414\n",
            "Шаг: 2000, Потери: 40.3181, Точность: 0.9570\n"
          ]
        }
      ],
      "source": [
        "# Тренировка сети\n",
        "\n",
        "loss_history = []  # каждые display_step шагов сохраняйте в этом список текущую ошибку нейросети\n",
        "accuracy_history = [] # каждые display_step шагов сохраняйте в этом список текущую точность нейросети\n",
        "\n",
        "# В этом цикле мы будем производить обучение нейронной сети\n",
        "# из тренировочного датасета train_data извлеките случайное подмножество, на котором\n",
        "# произведется тренировка. Используйте метод take, доступный для тренировочного датасета.\n",
        "for step, (batch_x, batch_y) in enumerate(train_data.take(training_steps), 1):\n",
        "    # Обновляем веса нейронной сети\n",
        "    train(neural_net, batch_x, batch_y)\n",
        "\n",
        "    if step % display_step == 0:\n",
        "        pred = neural_net(batch_x)\n",
        "\n",
        "        acc = accuracy(pred, batch_y)\n",
        "        loss = cross_entropy(pred, batch_y)\n",
        "        accuracy_history.append(acc)\n",
        "        loss_history.append(loss)\n",
        "\n",
        "        print(f\"Крок: {step}, Втрати: {loss:.4f}, Точність: {acc:.4f}\")"
      ]
    },
    {
      "cell_type": "markdown",
      "metadata": {
        "id": "9CsAl753LBuT"
      },
      "source": [
        "## Візуалізація результатів навчання"
      ]
    },
    {
      "cell_type": "code",
      "execution_count": null,
      "metadata": {
        "id": "_yCBfG6MbQB2"
      },
      "outputs": [],
      "source": [
        "# Выведите графики зависимости изменения точности и потерь от шага\n",
        "# Если все сделано правильно, то точность должна расти, а потери уменьшаться\n",
        "\n",
        "plt.figure(figsize=(12, 6))\n",
        "plt.subplot(1, 2, 1)\n",
        "plt.title('Втрати у процесі навчання')\n",
        "plt.plot(loss_history, label='Втрати')\n",
        "plt.xlabel('Кроки')\n",
        "plt.ylabel('Значення')\n",
        "plt.legend()\n",
        "plt.subplot(1, 2, 2)\n",
        "plt.title('Точність у процесі навчання')\n",
        "plt.plot(accuracy_history, label='Точність')\n",
        "plt.xlabel('Кроки')\n",
        "plt.ylabel('Значення')\n",
        "plt.legend()\n",
        "\n",
        "plt.show()"
      ]
    },
    {
      "cell_type": "code",
      "execution_count": null,
      "metadata": {
        "id": "LE3g4gDyUSNY"
      },
      "outputs": [],
      "source": [
        "# Вычислите точность обученной нейросети\n",
        "\n",
        "test_data = tf.data.Dataset.from_tensor_slices((x_test, y_test))\n",
        "test_data = test_data.batch(batch_size).prefetch(1)\n",
        "\n",
        "accuracy_test = []\n",
        "loss_test = []\n",
        "test_pred = []\n",
        "for batch_x, batch_y in test_data:\n",
        "    pred = neural_net(batch_x)\n",
        "    test_pred.append(pred)\n",
        "    acc = accuracy(pred, batch_y)\n",
        "    loss = cross_entropy(pred, batch_y)\n",
        "    accuracy_test.append(acc)\n",
        "    loss_test.append(loss)\n",
        "\n",
        "print(f\"Точність на тестовій вибірці: {np.mean(accuracy_test):.4f}\")"
      ]
    },
    {
      "cell_type": "markdown",
      "metadata": {
        "id": "mwn7NkJlLBuT"
      },
      "source": [
        "Виведемо втрати та точність як на ттренувальній так і на тестових вибірках одночасно"
      ]
    },
    {
      "cell_type": "code",
      "execution_count": null,
      "metadata": {
        "id": "S0XeQOXWLBuU"
      },
      "outputs": [],
      "source": [
        "plt.figure(figsize=(12, 6))\n",
        "plt.subplot(1, 2, 1)\n",
        "plt.plot(loss_history, label='Втрати train')\n",
        "plt.plot(loss_test, label='Втрати test')\n",
        "plt.xlabel('Кроки')\n",
        "plt.ylabel('Значення')\n",
        "plt.legend()\n",
        "plt.subplot(1, 2, 2)\n",
        "plt.plot(accuracy_history, label='Точність train')\n",
        "plt.plot(accuracy_test, label='Точність test')\n",
        "plt.xlabel('Кроки')\n",
        "plt.ylabel('Значення')\n",
        "plt.legend()\n",
        "plt.show()"
      ]
    },
    {
      "cell_type": "markdown",
      "metadata": {
        "id": "WgLpoPrqLBuU"
      },
      "source": [
        "## Побудуємо confusion_matrix"
      ]
    },
    {
      "cell_type": "code",
      "execution_count": null,
      "metadata": {
        "id": "uJMYn0qqLBuU"
      },
      "outputs": [],
      "source": [
        "test_pred = np.concatenate(test_pred, axis=0)\n",
        "predict_values = np.argmax(test_pred, axis=1)\n",
        "\n",
        "cm = confusion_matrix(y_test, predict_values, labels=np.arange(num_classes))\n",
        "df_confusion_matrix = pd.DataFrame(cm, index=np.arange(num_classes), columns=np.arange(num_classes))\n",
        "\n",
        "plt.figure(figsize=(8, 8))\n",
        "plt.title('Матриця помилок')\n",
        "sns.heatmap(df_confusion_matrix, fmt=\"d\", annot=True, cbar=False, cmap=\"Oranges\", linewidths=1, linecolor=\"black\")\n",
        "plt.xlabel(\"Predicted labels\", fontsize=15)\n",
        "plt.xticks(fontsize=10)\n",
        "plt.ylabel(\"True labels\", fontsize=15)\n",
        "plt.yticks(fontsize=10, rotation=0)\n",
        "plt.show()"
      ]
    },
    {
      "cell_type": "markdown",
      "metadata": {
        "id": "1nIcrhsULBuU"
      },
      "source": [
        "## Error Analyse"
      ]
    },
    {
      "cell_type": "code",
      "execution_count": null,
      "metadata": {
        "id": "1H4ueKFrLBuU"
      },
      "outputs": [],
      "source": [
        "# Знайдемо всі помилки\n",
        "misclassified_indices = np.where(predict_values != y_test)[0]\n",
        "\n",
        "# Відобразимо на графіку частину з них з правильними та передбаченими мітками\n",
        "plt.figure(figsize=(12, 8))\n",
        "for i, index in enumerate(misclassified_indices[:20]):  # наприклад перші 20\n",
        "    image = x_test[index].reshape((28, 28))\n",
        "    true_label = y_test[index]\n",
        "    predicted_label = predict_values[index]\n",
        "\n",
        "    plt.subplot(4, 5, i + 1)\n",
        "    plt.imshow(image, cmap='gray')\n",
        "    plt.axis('off')\n",
        "    plt.title(f\"True: {true_label}, Predicted: {predicted_label}\")\n",
        "plt.show()"
      ]
    },
    {
      "cell_type": "code",
      "execution_count": null,
      "metadata": {
        "id": "wMqa8Vm4LBuV"
      },
      "outputs": [],
      "source": [
        "# Загальна кількість невлучних передбачень\n",
        "misclassified_indices.shape"
      ]
    },
    {
      "cell_type": "markdown",
      "metadata": {
        "id": "-_G9yWSjLBuV"
      },
      "source": [
        "## Висновок:\n",
        "\n",
        "Створена нейромережа в залежністі від запусків видає точність від 88 до 93%, що на мою думку є гарним результатом (було досягнуто підбором активаційної функції relu/sigmoid). Додатково до основного завдання реалізована робота над помилками: побудована матриця помилок з їх підрахунком, та візуалізовано частину з типових помилок. Знайдений недолік - втрачання пям'яті, який потрібно вирішити за допомогою декоратора @tf.function, але цей рефакторінг залишимо на опісля. Загальна проблема - наданої колабом потужності не вистачає на розрахунок цієї роботи, але вирішено за рахунок докера з контейнером tensoflow з документації бібліотеки"
      ]
    }
  ],
  "metadata": {
    "accelerator": "GPU",
    "colab": {
      "provenance": [],
      "include_colab_link": true
    },
    "kernelspec": {
      "display_name": "Python 3",
      "language": "python",
      "name": "python3"
    },
    "language_info": {
      "codemirror_mode": {
        "name": "ipython",
        "version": 3
      },
      "file_extension": ".py",
      "mimetype": "text/x-python",
      "name": "python",
      "nbconvert_exporter": "python",
      "pygments_lexer": "ipython3",
      "version": "3.10.9"
    }
  },
  "nbformat": 4,
  "nbformat_minor": 0
}
